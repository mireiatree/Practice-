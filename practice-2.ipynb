{
 "cells": [
  {
   "cell_type": "code",
   "execution_count": 1,
   "id": "8d89b6a9-80e1-47dd-80f6-0ae3a8a95534",
   "metadata": {},
   "outputs": [],
   "source": [
    "import pandas as pd\n",
    "import datetime as dt\n",
    "import seaborn as sns\n",
    "import numpy as np\n",
    "import matplotlib.pyplot as plt\n",
    "import datetime as dt\n",
    "\n",
    "%matplotlib inline"
   ]
  },
  {
   "cell_type": "code",
   "execution_count": 2,
   "id": "a922ac6a-3c4e-4187-8fe7-1390e1d519e2",
   "metadata": {},
   "outputs": [],
   "source": [
    "vols = [ 0.3, 0.06 ]\n",
    "dailyVols = vols / np.sqrt( 252 )\n",
    "corr = -0.4\n",
    "covars = [ \n",
    "    [ dailyVols[ 0 ] ** 2, dailyVols[ 0 ] * dailyVols[ 1 ] * corr ],\n",
    "    [ dailyVols[ 0 ] * dailyVols[ 1 ] * corr, dailyVols[ 1 ] ** 2 ]\n",
    "]\n",
    "randomSeries = np.random.multivariate_normal( ( 0.001, 0 ), covars, 500 ).T"
   ]
  },
  {
   "cell_type": "code",
   "execution_count": 3,
   "id": "ab305fb1-44ea-4c96-8429-ceef8baa8b7d",
   "metadata": {
    "scrolled": true
   },
   "outputs": [
    {
     "data": {
      "text/plain": [
       "array([[ 1.06557543e-02,  5.81517038e-03, -1.68292785e-03,\n",
       "        -9.04881153e-03,  3.19105217e-02,  3.39428146e-02,\n",
       "         2.39428629e-02,  2.21818721e-02,  6.23300869e-04,\n",
       "        -3.98760084e-02, -5.49721216e-03, -5.25577531e-03,\n",
       "        -2.20714527e-02,  1.17896952e-02, -1.82751699e-02,\n",
       "        -6.67345217e-03, -2.77996291e-02, -2.19499810e-02,\n",
       "        -1.23323795e-03, -2.78065357e-02,  6.06965304e-03,\n",
       "        -2.78482111e-02,  2.46513818e-02,  3.74459069e-04,\n",
       "        -6.62399424e-04,  3.92257983e-02, -1.79702591e-02,\n",
       "         1.14525185e-02, -6.87261533e-03,  2.27412467e-03,\n",
       "         4.69016291e-03,  1.22926094e-02, -1.00130329e-02,\n",
       "        -1.90274241e-02,  9.79740576e-04, -1.12062669e-02,\n",
       "         2.65675522e-02, -4.53025891e-02, -5.81324784e-03,\n",
       "         2.22532678e-02,  4.85701569e-03,  1.32768285e-02,\n",
       "         6.10477111e-03, -6.45275554e-03,  4.06020772e-02,\n",
       "        -1.44359033e-02,  1.58907036e-02,  2.57320520e-02,\n",
       "         2.64705605e-02, -7.71759340e-03, -2.30011833e-02,\n",
       "         1.73628964e-02,  2.32305858e-02,  1.04968791e-02,\n",
       "        -3.16666598e-02,  4.16072426e-03, -1.18907375e-02,\n",
       "        -1.53008252e-02, -4.76016690e-03, -8.90933208e-03,\n",
       "         1.68515907e-02, -7.22852617e-03, -1.03399278e-02,\n",
       "        -1.03631540e-03, -4.57253834e-03,  7.35882077e-03,\n",
       "         2.20736077e-02, -1.33536976e-02,  4.35856792e-03,\n",
       "         1.42906420e-02, -2.84919019e-02,  7.73654539e-04,\n",
       "        -3.15622398e-02, -4.49654356e-03, -3.76071039e-03,\n",
       "        -8.27758170e-03,  1.20991734e-02,  2.99533792e-03,\n",
       "         1.95215763e-02, -2.56649956e-03, -3.56539213e-03,\n",
       "         9.29850223e-03, -3.18193048e-03, -1.79615096e-02,\n",
       "        -1.85028932e-02, -2.04902401e-03, -2.99836926e-02,\n",
       "         2.14045269e-02, -1.27872106e-02,  2.00766989e-02,\n",
       "        -1.38747391e-02, -3.19742978e-02,  2.10037935e-02,\n",
       "        -7.48158639e-03,  2.00522534e-02, -4.78077105e-03,\n",
       "         2.03138571e-03,  1.45893285e-02,  2.65713780e-02,\n",
       "         1.42948718e-02, -3.26172058e-03,  2.03221428e-02,\n",
       "        -1.08478437e-02, -1.99187927e-03, -8.69896334e-03,\n",
       "         2.00763474e-02, -1.54257757e-02,  1.76232094e-02,\n",
       "        -1.53786517e-02,  1.16140292e-02,  1.85321042e-03,\n",
       "         7.51253749e-03,  8.95928908e-03,  3.16686792e-02,\n",
       "        -1.53772665e-02, -1.55123532e-02,  2.22513020e-02,\n",
       "        -1.38845801e-04,  2.78542906e-02, -7.61159078e-03,\n",
       "        -1.73304930e-02, -5.89276361e-02,  1.83014284e-03,\n",
       "         1.88825186e-02, -5.38597173e-03,  1.38777665e-03,\n",
       "         2.30503506e-03, -1.84623312e-02, -8.74384308e-03,\n",
       "        -1.34751145e-03,  4.94344446e-02, -1.88394909e-02,\n",
       "        -3.35648011e-02,  2.82629691e-02, -4.76741350e-03,\n",
       "         3.97827283e-04,  2.47498663e-02,  2.65143227e-02,\n",
       "        -5.32560799e-03, -2.38493409e-02, -2.27280266e-02,\n",
       "         2.24905039e-02, -5.10844466e-03, -2.58125718e-02,\n",
       "         5.46126798e-03,  2.64664775e-02, -2.60930369e-04,\n",
       "        -1.41235185e-02, -2.93431163e-03,  2.59884702e-02,\n",
       "         1.60444786e-02,  8.18719240e-03,  4.45881275e-04,\n",
       "         2.49758664e-02, -1.99235098e-02,  9.85748062e-03,\n",
       "        -4.10375820e-03, -1.66238852e-02,  1.85847864e-02,\n",
       "        -1.66271846e-02, -1.24871149e-02, -9.79726759e-03,\n",
       "        -1.53312248e-02, -3.04737918e-02,  2.03785546e-03,\n",
       "         3.15600979e-02, -2.43161677e-02, -1.28416667e-02,\n",
       "         9.47881598e-03, -4.65736984e-03,  1.88938700e-02,\n",
       "         9.43249690e-03, -1.82626482e-02, -1.45340325e-02,\n",
       "        -1.97926540e-02,  4.95889650e-03,  4.93534035e-04,\n",
       "        -2.07797013e-02,  1.77208889e-02,  2.46643750e-02,\n",
       "         1.30655367e-02,  2.31717495e-02,  1.48113709e-03,\n",
       "         1.18717896e-02, -5.33147764e-03, -1.69033307e-02,\n",
       "        -2.02089510e-02, -3.05373354e-02,  2.39841073e-02,\n",
       "        -2.23413635e-02,  8.44291275e-03, -2.39798121e-03,\n",
       "        -1.62920793e-02, -1.83859751e-02,  1.13219242e-02,\n",
       "         2.66484849e-02, -1.01732535e-02, -4.23673458e-03,\n",
       "        -1.80749176e-02,  6.16700555e-03,  1.47113220e-02,\n",
       "         3.57797968e-03, -3.03710982e-02, -9.62480759e-03,\n",
       "         1.83993645e-04,  1.80117520e-02, -2.34782252e-03,\n",
       "         3.81477445e-02, -1.84602302e-03,  9.44510581e-03,\n",
       "         2.46674281e-02, -1.42310364e-02, -4.24431446e-02,\n",
       "        -4.13994774e-02, -4.87967721e-03,  1.65097932e-02,\n",
       "         1.54985446e-02,  5.60523227e-03, -1.89928216e-04,\n",
       "         4.68633034e-03,  2.11552616e-02,  2.59604586e-02,\n",
       "         7.86245847e-03,  5.16071658e-03, -4.26438807e-03,\n",
       "        -9.17663489e-03, -2.44580146e-03, -1.09655303e-02,\n",
       "        -8.16355001e-03,  1.59318772e-02,  2.20232286e-02,\n",
       "        -1.99683076e-03, -1.90633184e-02,  2.54211039e-02,\n",
       "         4.89145679e-03, -3.78152584e-03,  7.38358882e-03,\n",
       "         1.76913673e-03, -2.38479180e-02, -5.96446270e-03,\n",
       "         2.57016709e-02, -1.35570444e-02,  3.63551407e-03,\n",
       "         7.50716311e-03, -2.40644232e-02,  2.45462744e-02,\n",
       "         1.25948425e-02, -6.14155882e-03,  3.35720340e-03,\n",
       "         3.07652317e-02,  1.11740614e-02,  1.28058805e-02,\n",
       "        -9.53575632e-03, -1.36219007e-02,  2.00671343e-02,\n",
       "         4.42818684e-02,  3.76993586e-02,  1.51003990e-02,\n",
       "         9.04706255e-03, -1.86632583e-02, -1.79357723e-02,\n",
       "         1.74722467e-02, -1.32764097e-03,  1.12829875e-02,\n",
       "         3.23576972e-03,  7.91942711e-03,  2.55039643e-02,\n",
       "        -9.47650068e-03, -2.16933180e-02,  6.10673373e-03,\n",
       "         2.14493039e-03,  1.66714138e-02, -1.15922056e-02,\n",
       "        -2.03735033e-02, -5.33710954e-03, -3.15996599e-02,\n",
       "        -6.61274194e-03,  5.75407620e-03,  1.44662405e-02,\n",
       "         3.40349617e-03, -3.02166774e-02,  1.16988706e-02,\n",
       "        -2.52868602e-02,  7.35297686e-03,  1.15808520e-02,\n",
       "        -5.33410020e-02,  6.05053052e-03,  1.46985771e-02,\n",
       "        -3.10115432e-02, -5.54982817e-04,  1.04377736e-02,\n",
       "         3.74329032e-03,  1.44388516e-02, -4.63912078e-03,\n",
       "         6.02606841e-03, -2.15642571e-02, -5.47998280e-03,\n",
       "         1.58514155e-02, -2.94732962e-02,  1.36925757e-02,\n",
       "         9.57916303e-03, -1.81011582e-02, -1.86895859e-02,\n",
       "         1.87770665e-02,  4.61515660e-03, -2.53208319e-03,\n",
       "         1.20547324e-02, -1.11102865e-03,  2.65870736e-02,\n",
       "         5.34699585e-02,  4.14241862e-03,  1.38035539e-02,\n",
       "        -1.89063167e-02,  2.68860567e-03, -4.31714352e-02,\n",
       "         3.40804671e-02, -3.00269854e-02, -3.48759603e-02,\n",
       "        -4.65385850e-03, -1.13370706e-02, -2.05812903e-02,\n",
       "         2.87958887e-02,  2.43046573e-02, -3.27865084e-02,\n",
       "         1.04916150e-02, -1.56843899e-02,  1.99961929e-02,\n",
       "         1.10078628e-02,  2.78957439e-03, -8.23610354e-03,\n",
       "         5.44245809e-03,  3.98885305e-03,  7.58768916e-03,\n",
       "         1.17239591e-02,  1.96056264e-02,  2.47858512e-03,\n",
       "        -1.84972832e-02,  1.85254017e-02, -1.73969340e-02,\n",
       "        -2.05440652e-02, -4.06642779e-03, -6.72787885e-03,\n",
       "         1.64265428e-02,  6.80979230e-03,  1.43463109e-02,\n",
       "        -4.06216440e-03,  1.64628142e-02, -2.78258141e-02,\n",
       "        -7.19214004e-03, -1.78149602e-03,  2.37428420e-02,\n",
       "        -1.18550187e-02,  3.35488504e-03,  9.57392355e-03,\n",
       "        -2.50096924e-02,  4.13059976e-02, -1.42550921e-02,\n",
       "         2.15726116e-02,  1.31099476e-02, -4.15745633e-02,\n",
       "        -5.76008480e-03,  3.66867618e-02, -1.60839969e-02,\n",
       "         3.68081496e-02,  7.40951370e-03,  1.15938995e-02,\n",
       "        -7.30270754e-03,  1.56544614e-02,  5.55081802e-04,\n",
       "        -1.06095953e-02,  1.51829357e-02,  5.36329124e-03,\n",
       "         3.08237088e-02,  6.43197203e-05,  1.22670061e-02,\n",
       "        -2.45851578e-02, -3.03102508e-02,  3.15569663e-03,\n",
       "         2.61351175e-03,  2.81053943e-02, -2.77124692e-02,\n",
       "         2.88232374e-02, -3.39575405e-02,  1.06555817e-02,\n",
       "        -2.04675806e-02,  9.25954261e-03, -3.36378288e-02,\n",
       "         1.04687717e-03,  2.49761387e-02,  4.41291811e-03,\n",
       "         8.40469414e-03, -2.44639721e-03,  5.23244823e-03,\n",
       "        -2.36081057e-02, -3.77795901e-03,  6.42721431e-03,\n",
       "        -1.01221559e-02,  2.80640014e-02, -1.03430564e-02,\n",
       "        -5.09924380e-02,  7.78867133e-03,  2.80507213e-03,\n",
       "         2.19002214e-02,  9.07242974e-04, -6.60375034e-03,\n",
       "        -7.47282831e-03, -1.15849527e-02,  1.62824543e-02,\n",
       "         2.38652512e-02,  3.31377430e-02, -4.72943416e-02,\n",
       "        -2.42485648e-02, -1.15064724e-02, -3.70252244e-03,\n",
       "        -2.01928760e-02,  3.04039228e-02,  1.09214062e-03,\n",
       "        -1.59145073e-02, -1.86646081e-02,  7.73482784e-03,\n",
       "         7.85158042e-03,  3.73285440e-03,  2.79880430e-02,\n",
       "        -3.64286381e-02, -2.11796899e-02, -1.51529498e-02,\n",
       "         1.55482053e-02, -1.93176114e-02,  1.63236269e-02,\n",
       "         1.43464432e-02, -6.52317392e-03, -4.95426670e-03,\n",
       "         3.08932086e-03,  1.71275728e-03, -1.07078323e-02,\n",
       "         2.82177619e-02,  4.42281544e-03,  3.87131494e-02,\n",
       "         1.04109070e-02,  5.99792746e-03, -5.56171526e-03,\n",
       "        -1.95173939e-02,  9.39601609e-03, -1.27238234e-02,\n",
       "         2.15016450e-02,  7.88387253e-03, -1.18222408e-03,\n",
       "         2.79138623e-02, -3.06426516e-03, -8.30658833e-03,\n",
       "         5.67646708e-03,  9.97694918e-04,  1.06716277e-02,\n",
       "         3.98273564e-02,  9.62213091e-03,  1.24330914e-02,\n",
       "         8.79165014e-03,  1.94963590e-02,  2.16757246e-02,\n",
       "         1.33132868e-02,  1.95700881e-02, -1.06927125e-02,\n",
       "        -3.11224635e-02, -4.26493797e-03,  2.50504186e-03,\n",
       "        -1.34707816e-02,  4.64761774e-03, -1.84726557e-02,\n",
       "         5.28417512e-03,  3.32092798e-02,  7.61551074e-06,\n",
       "        -1.33543455e-02,  2.38843019e-02,  3.88187480e-02,\n",
       "         1.48042861e-03, -2.31192933e-02,  3.08844734e-02,\n",
       "        -1.65694493e-02,  3.24493761e-02,  7.70706311e-03,\n",
       "        -1.47417495e-02,  2.14483685e-02,  1.64178963e-02,\n",
       "         2.07997435e-02, -4.56520134e-03, -5.89056391e-03,\n",
       "         2.49748038e-02, -2.55680985e-03,  1.89112249e-02,\n",
       "         2.61947807e-02,  1.22349424e-02, -2.93547217e-02,\n",
       "        -7.16468146e-03,  1.45540488e-02,  1.85342354e-03,\n",
       "         3.40986368e-03,  5.03765548e-03,  6.40210907e-03,\n",
       "        -8.83767017e-03,  1.38588414e-02],\n",
       "       [-3.69397378e-03,  6.35597713e-04,  3.99514685e-03,\n",
       "        -2.01042265e-03, -2.52013642e-03, -5.08781455e-04,\n",
       "        -5.21541611e-03,  6.34025737e-03,  1.42923685e-04,\n",
       "         6.24007397e-03, -1.83861627e-04, -6.48086352e-03,\n",
       "         7.22237203e-04, -6.64062606e-03,  2.63275447e-03,\n",
       "        -8.14604731e-04, -2.86759659e-03,  5.31256077e-03,\n",
       "        -6.40197709e-03, -1.24404170e-03,  1.63701614e-03,\n",
       "         3.17370207e-03, -1.91704492e-03,  2.03687324e-03,\n",
       "        -1.07367179e-03, -6.90358868e-03, -3.76485215e-03,\n",
       "         1.72153264e-03,  8.82597417e-03, -1.70338907e-03,\n",
       "        -1.42330648e-03, -3.14348533e-03, -4.18206253e-03,\n",
       "        -2.95760068e-03, -2.90840181e-03, -3.52895586e-03,\n",
       "        -9.81148788e-03,  1.14006155e-02,  1.68636358e-03,\n",
       "        -4.36224350e-03,  5.97864856e-03,  1.51775017e-03,\n",
       "        -4.02161687e-03,  5.01429922e-03,  3.53853564e-03,\n",
       "         3.28668991e-03, -2.97435216e-03, -7.71183553e-03,\n",
       "        -1.15534346e-03, -1.77341418e-03, -2.15246261e-03,\n",
       "        -3.28450855e-03,  1.24122864e-02, -4.72576048e-03,\n",
       "         4.94355984e-03,  6.97429922e-03,  6.31666079e-03,\n",
       "         5.06889473e-03, -1.17982573e-03,  4.78435967e-03,\n",
       "        -3.39861564e-04,  3.68918847e-03,  3.67488717e-03,\n",
       "        -7.21584451e-05, -4.13011813e-03, -5.08163394e-04,\n",
       "        -4.24967002e-03,  3.87402906e-04, -3.13298069e-03,\n",
       "         2.67416741e-03,  6.50130770e-03,  3.13421196e-04,\n",
       "         4.33791381e-03, -2.80313579e-03,  4.00994910e-03,\n",
       "         5.00901977e-03,  2.58715403e-03,  2.95261684e-03,\n",
       "        -4.38856318e-03,  5.66645361e-04,  5.89083104e-03,\n",
       "        -5.03864575e-03, -9.12979780e-03,  1.89679033e-03,\n",
       "         6.52046418e-03,  4.08987002e-04,  4.42777249e-03,\n",
       "        -2.07302684e-04, -9.71483607e-04,  9.48633989e-03,\n",
       "         1.46977050e-03,  2.52745513e-04,  2.86940357e-03,\n",
       "        -7.81316973e-04, -1.08863411e-03, -6.27989866e-03,\n",
       "        -7.30018603e-04, -5.20971097e-03, -2.21114162e-03,\n",
       "         5.83609742e-03, -5.70415254e-03, -1.00530580e-03,\n",
       "         3.34394680e-03,  1.64539175e-03,  4.92545816e-03,\n",
       "        -3.59404939e-03, -3.51230817e-03, -2.31400528e-03,\n",
       "        -1.35083775e-03, -1.40452431e-03,  1.22804103e-03,\n",
       "        -2.33079133e-03,  3.95617733e-03, -2.37246250e-03,\n",
       "         4.33456406e-03,  4.00200131e-03,  3.22108040e-03,\n",
       "         2.78115035e-03, -3.72561805e-03,  1.34763935e-03,\n",
       "        -3.76746552e-03,  9.03618596e-03,  6.62328870e-03,\n",
       "        -7.08316044e-03,  8.92624292e-05, -1.20046457e-03,\n",
       "        -3.23544646e-03, -4.54898399e-03, -5.73137829e-03,\n",
       "         1.55192201e-03, -5.63772084e-03,  3.10241724e-04,\n",
       "        -4.49799149e-03,  4.19889396e-03, -2.35605125e-03,\n",
       "         3.99054639e-04, -9.08567895e-03,  7.77126422e-04,\n",
       "        -4.54239643e-03,  4.65331683e-03, -8.01883290e-04,\n",
       "        -2.55340308e-03,  4.34958948e-04,  3.33646406e-03,\n",
       "         4.65315475e-03, -4.63764406e-03,  2.61540859e-03,\n",
       "        -1.04704225e-03, -5.36392545e-03,  1.90739949e-03,\n",
       "        -1.15873808e-03, -5.97061089e-03, -4.82247384e-03,\n",
       "         3.23386866e-03,  1.04142774e-03, -3.51814486e-03,\n",
       "        -1.87129011e-03,  3.88661262e-03, -6.65956144e-03,\n",
       "         4.36527079e-03,  4.17836714e-03,  1.07410102e-03,\n",
       "         4.41957316e-03,  4.72543534e-03, -1.05872484e-03,\n",
       "        -1.84748566e-05,  3.52163905e-03,  2.77482166e-03,\n",
       "        -4.03355974e-03,  1.82491704e-03,  1.79362047e-03,\n",
       "        -3.88409023e-03,  1.01360282e-03,  1.18217862e-03,\n",
       "         6.43393902e-03,  3.55059704e-03, -1.58633693e-03,\n",
       "         1.71653528e-03, -1.06946191e-03, -5.75365554e-03,\n",
       "         2.48373157e-04,  2.01979507e-03, -4.69850248e-03,\n",
       "        -1.35032288e-03,  9.74438233e-03, -1.99698970e-03,\n",
       "        -3.14611712e-03,  3.10871426e-03, -2.48122802e-03,\n",
       "        -8.86598057e-04, -1.65300418e-03,  1.37667246e-04,\n",
       "         1.01491078e-03, -5.11009064e-04,  7.04142074e-04,\n",
       "        -6.71764629e-04,  3.12830856e-03,  7.97826308e-04,\n",
       "         8.44048625e-03, -1.32591732e-05,  5.55495559e-03,\n",
       "        -5.64302304e-04,  3.24666128e-03, -1.23770632e-03,\n",
       "         4.77982565e-03, -4.36908030e-03,  9.11348848e-03,\n",
       "        -2.00413792e-03,  7.36657122e-03,  1.54610066e-03,\n",
       "        -3.75490708e-03,  8.11321881e-03,  3.00221526e-03,\n",
       "         6.09450635e-03,  2.04032774e-03,  5.82041706e-03,\n",
       "        -2.37085118e-03,  1.12258185e-04, -2.72225271e-03,\n",
       "        -6.82235875e-03, -3.13609798e-03,  2.29680845e-03,\n",
       "        -6.34736254e-03,  6.97255122e-04,  6.58070277e-03,\n",
       "        -1.29325989e-03, -3.76644959e-03, -2.04914582e-03,\n",
       "         7.49723374e-03, -9.98944868e-04,  5.48350375e-04,\n",
       "        -2.33490050e-03, -2.19287499e-06,  6.52204033e-04,\n",
       "        -2.01617167e-03, -4.52172038e-03, -3.78077868e-03,\n",
       "         5.13400871e-04,  1.46548125e-03,  3.28984350e-03,\n",
       "         2.10057023e-03, -1.51658130e-04,  2.51302666e-05,\n",
       "        -6.79799953e-03,  1.07295693e-03, -2.14909973e-03,\n",
       "         2.96854219e-03,  1.01127419e-03, -2.63809912e-03,\n",
       "        -1.34012518e-03,  1.12338668e-03, -9.08280429e-03,\n",
       "        -9.16182137e-03, -2.20532592e-03,  7.92589656e-04,\n",
       "        -2.16313537e-03,  7.39593260e-04, -3.05904730e-03,\n",
       "         1.72302449e-03,  3.29869682e-03,  9.36479673e-04,\n",
       "        -1.37600108e-03, -5.18346868e-03,  6.57563851e-03,\n",
       "         4.07793199e-05, -5.75426524e-03,  4.95891318e-04,\n",
       "         1.25463365e-05,  8.25927574e-04, -1.96468111e-03,\n",
       "         3.22456611e-03, -3.65680488e-03, -2.25134406e-03,\n",
       "        -4.12956640e-03, -1.01088988e-03,  2.63588406e-03,\n",
       "         2.79561117e-03, -9.16104639e-03, -5.79108264e-04,\n",
       "        -6.90804215e-04,  1.31771851e-02, -6.61563867e-04,\n",
       "        -3.11064048e-03,  5.83419864e-03,  7.56339843e-04,\n",
       "         5.26758456e-03, -7.35331141e-03, -2.01943311e-04,\n",
       "         7.29191633e-03, -3.14861368e-03,  6.22415344e-03,\n",
       "         1.05589539e-03, -6.01171481e-03,  3.76622933e-03,\n",
       "        -1.10917489e-03,  5.65959311e-04,  4.92161923e-03,\n",
       "        -2.82287870e-05, -2.77723981e-03,  1.39294722e-05,\n",
       "        -1.41857504e-03,  1.62077706e-03, -4.65103076e-03,\n",
       "        -6.60065626e-04, -1.73457763e-03, -3.59476164e-03,\n",
       "        -7.31701572e-03,  1.49890181e-03, -7.78247947e-03,\n",
       "        -4.88218290e-03,  3.17673732e-03, -2.37822108e-03,\n",
       "        -3.94287799e-04,  3.82850432e-03,  5.08845843e-03,\n",
       "        -6.99826780e-06, -1.64712622e-03,  2.44531833e-03,\n",
       "        -5.25895167e-03, -3.88863744e-03,  1.25295004e-04,\n",
       "        -1.38545776e-03, -4.67521275e-03,  5.48525656e-03,\n",
       "         4.49877974e-03,  2.29941513e-03, -6.32343508e-03,\n",
       "        -3.45263960e-03,  4.28762135e-03, -3.69368692e-03,\n",
       "        -5.37223985e-03, -4.74936852e-03,  5.80193321e-04,\n",
       "        -7.79492476e-04, -1.93897430e-03,  2.65782582e-03,\n",
       "         5.97782908e-03, -4.45507572e-03,  2.33206221e-03,\n",
       "         1.01216620e-03,  9.86482271e-04, -1.85914977e-03,\n",
       "        -4.37358661e-03, -5.18135047e-03,  4.21157303e-03,\n",
       "         4.97868777e-03, -3.99077591e-03,  9.35768539e-04,\n",
       "         5.43149613e-03,  4.33127133e-03, -5.01176888e-03,\n",
       "        -3.27009617e-03, -3.71422183e-03,  5.70780712e-03,\n",
       "         1.47658855e-03, -4.56112345e-04,  6.99080629e-04,\n",
       "         2.12467623e-03,  2.86158788e-03, -3.07279544e-03,\n",
       "         2.51071957e-03, -8.90330048e-03, -4.32542662e-04,\n",
       "        -5.19074187e-03, -2.04650684e-03,  1.02421738e-03,\n",
       "         6.12845063e-03, -2.36063120e-03,  1.27357799e-03,\n",
       "         2.07555902e-03,  2.08257261e-03, -3.77230425e-03,\n",
       "        -4.85790504e-03, -4.99465334e-04,  5.81570138e-03,\n",
       "         7.54528682e-04,  7.87866046e-03, -1.78671192e-03,\n",
       "         5.33589451e-03, -4.32452441e-03,  3.04905652e-03,\n",
       "        -5.02643765e-03,  1.65532137e-03,  2.90226191e-03,\n",
       "        -2.23095464e-03, -9.26208222e-03, -1.14625960e-03,\n",
       "         7.41412334e-04, -8.12337170e-04, -3.42142037e-03,\n",
       "        -3.76640831e-03, -1.27895012e-04, -3.24104567e-03,\n",
       "        -1.20182568e-03,  5.17813838e-03,  3.69291989e-03,\n",
       "         2.70477501e-03, -5.93551679e-03, -3.40557589e-04,\n",
       "        -4.64102507e-03,  4.09671592e-04,  3.12344764e-04,\n",
       "        -2.79283522e-03,  1.86918510e-03,  2.01747357e-03,\n",
       "        -5.25063865e-03,  5.79099243e-03,  1.80730078e-03,\n",
       "        -1.24676814e-03,  1.40112043e-03,  7.26253521e-03,\n",
       "         3.95109478e-03,  2.67395333e-03,  4.14614016e-03,\n",
       "         5.21614387e-03, -7.10933849e-04,  4.89063845e-04,\n",
       "        -1.90282994e-03, -3.90235932e-03,  1.21319918e-03,\n",
       "         3.38057655e-04, -7.47938317e-04, -2.19390236e-03,\n",
       "        -3.77994558e-03, -7.12740056e-06, -3.02539160e-04,\n",
       "        -2.64249669e-03,  3.26261832e-03, -5.18446831e-04,\n",
       "        -3.15106061e-03,  3.23345461e-03, -1.53626220e-03,\n",
       "         2.97414851e-04, -1.02018953e-03,  3.90372966e-03,\n",
       "        -3.13304273e-03,  4.38398850e-03,  6.83786509e-04,\n",
       "        -2.91613086e-05, -2.45695255e-03,  2.69833162e-03,\n",
       "        -5.72358132e-04, -1.26654225e-03,  2.90539163e-03,\n",
       "         2.85049525e-03, -3.18898061e-04, -1.61285568e-03,\n",
       "        -3.91820116e-03,  7.49344196e-03,  2.70682871e-03,\n",
       "        -4.36961175e-04, -2.65488032e-03,  1.82021254e-03,\n",
       "        -3.03124662e-03, -1.18064806e-03, -2.37504081e-03,\n",
       "         5.12624049e-03, -2.03997609e-03, -2.16831612e-03,\n",
       "        -1.68269361e-03, -7.38444007e-04,  8.13084666e-04,\n",
       "         1.71966940e-03,  1.05151940e-03,  6.24453576e-03,\n",
       "        -2.24441108e-03, -3.76047067e-04,  1.62482994e-03,\n",
       "         1.79347431e-03,  4.25021048e-03,  8.34053830e-04,\n",
       "         1.39783916e-03, -2.49277527e-03, -4.46129243e-04,\n",
       "         1.01538272e-03,  1.22068683e-03, -6.05368350e-03,\n",
       "         8.87286494e-04, -2.50703105e-04, -2.83616247e-04,\n",
       "        -1.23944134e-03,  1.50598413e-03, -5.50260603e-03,\n",
       "         4.25924030e-03, -3.16520408e-03, -2.45087744e-03,\n",
       "        -1.68851953e-03,  1.10368267e-03,  2.08729323e-03,\n",
       "        -6.57138697e-04,  7.35625402e-03,  6.65310758e-03,\n",
       "        -4.29475866e-03, -6.17112673e-03, -3.36986577e-03,\n",
       "         4.22801889e-04,  3.87674054e-03, -5.35013600e-03,\n",
       "         1.00996249e-04, -4.62944844e-03]])"
      ]
     },
     "execution_count": 3,
     "metadata": {},
     "output_type": "execute_result"
    }
   ],
   "source": [
    "randomSeries"
   ]
  },
  {
   "cell_type": "code",
   "execution_count": 4,
   "id": "b8f11182-dc8f-49f6-abef-6d71638125c0",
   "metadata": {},
   "outputs": [],
   "source": [
    "rtyVol = 0.2 * ( 1 + randomSeries[ 0 ] ).cumprod()\n",
    "hygPrice = 80 * ( 1 + randomSeries[ 1 ] ).cumprod()"
   ]
  },
  {
   "cell_type": "code",
   "execution_count": 5,
   "id": "eaf91fdd-da92-48f8-a943-14a7ded4d5fc",
   "metadata": {},
   "outputs": [],
   "source": [
    "df = pd.DataFrame(np.array([rtyVol, hygPrice]).T, columns=[\"RTY.3m.Proxy.Implied.Vol\", \"HYG.spot\"])"
   ]
  },
  {
   "cell_type": "code",
   "execution_count": 6,
   "id": "206185bf-ee51-4576-a992-f28dc7f4c92a",
   "metadata": {},
   "outputs": [
    {
     "data": {
      "text/html": [
       "<div>\n",
       "<style scoped>\n",
       "    .dataframe tbody tr th:only-of-type {\n",
       "        vertical-align: middle;\n",
       "    }\n",
       "\n",
       "    .dataframe tbody tr th {\n",
       "        vertical-align: top;\n",
       "    }\n",
       "\n",
       "    .dataframe thead th {\n",
       "        text-align: right;\n",
       "    }\n",
       "</style>\n",
       "<table border=\"1\" class=\"dataframe\">\n",
       "  <thead>\n",
       "    <tr style=\"text-align: right;\">\n",
       "      <th></th>\n",
       "      <th>RTY.3m.Proxy.Implied.Vol</th>\n",
       "      <th>HYG.spot</th>\n",
       "    </tr>\n",
       "  </thead>\n",
       "  <tbody>\n",
       "    <tr>\n",
       "      <th>0</th>\n",
       "      <td>0.202131</td>\n",
       "      <td>79.704482</td>\n",
       "    </tr>\n",
       "    <tr>\n",
       "      <th>1</th>\n",
       "      <td>0.203307</td>\n",
       "      <td>79.755142</td>\n",
       "    </tr>\n",
       "    <tr>\n",
       "      <th>2</th>\n",
       "      <td>0.202964</td>\n",
       "      <td>80.073776</td>\n",
       "    </tr>\n",
       "    <tr>\n",
       "      <th>3</th>\n",
       "      <td>0.201128</td>\n",
       "      <td>79.912793</td>\n",
       "    </tr>\n",
       "    <tr>\n",
       "      <th>4</th>\n",
       "      <td>0.207546</td>\n",
       "      <td>79.711402</td>\n",
       "    </tr>\n",
       "  </tbody>\n",
       "</table>\n",
       "</div>"
      ],
      "text/plain": [
       "   RTY.3m.Proxy.Implied.Vol   HYG.spot\n",
       "0                  0.202131  79.704482\n",
       "1                  0.203307  79.755142\n",
       "2                  0.202964  80.073776\n",
       "3                  0.201128  79.912793\n",
       "4                  0.207546  79.711402"
      ]
     },
     "execution_count": 6,
     "metadata": {},
     "output_type": "execute_result"
    }
   ],
   "source": [
    "df.head()"
   ]
  },
  {
   "cell_type": "code",
   "execution_count": 7,
   "id": "f03f0dbb-b9be-465c-a21e-dd1623310e78",
   "metadata": {},
   "outputs": [
    {
     "data": {
      "text/plain": [
       "<Axes: >"
      ]
     },
     "execution_count": 7,
     "metadata": {},
     "output_type": "execute_result"
    },
    {
     "data": {
      "image/png": "[encoded data removed]",
      "text/plain": [
       "<Figure size 640x480 with 1 Axes>"
      ]
     },
     "metadata": {},
     "output_type": "display_data"
    }
   ],
   "source": [
    "df.plot()"
   ]
  },
  {
   "cell_type": "code",
   "execution_count": 9,
   "id": "b4ed4b22-9ad6-410e-8023-5bdd8eb0bc65",
   "metadata": {},
   "outputs": [
    {
     "data": {
      "image/png": "[encoded data removed]",
      "text/plain": [
       "<Figure size 640x480 with 2 Axes>"
      ]
     },
     "metadata": {},
     "output_type": "display_data"
    }
   ],
   "source": [
    "plt.style.use('ggplot') \n",
    "df.plot(secondary_y=[\"HYG.spot\"], legend=True)\n",
    "plt.show() "
   ]
  },
  {
   "cell_type": "code",
   "execution_count": 10,
   "id": "7bbe3a3c-da55-4f2c-9470-33c4d15e1c7f",
   "metadata": {},
   "outputs": [
    {
     "data": {
      "text/plain": [
       "<Axes: >"
      ]
     },
     "execution_count": 10,
     "metadata": {},
     "output_type": "execute_result"
    },
    {
     "data": {
      "image/png": "[encoded data removed]",
      "text/plain": [
       "<Figure size 640x480 with 2 Axes>"
      ]
     },
     "metadata": {},
     "output_type": "display_data"
    }
   ],
   "source": [
    "df[\"RTY.3m.Proxy.Implied.Vol\"] = df[\"RTY.3m.Proxy.Implied.Vol\"] * -1\n",
    "df.plot(secondary_y=[\"HYG.spot\"], legend=True)"
   ]
  },
  {
   "cell_type": "code",
   "execution_count": 11,
   "id": "4f3ef3be-87e1-428e-a65b-1d9bcfeb85e4",
   "metadata": {},
   "outputs": [
    {
     "data": {
      "text/plain": [
       "<matplotlib.collections.PathCollection at 0x16b915850>"
      ]
     },
     "execution_count": 11,
     "metadata": {},
     "output_type": "execute_result"
    },
    {
     "data": {
      "image/png": "[encoded data removed]",
      "text/plain": [
       "<Figure size 640x480 with 1 Axes>"
      ]
     },
     "metadata": {},
     "output_type": "display_data"
    }
   ],
   "source": [
    "plt.scatter( df[ df.columns[ 0 ] ], df[ df.columns[ 1 ] ] )"
   ]
  },
  {
   "cell_type": "code",
   "execution_count": 12,
   "id": "a0c36d1d-9f9b-48fe-9a29-460fe320632e",
   "metadata": {},
   "outputs": [
    {
     "data": {
      "text/plain": [
       "<Axes: xlabel='HYG.spot', ylabel='RTY.3m.Proxy.Implied.Vol'>"
      ]
     },
     "execution_count": 12,
     "metadata": {},
     "output_type": "execute_result"
    },
    {
     "data": {
      "image/png": "[encoded data removed]",
      "text/plain": [
       "<Figure size 640x480 with 1 Axes>"
      ]
     },
     "metadata": {},
     "output_type": "display_data"
    }
   ],
   "source": [
    "fig, ax = plt.subplots( sharex=True )\n",
    "sns.regplot( x=\"HYG.spot\", y=\"RTY.3m.Proxy.Implied.Vol\", data=df.diff(), ax=ax )"
   ]
  },
  {
   "cell_type": "code",
   "execution_count": 13,
   "id": "31f8c58b-61f1-4fa7-9fb2-d74d88eb28b9",
   "metadata": {},
   "outputs": [
    {
     "name": "stdout",
     "output_type": "stream",
     "text": [
      "R^2 = 0.321\n",
      "y = 0.004x - 0.000\n"
     ]
    }
   ],
   "source": [
    "from scipy import stats\n",
    "\n",
    "diff = df.diff().dropna()\n",
    "slope, intercept, rvalue, pvalue, stderr = stats.linregress(diff[\"HYG.spot\"], diff[\"RTY.3m.Proxy.Implied.Vol\"])\n",
    "print( \"R^2 = {r:.3f}\".format( r=rvalue ) )\n",
    "print( 'y = {m:.3f}x {sign} {b:.3f}'.format( m=slope, sign=\"+\" if intercept >= 0 else \"-\", b=abs(intercept) ) )"
   ]
  },
  {
   "cell_type": "code",
   "execution_count": 16,
   "id": "b8beed9f-1381-4f82-a1fe-5529265c7415",
   "metadata": {},
   "outputs": [
    {
     "data": {
      "text/html": [
       "        <script type=\"text/javascript\">\n",
       "        window.PlotlyConfig = {MathJaxConfig: 'local'};\n",
       "        if (window.MathJax && window.MathJax.Hub && window.MathJax.Hub.Config) {window.MathJax.Hub.Config({SVG: {font: \"STIX-Web\"}});}\n",
       "        </script>\n",
       "        <script type=\"module\">import \"https://cdn.plot.ly/plotly-3.0.0.min\"</script>\n",
       "        "
      ]
     },
     "metadata": {},
     "output_type": "display_data"
    },
    {
     "data": {
      "application/vnd.plotly.v1+json": {
       "config": {
        "linkText": "Export to plot.ly",
        "plotlyServerURL": "https://plot.ly",
        "showLink": false
       },
       "data": [
        {
         "line": {
          "color": "rgba (226, 74, 51, 1)",
          "dash": "solid",
          "width": 2.25
         },
         "mode": "lines",
         "name": "_child1",
         "type": "scatter",
         "x": [
          -0.7625249034323502,
          -0.7441031645289902,
          -0.7256814256256302,
          -0.7072596867222701,
          -0.6888379478189102,
          -0.6704162089155501,
          -0.65199447001219,
          -0.63357273110883,
          -0.61515099220547,
          -0.59672925330211,
          -0.5783075143987499,
          -0.5598857754953899,
          -0.5414640365920298,
          -0.5230422976886698,
          -0.5046205587853098,
          -0.48619881988194974,
          -0.4677770809785897,
          -0.4493553420752297,
          -0.4309336031718697,
          -0.4125118642685096,
          -0.3940901253651496,
          -0.37566838646178957,
          -0.3572466475584295,
          -0.3388249086550695,
          -0.32040316975170946,
          -0.30198143084834944,
          -0.2835596919449894,
          -0.26513795304162935,
          -0.24671621413826927,
          -0.2282944752349093,
          -0.20987273633154924,
          -0.19145099742818927,
          -0.1730292585248292,
          -0.15460751962146912,
          -0.13618578071810916,
          -0.11776404181474909,
          -0.09934230291138912,
          -0.08092056400802905,
          -0.062498825104668976,
          -0.04407708620130901,
          -0.02565534729794894,
          -0.007233608394588864,
          0.0111881305087711,
          0.029609869412131173,
          0.04803160831549125,
          0.06645334721885121,
          0.08487508612221129,
          0.10329682502557125,
          0.12171856392893132,
          0.1401403028322914,
          0.15856204173565136,
          0.17698378063901143,
          0.1954055195423714,
          0.21382725844573147,
          0.23224899734909155,
          0.2506707362524516,
          0.2690924751558117,
          0.28751421405917155,
          0.3059359529625316,
          0.3243576918658917,
          0.34277943076925177,
          0.36120116967261184,
          0.3796229085759717,
          0.39804464747933177,
          0.41646638638269184,
          0.4348881252860519,
          0.453309864189412,
          0.47173160309277185,
          0.4901533419961319,
          0.508575080899492,
          0.5269968198028521,
          0.5454185587062121,
          0.563840297609572,
          0.5822620365129321,
          0.6006837754162921,
          0.6191055143196522,
          0.6375272532230123,
          0.6559489921263724,
          0.6743707310297322,
          0.6927924699330923,
          0.7112142088364524,
          0.7296359477398124,
          0.7480576866431725,
          0.7664794255465324,
          0.7849011644498924,
          0.8033229033532525,
          0.8217446422566126,
          0.8401663811599727,
          0.8585881200633327,
          0.8770098589666926,
          0.8954315978700527,
          0.9138533367734127,
          0.9322750756767728,
          0.9506968145801329,
          0.9691185534834927,
          0.9875402923868528,
          1.0059620312902129,
          1.024383770193573,
          1.042805509096933,
          1.0612272480002929
         ],
         "xaxis": "x",
         "y": [
          -0.0034101684199528493,
          -0.0033334679319405158,
          -0.0032567674439281822,
          -0.0031800669559158487,
          -0.003103366467903515,
          -0.0030266659798911816,
          -0.0029499654918788477,
          -0.002873265003866514,
          -0.002796564515854181,
          -0.0027198640278418475,
          -0.002643163539829514,
          -0.00256646305181718,
          -0.0024897625638048465,
          -0.002413062075792513,
          -0.0023363615877801795,
          -0.002259661099767846,
          -0.0021829606117555124,
          -0.002106260123743179,
          -0.0020295596357308454,
          -0.0019528591477185116,
          -0.001876158659706178,
          -0.0017994581716938448,
          -0.001722757683681511,
          -0.0016460571956691775,
          -0.001569356707656844,
          -0.0014926562196445105,
          -0.001415955731632177,
          -0.0013392552436198432,
          -0.0012625547556075094,
          -0.0011858542675951761,
          -0.0011091537795828424,
          -0.0010324532915705093,
          -0.0009557528035581754,
          -0.0008790523155458417,
          -0.0008023518275335085,
          -0.0007256513395211747,
          -0.0006489508515088414,
          -0.0005722503634965077,
          -0.000495549875484174,
          -0.00041884938747184075,
          -0.000342148899459507,
          -0.00026544841144717326,
          -0.00018874792343484,
          -0.00011204743542250626,
          -3.534694741017253e-05,
          4.135354060216074e-05,
          0.00011805402861449447,
          0.00019475451662682774,
          0.0002714550046391615,
          0.00034815549265149523,
          0.0004248559806638285,
          0.0005015564686761622,
          0.0005782569566884954,
          0.0006549574447008292,
          0.0007316579327131629,
          0.0008083584207254967,
          0.0008850589087378304,
          0.0009617593967501632,
          0.001038459884762497,
          0.0011151603727748308,
          0.0011918608607871645,
          0.001268561348799498,
          0.001345261836811831,
          0.0014219623248241647,
          0.0014986628128364984,
          0.0015753633008488322,
          0.001652063788861166,
          0.0017287642768734988,
          0.0018054647648858325,
          0.0018821652528981663,
          0.0019588657409105,
          0.0020355662289228338,
          0.0021122667169351664,
          0.0021889672049475004,
          0.002265667692959834,
          0.0023423681809721674,
          0.0024190686689845014,
          0.002495769156996835,
          0.002572469645009168,
          0.0026491701330215015,
          0.0027258706210338355,
          0.002802571109046169,
          0.002879271597058503,
          0.0029559720850708356,
          0.003032672573083169,
          0.003109373061095503,
          0.0031860735491078367,
          0.0032627740371201706,
          0.003339474525132504,
          0.0034161750131448372,
          0.0034928755011571708,
          0.0035695759891695047,
          0.0036462764771818383,
          0.0037229769651941722,
          0.003799677453206505,
          0.0038763779412188384,
          0.003953078429231172,
          0.004029778917243506,
          0.00410647940525584,
          0.0041831798932681725
         ],
         "yaxis": "y"
        },
        {
         "marker": {
          "color": "rgba(226,74,51,0.8)",
          "line": {
           "color": "rgba(226,74,51,0.8)",
           "width": 1
          },
          "size": 6,
          "symbol": "circle"
         },
         "mode": "markers",
         "type": "scatter",
         "x": [
          0.05065998654988846,
          0.31863350492992026,
          -0.1609821325130838,
          -0.20139114093780108,
          -0.040555683275030674,
          -0.41551661682785834,
          0.5024991900985754,
          0.011399282840045544,
          0.4977658861561167,
          -0.014758020206286915,
          -0.5201037913304418,
          0.05758551243049226,
          -0.5298536814105432,
          0.20867176226599327,
          -0.06473544548634891,
          -0.2276980677803806,
          0.42062785646488976,
          -0.5095764451566396,
          -0.09838771752490061,
          0.12930588524329778,
          0.25109718948127124,
          -0.15215426313245928,
          0.16135501813539577,
          -0.08522631662201263,
          -0.5474072504657954,
          -0.2964660556643395,
          0.13505297965213003,
          0.6935832098962464,
          -0.13504112011304414,
          -0.11264455370037751,
          -0.24843034070731562,
          -0.3294703753679329,
          -0.23203063596460538,
          -0.22749603212157865,
          -0.27523312620145646,
          -0.7625249034323502,
          0.8773347690334674,
          0.13125367493162798,
          -0.3400963121521414,
          0.46408379219630547,
          0.11851748567730169,
          -0.31451508817906415,
          0.39057185913766546,
          0.277004304480144,
          0.25819969716263813,
          -0.23443067357801795,
          -0.6060188565851234,
          -0.09009014762743561,
          -0.13812564415633233,
          -0.16735122272805825,
          -0.2548166839214332,
          0.9597993636678126,
          -0.36996256698024865,
          0.385184353006494,
          0.5460986329387936,
          0.49805402568797774,
          0.4021951548680107,
          -0.09408865424227031,
          0.3810926049535084,
          -0.027200796325018928,
          0.2951635901342655,
          0.29510406869545136,
          -0.005815826093311216,
          -0.3328552259376778,
          -0.040784851195979854,
          -0.3409023264720048,
          0.03094482914002583,
          -0.2503520475291765,
          0.2130194450795102,
          0.5192675751896871,
          0.025196092289377248,
          0.34883643674780274,
          -0.22639400217971684,
          0.3229539079503496,
          0.40503490071755266,
          0.21024803536302272,
          0.24056857069975024,
          -0.3586200502160466,
          0.04610132697091274,
          0.4795398207077426,
          -0.41258438270362774,
          -0.7438173956180947,
          0.15312329527414192,
          0.5273797365660471,
          0.033294848276142375,
          0.3606038975924264,
          -0.016957770624614454,
          -0.07945281128026238,
          0.7750868309039873,
          0.12122763951113313,
          0.02087725624002701,
          0.23707805418322891,
          -0.06473980107656985,
          -0.0901335724780239,
          -0.5193788231575525,
          -0.059997009578921734,
          -0.4278506024612625,
          -0.18064527881517733,
          0.475741719940288,
          -0.4676996599542065,
          -0.08195769492941452,
          0.2723416657381392,
          0.13445404741024447,
          0.40314863832085734,
          -0.2956217970035766,
          -0.28786001076318257,
          -0.18898398723808896,
          -0.11006715123956212,
          -0.11428697543802002,
          0.099786077858667,
          -0.18962407382836943,
          0.32110894042250493,
          -0.1933262204703965,
          0.3523751370874777,
          0.3267499034275261,
          0.2640428335193974,
          0.22871462561519706,
          -0.3072373138825526,
          0.1107205605821946,
          -0.3099479432101191,
          0.7406028052193108,
          0.5477477716518706,
          -0.5896590750594584,
          0.0073782859968929415,
          -0.09923728974632695,
          -0.26713949281878513,
          -0.3743784773065215,
          -0.4695430688644393,
          0.12641248962837892,
          -0.4599357088918623,
          0.025167403318590686,
          -0.36499889360806037,
          0.33919540989431596,
          -0.191125894522159,
          0.03229555364288217,
          -0.7355988299336644,
          0.06234640597315888,
          -0.3647053656016226,
          0.3719139857160769,
          -0.06438834653705783,
          -0.20486468189059792,
          0.03480852645242294,
          0.26712385848570364,
          0.3737836671004544,
          -0.3742711831490908,
          0.21009210618139207,
          -0.0843274115111825,
          -0.4315512047841139,
          0.1526354705527666,
          -0.09290234380776496,
          -0.47814171482595214,
          -0.3838901516632234,
          0.25618873410829224,
          0.08276924153894072,
          -0.27990174405280754,
          -0.14835507416543692,
          0.3075523755074556,
          -0.5290273467758198,
          0.3444623795077604,
          0.3311531515001036,
          0.08548271068711699,
          0.3521110950553492,
          0.3781432690648501,
          -0.08512263340786319,
          -0.001483826016368539,
          0.28283862803857573,
          0.2236432007172766,
          -0.32599619957531445,
          0.14689664417778658,
          0.14464090469368784,
          -0.31378208886462744,
          0.08156738231765814,
          0.09522956414116379,
          0.5188941151331932,
          0.2881963428887815,
          -0.1292176345474303,
          0.13960134511444267,
          -0.08712585100636261,
          -0.4682317496787505,
          0.020096279495589897,
          0.1634655216562777,
          -0.3810260067314175,
          -0.1089901980610648,
          0.7854477455262696,
          -0.1625362563388677,
          -0.2555531068319681,
          0.2517205018513238,
          -0.2015359205802696,
          -0.07183459367912803,
          -0.13381216610682145,
          0.01112586508506297,
          0.08203341888500404,
          -0.04134586655989381,
          0.056943191607743415,
          -0.054363115781399074,
          0.2529909282164482,
          0.0647232333667489,
          0.6852762368851728,
          -0.001085587720851322,
          0.4548029900434756,
          -0.046457983368483724,
          0.26714089120454787,
          -0.10217125347159595,
          0.3940808260131803,
          -0.3619380003727599,
          0.7516699354977163,
          -0.16680541599626508,
          0.6118946770313158,
          0.12937089567246574,
          -0.3146798665416668,
          0.6773749728387486,
          0.2526894417239305,
          0.5145003721087846,
          0.1732949358691087,
          0.4953649136499081,
          -0.2029531883172666,
          0.009586911786655605,
          -0.23250800143728156,
          -0.5811124048172616,
          -0.2653029932466211,
          0.19369266503083793,
          -0.5365102817962253,
          0.058561345676167775,
          0.5530881053011569,
          -0.10940985714664464,
          -0.31822975397226116,
          -0.17248155184265102,
          0.6297671348407192,
          -0.08454040501291615,
          0.046360370279771246,
          -0.1975127833098469,
          -0.0001850655087451969,
          0.055041991483903985,
          -0.1702634082615191,
          -0.38108426876002,
          -0.3171979431813554,
          0.04291020854769556,
          0.12254827439699056,
          0.2755105015721,
          0.1764926159735296,
          -0.01276927795231586,
          0.0021155917785478096,
          -0.5723040489113487,
          0.08971510343803857,
          -0.17988939978941687,
          0.24794644315394976,
          0.0847170629686218,
          -0.22122390122419233,
          -0.11208282810463288,
          0.09382975477404898,
          -0.7594844314361069,
          -0.7591334081941739,
          -0.18105553169779398,
          0.06492748760966549,
          -0.17734051992687228,
          0.060502980350378266,
          -0.2504327358773679,
          0.14062605445735699,
          0.26968972520113255,
          0.0768158078650032,
          -0.11297374843316277,
          -0.42499247716850164,
          0.5363418515549228,
          0.0033480362463080837,
          -0.47245207283553725,
          0.04048071022624811,
          0.0010246932124289287,
          0.06745658366679663,
          -0.16059536048544487,
          0.26306200141735303,
          -0.299286261574494,
          -0.1835844203807966,
          -0.33598474351356344,
          -0.08190714595731663,
          0.21335606858232836,
          0.22688130308532095,
          -0.7455545883979653,
          -0.04669788376496342,
          -0.05567251484765734,
          1.0612272480002929,
          -0.05398124830723816,
          -0.2536492355269644,
          0.47425499048132735,
          0.06184065418432283,
          0.4310195425509278,
          -0.6048533405243148,
          -0.01648888527284953,
          0.5952724562128964,
          -0.2589100078487263,
          0.5101996630847765,
          0.08709144772271316,
          -0.496376613995011,
          0.30910139825415683,
          -0.09137487980110848,
          0.04657255044602948,
          0.4052271611236904,
          -0.002335688609321096,
          -0.22978614937834152,
          0.0011493103289836881,
          -0.11704719504427885,
          0.13354125797644656,
          -0.38383512705141243,
          -0.05421981020589328,
          -0.1423894654951141,
          -0.2945779573089453,
          -0.5974480359056145,
          0.1214926238685905,
          -0.6317499091683914,
          -0.3932313560853089,
          0.2546184693072462,
          -0.19122218427678206,
          -0.03162753254351003,
          0.3069798313254779,
          0.4095684138523694,
          -0.0005661546371840132,
          -0.13325034845559003,
          0.19749720196017506,
          -0.42578015506119016,
          -0.3131797906566618,
          0.010051663132855992,
          -0.11116085292296418,
          -0.37459143777286386,
          0.43743973777266376,
          0.3607378600064095,
          0.18520972779201372,
          -0.5105014138891306,
          -0.27697475060017496,
          0.34277039123865904,
          -0.2965548744413411,
          -0.42972761340543286,
          -0.3778629518037775,
          0.04594133706662262,
          -0.06175821495045852,
          -0.15350276361677118,
          0.21000409286955346,
          0.4735845043736475,
          -0.35505651822090556,
          0.18503053068334907,
          0.08049459385735247,
          0.07853143350116909,
          -0.14814835363412726,
          -0.34786602483164586,
          -0.4103114745261536,
          0.33178668057435345,
          0.39387165146617065,
          -0.3172882773376102,
          0.07410175358697302,
          0.43051246378931296,
          0.34517086538031094,
          -0.40113149382159463,
          -0.26041991579847945,
          -0.29482139490855275,
          0.45138214681679756,
          0.11743739407921794,
          -0.03632950984307115,
          0.05565662246708314,
          0.1692722780148017,
          0.2284661818226823,
          -0.2460308020973372,
          0.20040912316670756,
          -0.712458113400757,
          -0.03430467307929064,
          -0.41149624552051023,
          -0.16139477186119677,
          0.08060810372572291,
          0.48281620846145756,
          -0.18711677413055838,
          0.10071257588464277,
          0.16434102892495162,
          0.16523861094353265,
          -0.2999311732897354,
          -0.3847888912486468,
          -0.03936986751446625,
          0.45818802168989237,
          0.059790997274731694,
          0.6247985206137372,
          -0.14280729497491507,
          0.42572233901164225,
          -0.3468716020543212,
          0.24350824939398308,
          -0.40265275746997986,
          0.13193628176112782,
          0.23170575681774608,
          -0.17862801478233337,
          -0.7399416784682984,
          -0.09072576293203838,
          0.05861507836328883,
          -0.06426991733103193,
          -0.2704736207442835,
          -0.29672724590366784,
          -0.010037945088953393,
          -0.25434359878322255,
          -0.09400853498983963,
          0.40455465073600294,
          0.29001233313039165,
          0.21319577141640877,
          -0.4691147217100564,
          -0.026756274564576188,
          -0.3645029680392753,
          0.03202600308239312,
          0.024427498901943068,
          -0.21848705659594714,
          0.14582033874266642,
          0.15768292405363127,
          -0.411210538338068,
          0.4511477245092266,
          0.14161327036691773,
          -0.09786860679869847,
          0.10984780239580516,
          0.5701803291991325,
          0.31245257492193446,
          0.2122917124932968,
          0.33005242682611424,
          0.4169513995504701,
          -0.05712477745494482,
          0.03926919713546795,
          -0.15286173593193553,
          -0.31289519249234843,
          0.0968959568708243,
          0.027032791014420354,
          -0.05982912993147238,
          -0.17536351946334605,
          -0.30147663388621027,
          -0.000566310426663108,
          -0.024038197137130624,
          -0.20989560111894434,
          0.2584675425031122,
          -0.041205823550896525,
          -0.25031444627066435,
          0.2560502932813904,
          -0.1220466488314571,
          0.02359149491979906,
          -0.08094738472070162,
          0.30942714002964067,
          -0.24930848210983925,
          0.3477581717638998,
          0.05447888948648938,
          -0.002324939146362226,
          -0.19587936465102018,
          0.2145946473607978,
          -0.04564168957192294,
          -0.10094037068995476,
          0.23125945219864263,
          0.22754908764032677,
          -0.025529531703398334,
          -0.12907673183070756,
          -0.3130676274102768,
          0.596386473679658,
          0.21704482679831472,
          -0.03513221151568757,
          -0.21336234469036697,
          0.14589499593206767,
          -0.24340492159838334,
          -0.09451703447943771,
          -0.1899099212986357,
          0.40892424554525064,
          -0.16356469661354822,
          -0.17350030332632116,
          -0.13435071325814363,
          -0.05886011418667181,
          0.06476173576513133,
          0.13708206829487324,
          0.08396517105212808,
          0.49915850089089986,
          -0.18052786849804647,
          -0.03017923485661811,
          0.13034986494548662,
          0.14411291940068338,
          0.34213412281611966,
          0.06742515691117035,
          0.11309597824875084,
          -0.20196668488823377,
          -0.03605565172796332,
          0.08202545165430308,
          0.09871061880163268,
          -0.4901275797391236,
          0.07140296219810693,
          -0.020192832504008607,
          -0.02283808814212307,
          -0.09977722578383919,
          0.12108413068894208,
          -0.4430867877166236,
          0.3410799354030729,
          -0.2545491097557573,
          -0.1964783258455043,
          -0.1350309847475728,
          0.08811252260883862,
          0.1668230034130005,
          -0.052630205770086036,
          0.5887748599777183,
          0.5364140855701436,
          -0.34857338984066644,
          -0.4987130403575719,
          -0.2706515204757949,
          0.0338429959958404,
          0.3104432351777575,
          -0.43009132140520023,
          0.008075535447161997,
          -0.3702023713154432
         ],
         "xaxis": "x",
         "y": [
          -0.0011754270811764889,
          0.00034215030142714653,
          0.0018365868530332286,
          -0.00641809432039972,
          -0.007044693191921414,
          -0.005137913999431948,
          -0.004873990418023916,
          -0.0001399949538097578,
          0.008961834914355427,
          0.001186192247738832,
          0.001127860476720921,
          0.004711518839165929,
          -0.002461159258976525,
          0.0038600134199292813,
          0.0013837821307544074,
          0.005725958683255927,
          0.0043954074361953754,
          0.00024153103134008647,
          0.0054392249784239455,
          -0.0011542681204338157,
          0.0053280487028732615,
          -0.004585072757534336,
          -7.136502910731757e-05,
          0.00012628845054371562,
          -0.0074735631396644076,
          0.0035581165956694305,
          -0.002226852649920813,
          0.0013516305947677554,
          -0.00044417611850555705,
          -0.0009181536842078342,
          -0.0024177070896918285,
          0.001993569187382277,
          0.003750378888807804,
          -0.00018943625863962477,
          0.002168893670245614,
          -0.005084339567851759,
          0.008900072862257274,
          0.0010903228714098656,
          -0.004149521795145106,
          -0.0009258321749452403,
          -0.0025430879368733006,
          -0.001184853152448595,
          0.001260037772812278,
          -0.0078772590423338,
          0.0029144427404776407,
          -0.0031618376446801433,
          -0.005201371140981792,
          -0.005488333428334907,
          0.0016425013782187248,
          0.004857460964060312,
          -0.0035824105187783617,
          -0.004876286720885359,
          -0.0022545651123341004,
          0.0068728967386078865,
          -0.0008744427511942765,
          0.002509426434718881,
          0.003190696548954486,
          0.0009774541659048064,
          0.0018207365853104562,
          -0.0034131569596795586,
          0.001488753134795684,
          0.0021141691220234737,
          0.0002097008656039845,
          0.0009243050514713969,
          -0.0014807297893424942,
          -0.0044743000197445815,
          0.0027665307014864415,
          -0.0008909211446179455,
          -0.002933836962132008,
          0.005932914587149424,
          -0.00015650930348234948,
          0.006389939701726799,
          0.0008816160018074171,
          0.0007340291747252314,
          0.0016095726098482588,
          -0.0023332051658594144,
          -0.0005846098424267254,
          -0.003821502030970564,
          0.0005122203488175381,
          0.0007097524269042421,
          -0.0018444266425581002,
          0.0006370282649843517,
          0.0035844848817226105,
          0.00362620263717095,
          0.00039413817212766156,
          0.00575566854540982,
          -0.003985614839691037,
          0.002431998427563753,
          -0.0037695590559871095,
          0.0026573936873577897,
          0.006038988081580765,
          -0.003840146441259795,
          0.0013965969726368876,
          -0.003715174003824484,
          0.0009035170226230904,
          -0.00038207581312391103,
          -0.0027496269855030453,
          -0.005080925711807516,
          -0.0028060679428266178,
          0.0006494248491735743,
          -0.004033042377513729,
          0.00219656477784691,
          0.0003989575715135363,
          0.0017388626352534409,
          -0.003978213041632206,
          0.0031180496422018034,
          -0.0035072722336572937,
          0.003114510077474264,
          -0.0023159204698897096,
          -0.00037383529582210584,
          -0.0015182605785660497,
          -0.0018242471345641664,
          -0.006505994865978859,
          0.0032591410242372443,
          0.00323721509304839,
          -0.004571508906238281,
          2.916047301101954e-05,
          -0.005849161483250459,
          0.0016428900321087403,
          0.003712151246505979,
          0.012403414169327637,
          -0.00036251854794000504,
          -0.0037471343257488854,
          0.0010889990993016019,
          -0.0002790857154589821,
          -0.0004641922159402956,
          0.0037265484162441187,
          0.0017323257286031568,
          0.0002646339522256458,
          -0.009695208350172707,
          0.003877501414198903,
          0.006778083889663666,
          -0.005515861907753605,
          0.000956715078240411,
          -7.945458220373625e-05,
          -0.004945041967225949,
          -0.0054286961294490454,
          0.001119306957969718,
          0.0049858283799354974,
          0.004638093783273817,
          -0.004485309618537187,
          0.0010416965293331693,
          0.005236722326969451,
          -0.0010793549229906052,
          -0.005259352481587459,
          5.322375773195165e-05,
          0.002880119282820587,
          0.0005899243340248272,
          -0.005209482254757342,
          -0.003299756830823952,
          -0.0017108189204442792,
          -9.393543680530358e-05,
          -0.005264103117791824,
          0.004304109510491871,
          -0.002087100530582753,
          0.0008774437536144541,
          0.003539844196248254,
          -0.0038916058449598445,
          0.003546395567703031,
          0.0026190799991794855,
          0.0020292445917419744,
          0.0031443465154353256,
          0.006154180216083438,
          -0.0003990034431094469,
          -0.006191925714578828,
          0.004921268500717196,
          0.0025357850332919374,
          -0.0018477020772179331,
          0.000916464805080508,
          -0.0037005697290090622,
          -0.0018823626213883005,
          0.0036788972268523845,
          0.002874321501948801,
          0.0038574018082506156,
          -0.0009473137564543765,
          -9.474890646649081e-05,
          0.00399126612813297,
          -0.0033330152013703873,
          -0.004721180409475084,
          -0.002562650455373988,
          -0.004604245631490367,
          -0.00030112267460150055,
          -0.0024171698322915935,
          0.0010984089287532917,
          0.0034639141915570326,
          0.004071316182354845,
          0.006027756047532917,
          -0.004589645861871827,
          0.0043778261247989225,
          -0.0016174407333329477,
          0.0004632689243092569,
          0.0031399391125783715,
          0.003485760533990856,
          -0.002107035614823255,
          -0.005015492428801227,
          0.0019657247021945823,
          0.0008103138653168807,
          0.003442345361256205,
          -0.0011532695007606952,
          -0.002768077472764474,
          -0.0006831355959833751,
          0.005819432902589683,
          0.0017882069450910476,
          -3.385542719644419e-05,
          -0.003314830554327408,
          0.000439869075861965,
          -0.007130273453727076,
          0.0003582066113941573,
          -0.001829367058800685,
          -0.00482281502081669,
          0.0028509932796027815,
          0.008381897748899025,
          0.007828782609654722,
          0.0008845616997667227,
          -0.002978202792352419,
          -0.002841941379887386,
          -0.0010437515147970478,
          3.556481211905438e-05,
          -0.00087736728245702,
          -0.003979215223647192,
          -0.0049863547186261015,
          -0.0015493866037075976,
          -0.0010249736719481761,
          0.0008513240991115945,
          0.0018241716448594847,
          0.0004817255575406687,
          0.002154490719709329,
          0.0015863735987587113,
          -0.003070672020478976,
          -0.004312330665855596,
          0.0003996070056384027,
          0.0038073452246679684,
          -0.004980341652864956,
          -0.0009826643547725389,
          0.0007634018486057104,
          -0.0014849376889817523,
          -0.00035842393030116604,
          0.004840093092470105,
          0.00118165870116263,
          -0.005061555457503031,
          0.002738474627131199,
          -0.0007244051173201094,
          -0.001501300236266212,
          0.004848588189853981,
          -0.004826658576304321,
          -0.0025373788383390716,
          0.001252872563257762,
          -0.0006806603741940365,
          -0.006258475793744583,
          -0.002343037296071687,
          -0.002715210552307973,
          0.0020477428908252937,
          0.0028973222119273723,
          -0.004210055913362765,
          -0.009476701426501866,
          -0.008425253172373581,
          -0.003501942171467598,
          -0.0021297917385031118,
          0.0044333134149733555,
          0.004180989810986746,
          -0.0039998865236774706,
          0.00030924460801298737,
          -0.0026246332560581898,
          -0.000761193075422939,
          -0.0018690202022780267,
          -0.0060667170113314905,
          0.00231169954540697,
          0.005241724074220577,
          -0.0014435511488109232,
          -0.000510129513677654,
          -0.003973472513572163,
          0.0028089529933525703,
          0.004879555580903278,
          0.001252221615379856,
          0.007374513977019687,
          0.001494471036137618,
          -0.001291814401199437,
          -0.003266419770774076,
          -0.0007796131931341044,
          0.006945063672196883,
          -0.0026076432380117698,
          0.005702304532795577,
          -0.0016162015532643625,
          -0.002564215412510118,
          0.01194746493378146,
          -0.0012829260333547254,
          -0.003135474333514271,
          0.00671256317834712,
          0.00011640272517962624,
          -0.002188015477612576,
          -0.0007928766047949065,
          -0.0030697810513224955,
          0.001000544250346569,
          -0.0012936453912431312,
          0.004657200383451604,
          0.0011579823170334846,
          -0.003331227629941008,
          0.006292093384450442,
          -0.002836998396457957,
          -0.0020119063930044145,
          0.0038381942255512336,
          0.003891230975298199,
          -0.0038363788118157827,
          -0.0009606370717844259,
          0.0005294812633921675,
          -0.0025143697128921227,
          0.0002345313046126507,
          -0.0056061319856708924,
          -0.011574398164213934,
          -0.0009446364776743987,
          -0.0031607995688363866,
          0.004389012094425354,
          -0.0006123467825410456,
          0.009859000672877843,
          -0.007446909564438581,
          0.00678479310232688,
          0.007643824421188217,
          0.0009844209243262125,
          0.002386946303248677,
          0.004284130068288594,
          -0.0058706870622141916,
          -0.005097733961079154,
          0.007043880534277458,
          -0.002180125553709056,
          0.0032933622360229453,
          -0.00413288730848016,
          -0.0023206401673307453,
          -0.0005945621739217588,
          0.0017603172180974125,
          -0.001153645899676009,
          -0.0008501248112442461,
          -0.0016235776950613567,
          -0.0025276718462860226,
          -0.00427650668625934,
          -0.0005512447845950896,
          0.004124047955778781,
          -0.00405391743762315,
          0.003877500350514873,
          0.004499286311556022,
          0.0008722785897024854,
          0.0014373107802289342,
          -0.003485675354261003,
          -0.0014687593022039425,
          -0.0031153326998352715,
          0.0008947628502172233,
          -0.0036114928272766578,
          0.006204718090879691,
          0.0015591087019945216,
          0.0003834143144173241,
          -0.005100840986931893,
          0.0026073672429355044,
          -0.0007291187613580885,
          -0.002087685888535834,
          0.005505815764390742,
          -0.008865979827253179,
          0.003186119196896181,
          -0.004752906388379746,
          -0.0029507113941878993,
          0.009480037428927973,
          0.001258837188882811,
          -0.007971522231771194,
          0.003623042401821902,
          -0.008157957605538446,
          -0.0017026507204265517,
          -0.0026839315774151995,
          0.0017101413939003551,
          -0.0036391761488691055,
          -0.00013105932228263395,
          0.0025064021280079007,
          -0.0035487497675615876,
          -0.0012726099518715062,
          -0.007353123352011964,
          -1.5816686396691315e-05,
          -0.003016739919112693,
          0.0061202247579636715,
          0.007359922821145726,
          -0.0007430392934217878,
          -0.0006173185629339828,
          -0.006655920329177861,
          0.0067473197880003055,
          -0.006823285520309363,
          0.008270424064895088,
          -0.002507061167767055,
          0.0048669563871197585,
          -0.0021567474507896145,
          0.007907525102884339,
          -0.00023781994451280153,
          -0.005679789708164906,
          -0.001028600148345632,
          -0.0019676820224863167,
          0.0005775569789446544,
          -0.001232278992915281,
          0.0055889695543035744,
          0.000873276976982057,
          -0.0014800408295815581,
          0.0023458827770064528,
          -0.0064382002941104355,
          0.002439405139241263,
          0.011902152076558314,
          -0.0017252529143689799,
          -0.0006261853416915097,
          -0.0049025710016642465,
          -0.00020754271446099537,
          0.001512057674914552,
          0.001699750710321385,
          0.002615392642695724,
          -0.003633304941969673,
          -0.005412057707661816,
          -0.007694176363746447,
          0.011345055473515941,
          0.005541689951383433,
          0.0025658873360073498,
          0.0008161442260667118,
          0.004434620110097542,
          -0.006542269922052202,
          -0.00024215023709323047,
          0.00353243020594457,
          0.004076919138109619,
          -0.0016579878177412632,
          -0.0016960319721444905,
          -0.000812670665801124,
          -0.006115953922442019,
          0.008183190684663721,
          0.004584407530941498,
          0.0032104342127339536,
          -0.003244259960440171,
          0.004093448660487775,
          -0.0033921961661923794,
          -0.003029985597770013,
          0.0013974670921175214,
          0.0010544348596016884,
          -0.0006542540676800213,
          -0.0003638470391874038,
          0.0022785984075514853,
          -0.00594036816212587,
          -0.0009573587620853863,
          -0.008416876827488234,
          -0.0023511301117532246,
          -0.0013686340251033435,
          0.001276709118191638,
          0.004455360728714691,
          -0.0021030262361607377,
          0.002874618124563244,
          -0.004795930371565005,
          -0.0017963040413420672,
          0.00027148794399201037,
          -0.006402608458104142,
          0.0007224704336123988,
          0.001952466475622805,
          -0.0013231724497554664,
          -0.0002338806940227478,
          -0.0025041501093211738,
          -0.00944541938381857,
          -0.002372860820706618,
          -0.0030955583210087734,
          -0.0022161369507889273,
          -0.004957710800814752,
          -0.005619361602054507,
          -0.0035262387745982893,
          -0.005252462345947118,
          0.0029260055384384143,
          0.008425436831565547,
          0.0011186650438964607,
          -0.0006542536212599814,
          0.003527040997590991,
          -0.0012004886730788145,
          0.004793698984913997,
          -0.0013459255267141423,
          -0.008503390649835185,
          -2.0147446302964944e-06,
          0.0035330264376094433,
          -0.0062344484603713,
          -0.010374756096724835,
          -0.0004110206305281139,
          0.006428256117391007,
          -0.008388809851160861,
          0.004639575243973515,
          -0.008935527488621253,
          -0.002191147053515363,
          0.0042234362280618165,
          -0.006054262609212602,
          -0.004733702052244326,
          -0.006095561174034703,
          0.0013657028092278756,
          0.0017541468902508295,
          -0.007393419815571345,
          0.0007758091588940808,
          -0.005723534440881861,
          -0.008077849445467078,
          -0.003871798244149516,
          0.009403078926272734,
          0.0022276632845859012,
          -0.004492765027312828,
          -0.0005804699489173615,
          -0.001069907596755959,
          -0.0015860471106886598,
          -0.0020257834655518225,
          0.0028143576094817324,
          -0.004374346722380906
         ],
         "yaxis": "y"
        }
       ],
       "layout": {
        "annotations": [
         {
          "showarrow": false,
          "text": "R^2 = 0.321",
          "x": 18,
          "y": -2
         },
         {
          "showarrow": false,
          "text": "y = 0.004x - 0.000",
          "x": 18,
          "y": -2.6
         }
        ],
        "autosize": false,
        "height": 600,
        "hovermode": "closest",
        "margin": {
         "b": 50,
         "l": 50,
         "pad": 0,
         "r": 50,
         "t": 50
        },
        "showlegend": false,
        "template": {
         "data": {
          "bar": [
           {
            "error_x": {
             "color": "#2a3f5f"
            },
            "error_y": {
             "color": "#2a3f5f"
            },
            "marker": {
             "line": {
              "color": "#E5ECF6",
              "width": 0.5
             },
             "pattern": {
              "fillmode": "overlay",
              "size": 10,
              "solidity": 0.2
             }
            },
            "type": "bar"
           }
          ],
          "barpolar": [
           {
            "marker": {
             "line": {
              "color": "#E5ECF6",
              "width": 0.5
             },
             "pattern": {
              "fillmode": "overlay",
              "size": 10,
              "solidity": 0.2
             }
            },
            "type": "barpolar"
           }
          ],
          "carpet": [
           {
            "aaxis": {
             "endlinecolor": "#2a3f5f",
             "gridcolor": "white",
             "linecolor": "white",
             "minorgridcolor": "white",
             "startlinecolor": "#2a3f5f"
            },
            "baxis": {
             "endlinecolor": "#2a3f5f",
             "gridcolor": "white",
             "linecolor": "white",
             "minorgridcolor": "white",
             "startlinecolor": "#2a3f5f"
            },
            "type": "carpet"
           }
          ],
          "choropleth": [
           {
            "colorbar": {
             "outlinewidth": 0,
             "ticks": ""
            },
            "type": "choropleth"
           }
          ],
          "contour": [
           {
            "colorbar": {
             "outlinewidth": 0,
             "ticks": ""
            },
            "colorscale": [
             [
              0,
              "#0d0887"
             ],
             [
              0.1111111111111111,
              "#46039f"
             ],
             [
              0.2222222222222222,
              "#7201a8"
             ],
             [
              0.3333333333333333,
              "#9c179e"
             ],
             [
              0.4444444444444444,
              "#bd3786"
             ],
             [
              0.5555555555555556,
              "#d8576b"
             ],
             [
              0.6666666666666666,
              "#ed7953"
             ],
             [
              0.7777777777777778,
              "#fb9f3a"
             ],
             [
              0.8888888888888888,
              "#fdca26"
             ],
             [
              1,
              "#f0f921"
             ]
            ],
            "type": "contour"
           }
          ],
          "contourcarpet": [
           {
            "colorbar": {
             "outlinewidth": 0,
             "ticks": ""
            },
            "type": "contourcarpet"
           }
          ],
          "heatmap": [
           {
            "colorbar": {
             "outlinewidth": 0,
             "ticks": ""
            },
            "colorscale": [
             [
              0,
              "#0d0887"
             ],
             [
              0.1111111111111111,
              "#46039f"
             ],
             [
              0.2222222222222222,
              "#7201a8"
             ],
             [
              0.3333333333333333,
              "#9c179e"
             ],
             [
              0.4444444444444444,
              "#bd3786"
             ],
             [
              0.5555555555555556,
              "#d8576b"
             ],
             [
              0.6666666666666666,
              "#ed7953"
             ],
             [
              0.7777777777777778,
              "#fb9f3a"
             ],
             [
              0.8888888888888888,
              "#fdca26"
             ],
             [
              1,
              "#f0f921"
             ]
            ],
            "type": "heatmap"
           }
          ],
          "histogram": [
           {
            "marker": {
             "pattern": {
              "fillmode": "overlay",
              "size": 10,
              "solidity": 0.2
             }
            },
            "type": "histogram"
           }
          ],
          "histogram2d": [
           {
            "colorbar": {
             "outlinewidth": 0,
             "ticks": ""
            },
            "colorscale": [
             [
              0,
              "#0d0887"
             ],
             [
              0.1111111111111111,
              "#46039f"
             ],
             [
              0.2222222222222222,
              "#7201a8"
             ],
             [
              0.3333333333333333,
              "#9c179e"
             ],
             [
              0.4444444444444444,
              "#bd3786"
             ],
             [
              0.5555555555555556,
              "#d8576b"
             ],
             [
              0.6666666666666666,
              "#ed7953"
             ],
             [
              0.7777777777777778,
              "#fb9f3a"
             ],
             [
              0.8888888888888888,
              "#fdca26"
             ],
             [
              1,
              "#f0f921"
             ]
            ],
            "type": "histogram2d"
           }
          ],
          "histogram2dcontour": [
           {
            "colorbar": {
             "outlinewidth": 0,
             "ticks": ""
            },
            "colorscale": [
             [
              0,
              "#0d0887"
             ],
             [
              0.1111111111111111,
              "#46039f"
             ],
             [
              0.2222222222222222,
              "#7201a8"
             ],
             [
              0.3333333333333333,
              "#9c179e"
             ],
             [
              0.4444444444444444,
              "#bd3786"
             ],
             [
              0.5555555555555556,
              "#d8576b"
             ],
             [
              0.6666666666666666,
              "#ed7953"
             ],
             [
              0.7777777777777778,
              "#fb9f3a"
             ],
             [
              0.8888888888888888,
              "#fdca26"
             ],
             [
              1,
              "#f0f921"
             ]
            ],
            "type": "histogram2dcontour"
           }
          ],
          "mesh3d": [
           {
            "colorbar": {
             "outlinewidth": 0,
             "ticks": ""
            },
            "type": "mesh3d"
           }
          ],
          "parcoords": [
           {
            "line": {
             "colorbar": {
              "outlinewidth": 0,
              "ticks": ""
             }
            },
            "type": "parcoords"
           }
          ],
          "pie": [
           {
            "automargin": true,
            "type": "pie"
           }
          ],
          "scatter": [
           {
            "fillpattern": {
             "fillmode": "overlay",
             "size": 10,
             "solidity": 0.2
            },
            "type": "scatter"
           }
          ],
          "scatter3d": [
           {
            "line": {
             "colorbar": {
              "outlinewidth": 0,
              "ticks": ""
             }
            },
            "marker": {
             "colorbar": {
              "outlinewidth": 0,
              "ticks": ""
             }
            },
            "type": "scatter3d"
           }
          ],
          "scattercarpet": [
           {
            "marker": {
             "colorbar": {
              "outlinewidth": 0,
              "ticks": ""
             }
            },
            "type": "scattercarpet"
           }
          ],
          "scattergeo": [
           {
            "marker": {
             "colorbar": {
              "outlinewidth": 0,
              "ticks": ""
             }
            },
            "type": "scattergeo"
           }
          ],
          "scattergl": [
           {
            "marker": {
             "colorbar": {
              "outlinewidth": 0,
              "ticks": ""
             }
            },
            "type": "scattergl"
           }
          ],
          "scattermap": [
           {
            "marker": {
             "colorbar": {
              "outlinewidth": 0,
              "ticks": ""
             }
            },
            "type": "scattermap"
           }
          ],
          "scattermapbox": [
           {
            "marker": {
             "colorbar": {
              "outlinewidth": 0,
              "ticks": ""
             }
            },
            "type": "scattermapbox"
           }
          ],
          "scatterpolar": [
           {
            "marker": {
             "colorbar": {
              "outlinewidth": 0,
              "ticks": ""
             }
            },
            "type": "scatterpolar"
           }
          ],
          "scatterpolargl": [
           {
            "marker": {
             "colorbar": {
              "outlinewidth": 0,
              "ticks": ""
             }
            },
            "type": "scatterpolargl"
           }
          ],
          "scatterternary": [
           {
            "marker": {
             "colorbar": {
              "outlinewidth": 0,
              "ticks": ""
             }
            },
            "type": "scatterternary"
           }
          ],
          "surface": [
           {
            "colorbar": {
             "outlinewidth": 0,
             "ticks": ""
            },
            "colorscale": [
             [
              0,
              "#0d0887"
             ],
             [
              0.1111111111111111,
              "#46039f"
             ],
             [
              0.2222222222222222,
              "#7201a8"
             ],
             [
              0.3333333333333333,
              "#9c179e"
             ],
             [
              0.4444444444444444,
              "#bd3786"
             ],
             [
              0.5555555555555556,
              "#d8576b"
             ],
             [
              0.6666666666666666,
              "#ed7953"
             ],
             [
              0.7777777777777778,
              "#fb9f3a"
             ],
             [
              0.8888888888888888,
              "#fdca26"
             ],
             [
              1,
              "#f0f921"
             ]
            ],
            "type": "surface"
           }
          ],
          "table": [
           {
            "cells": {
             "fill": {
              "color": "#EBF0F8"
             },
             "line": {
              "color": "white"
             }
            },
            "header": {
             "fill": {
              "color": "#C8D4E3"
             },
             "line": {
              "color": "white"
             }
            },
            "type": "table"
           }
          ]
         },
         "layout": {
          "annotationdefaults": {
           "arrowcolor": "#2a3f5f",
           "arrowhead": 0,
           "arrowwidth": 1
          },
          "autotypenumbers": "strict",
          "coloraxis": {
           "colorbar": {
            "outlinewidth": 0,
            "ticks": ""
           }
          },
          "colorscale": {
           "diverging": [
            [
             0,
             "#8e0152"
            ],
            [
             0.1,
             "#c51b7d"
            ],
            [
             0.2,
             "#de77ae"
            ],
            [
             0.3,
             "#f1b6da"
            ],
            [
             0.4,
             "#fde0ef"
            ],
            [
             0.5,
             "#f7f7f7"
            ],
            [
             0.6,
             "#e6f5d0"
            ],
            [
             0.7,
             "#b8e186"
            ],
            [
             0.8,
             "#7fbc41"
            ],
            [
             0.9,
             "#4d9221"
            ],
            [
             1,
             "#276419"
            ]
           ],
           "sequential": [
            [
             0,
             "#0d0887"
            ],
            [
             0.1111111111111111,
             "#46039f"
            ],
            [
             0.2222222222222222,
             "#7201a8"
            ],
            [
             0.3333333333333333,
             "#9c179e"
            ],
            [
             0.4444444444444444,
             "#bd3786"
            ],
            [
             0.5555555555555556,
             "#d8576b"
            ],
            [
             0.6666666666666666,
             "#ed7953"
            ],
            [
             0.7777777777777778,
             "#fb9f3a"
            ],
            [
             0.8888888888888888,
             "#fdca26"
            ],
            [
             1,
             "#f0f921"
            ]
           ],
           "sequentialminus": [
            [
             0,
             "#0d0887"
            ],
            [
             0.1111111111111111,
             "#46039f"
            ],
            [
             0.2222222222222222,
             "#7201a8"
            ],
            [
             0.3333333333333333,
             "#9c179e"
            ],
            [
             0.4444444444444444,
             "#bd3786"
            ],
            [
             0.5555555555555556,
             "#d8576b"
            ],
            [
             0.6666666666666666,
             "#ed7953"
            ],
            [
             0.7777777777777778,
             "#fb9f3a"
            ],
            [
             0.8888888888888888,
             "#fdca26"
            ],
            [
             1,
             "#f0f921"
            ]
           ]
          },
          "colorway": [
           "#636efa",
           "#EF553B",
           "#00cc96",
           "#ab63fa",
           "#FFA15A",
           "#19d3f3",
           "#FF6692",
           "#B6E880",
           "#FF97FF",
           "#FECB52"
          ],
          "font": {
           "color": "#2a3f5f"
          },
          "geo": {
           "bgcolor": "white",
           "lakecolor": "white",
           "landcolor": "#E5ECF6",
           "showlakes": true,
           "showland": true,
           "subunitcolor": "white"
          },
          "hoverlabel": {
           "align": "left"
          },
          "hovermode": "closest",
          "mapbox": {
           "style": "light"
          },
          "paper_bgcolor": "white",
          "plot_bgcolor": "#E5ECF6",
          "polar": {
           "angularaxis": {
            "gridcolor": "white",
            "linecolor": "white",
            "ticks": ""
           },
           "bgcolor": "#E5ECF6",
           "radialaxis": {
            "gridcolor": "white",
            "linecolor": "white",
            "ticks": ""
           }
          },
          "scene": {
           "xaxis": {
            "backgroundcolor": "#E5ECF6",
            "gridcolor": "white",
            "gridwidth": 2,
            "linecolor": "white",
            "showbackground": true,
            "ticks": "",
            "zerolinecolor": "white"
           },
           "yaxis": {
            "backgroundcolor": "#E5ECF6",
            "gridcolor": "white",
            "gridwidth": 2,
            "linecolor": "white",
            "showbackground": true,
            "ticks": "",
            "zerolinecolor": "white"
           },
           "zaxis": {
            "backgroundcolor": "#E5ECF6",
            "gridcolor": "white",
            "gridwidth": 2,
            "linecolor": "white",
            "showbackground": true,
            "ticks": "",
            "zerolinecolor": "white"
           }
          },
          "shapedefaults": {
           "line": {
            "color": "#2a3f5f"
           }
          },
          "ternary": {
           "aaxis": {
            "gridcolor": "white",
            "linecolor": "white",
            "ticks": ""
           },
           "baxis": {
            "gridcolor": "white",
            "linecolor": "white",
            "ticks": ""
           },
           "bgcolor": "#E5ECF6",
           "caxis": {
            "gridcolor": "white",
            "linecolor": "white",
            "ticks": ""
           }
          },
          "title": {
           "x": 0.05
          },
          "xaxis": {
           "automargin": true,
           "gridcolor": "white",
           "linecolor": "white",
           "ticks": "",
           "title": {
            "standoff": 15
           },
           "zerolinecolor": "white",
           "zerolinewidth": 2
          },
          "yaxis": {
           "automargin": true,
           "gridcolor": "white",
           "linecolor": "white",
           "ticks": "",
           "title": {
            "standoff": 15
           },
           "zerolinecolor": "white",
           "zerolinewidth": 2
          }
         }
        },
        "width": 800,
        "xaxis": {
         "anchor": "y",
         "domain": [
          0,
          1
         ],
         "mirror": "ticks",
         "nticks": 10,
         "range": [
          -0.8537125110039824,
          1.1524148555719251
         ],
         "showgrid": true,
         "showline": true,
         "side": "bottom",
         "tickfont": {
          "size": 10
         },
         "ticks": "inside",
         "title": {
          "font": {
           "color": "#555555",
           "size": 12
          },
          "text": "HYG.spot"
         },
         "type": "linear",
         "zeroline": false
        },
        "yaxis": {
         "anchor": "x",
         "domain": [
          0,
          1
         ],
         "mirror": "ticks",
         "nticks": 7,
         "range": [
          -0.012773288780891012,
          0.013602304786004715
         ],
         "showgrid": true,
         "showline": true,
         "side": "left",
         "tickfont": {
          "size": 10
         },
         "ticks": "inside",
         "title": {
          "font": {
           "color": "#555555",
           "size": 12
          },
          "text": "RTY.3m.Proxy.Implied.Vol"
         },
         "type": "linear",
         "zeroline": false
        }
       }
      },
      "text/html": [
       "<div>            <script src=\"https://cdnjs.cloudflare.com/ajax/libs/mathjax/2.7.5/MathJax.js?config=TeX-AMS-MML_SVG\"></script><script type=\"text/javascript\">if (window.MathJax && window.MathJax.Hub && window.MathJax.Hub.Config) {window.MathJax.Hub.Config({SVG: {font: \"STIX-Web\"}});}</script>                <script type=\"text/javascript\">window.PlotlyConfig = {MathJaxConfig: 'local'};</script>\n",
       "        <script charset=\"utf-8\" src=\"https://cdn.plot.ly/plotly-3.0.0.min.js\"></script>                <div id=\"431bcad6-e5e4-4d2c-88b1-3f5d158a2162\" class=\"plotly-graph-div\" style=\"height:600px; width:800px;\"></div>            <script type=\"text/javascript\">                window.PLOTLYENV=window.PLOTLYENV || {};                                if (document.getElementById(\"431bcad6-e5e4-4d2c-88b1-3f5d158a2162\")) {                    Plotly.newPlot(                        \"431bcad6-e5e4-4d2c-88b1-3f5d158a2162\",                        [{\"line\":{\"color\":\"rgba (226, 74, 51, 1)\",\"dash\":\"solid\",\"width\":2.25},\"mode\":\"lines\",\"name\":\"_child1\",\"x\":[-0.7625249034323502,-0.7441031645289902,-0.7256814256256302,-0.7072596867222701,-0.6888379478189102,-0.6704162089155501,-0.65199447001219,-0.63357273110883,-0.61515099220547,-0.59672925330211,-0.5783075143987499,-0.5598857754953899,-0.5414640365920298,-0.5230422976886698,-0.5046205587853098,-0.48619881988194974,-0.4677770809785897,-0.4493553420752297,-0.4309336031718697,-0.4125118642685096,-0.3940901253651496,-0.37566838646178957,-0.3572466475584295,-0.3388249086550695,-0.32040316975170946,-0.30198143084834944,-0.2835596919449894,-0.26513795304162935,-0.24671621413826927,-0.2282944752349093,-0.20987273633154924,-0.19145099742818927,-0.1730292585248292,-0.15460751962146912,-0.13618578071810916,-0.11776404181474909,-0.09934230291138912,-0.08092056400802905,-0.062498825104668976,-0.04407708620130901,-0.02565534729794894,-0.007233608394588864,0.0111881305087711,0.029609869412131173,0.04803160831549125,0.06645334721885121,0.08487508612221129,0.10329682502557125,0.12171856392893132,0.1401403028322914,0.15856204173565136,0.17698378063901143,0.1954055195423714,0.21382725844573147,0.23224899734909155,0.2506707362524516,0.2690924751558117,0.28751421405917155,0.3059359529625316,0.3243576918658917,0.34277943076925177,0.36120116967261184,0.3796229085759717,0.39804464747933177,0.41646638638269184,0.4348881252860519,0.453309864189412,0.47173160309277185,0.4901533419961319,0.508575080899492,0.5269968198028521,0.5454185587062121,0.563840297609572,0.5822620365129321,0.6006837754162921,0.6191055143196522,0.6375272532230123,0.6559489921263724,0.6743707310297322,0.6927924699330923,0.7112142088364524,0.7296359477398124,0.7480576866431725,0.7664794255465324,0.7849011644498924,0.8033229033532525,0.8217446422566126,0.8401663811599727,0.8585881200633327,0.8770098589666926,0.8954315978700527,0.9138533367734127,0.9322750756767728,0.9506968145801329,0.9691185534834927,0.9875402923868528,1.0059620312902129,1.024383770193573,1.042805509096933,1.0612272480002929],\"xaxis\":\"x\",\"y\":[-0.0034101684199528493,-0.0033334679319405158,-0.0032567674439281822,-0.0031800669559158487,-0.003103366467903515,-0.0030266659798911816,-0.0029499654918788477,-0.002873265003866514,-0.002796564515854181,-0.0027198640278418475,-0.002643163539829514,-0.00256646305181718,-0.0024897625638048465,-0.002413062075792513,-0.0023363615877801795,-0.002259661099767846,-0.0021829606117555124,-0.002106260123743179,-0.0020295596357308454,-0.0019528591477185116,-0.001876158659706178,-0.0017994581716938448,-0.001722757683681511,-0.0016460571956691775,-0.001569356707656844,-0.0014926562196445105,-0.001415955731632177,-0.0013392552436198432,-0.0012625547556075094,-0.0011858542675951761,-0.0011091537795828424,-0.0010324532915705093,-0.0009557528035581754,-0.0008790523155458417,-0.0008023518275335085,-0.0007256513395211747,-0.0006489508515088414,-0.0005722503634965077,-0.000495549875484174,-0.00041884938747184075,-0.000342148899459507,-0.00026544841144717326,-0.00018874792343484,-0.00011204743542250626,-3.534694741017253e-05,4.135354060216074e-05,0.00011805402861449447,0.00019475451662682774,0.0002714550046391615,0.00034815549265149523,0.0004248559806638285,0.0005015564686761622,0.0005782569566884954,0.0006549574447008292,0.0007316579327131629,0.0008083584207254967,0.0008850589087378304,0.0009617593967501632,0.001038459884762497,0.0011151603727748308,0.0011918608607871645,0.001268561348799498,0.001345261836811831,0.0014219623248241647,0.0014986628128364984,0.0015753633008488322,0.001652063788861166,0.0017287642768734988,0.0018054647648858325,0.0018821652528981663,0.0019588657409105,0.0020355662289228338,0.0021122667169351664,0.0021889672049475004,0.002265667692959834,0.0023423681809721674,0.0024190686689845014,0.002495769156996835,0.002572469645009168,0.0026491701330215015,0.0027258706210338355,0.002802571109046169,0.002879271597058503,0.0029559720850708356,0.003032672573083169,0.003109373061095503,0.0031860735491078367,0.0032627740371201706,0.003339474525132504,0.0034161750131448372,0.0034928755011571708,0.0035695759891695047,0.0036462764771818383,0.0037229769651941722,0.003799677453206505,0.0038763779412188384,0.003953078429231172,0.004029778917243506,0.00410647940525584,0.0041831798932681725],\"yaxis\":\"y\",\"type\":\"scatter\"},{\"marker\":{\"color\":\"rgba(226,74,51,0.8)\",\"line\":{\"color\":\"rgba(226,74,51,0.8)\",\"width\":1.0},\"size\":6.0,\"symbol\":\"circle\"},\"mode\":\"markers\",\"x\":[0.05065998654988846,0.31863350492992026,-0.1609821325130838,-0.20139114093780108,-0.040555683275030674,-0.41551661682785834,0.5024991900985754,0.011399282840045544,0.4977658861561167,-0.014758020206286915,-0.5201037913304418,0.05758551243049226,-0.5298536814105432,0.20867176226599327,-0.06473544548634891,-0.2276980677803806,0.42062785646488976,-0.5095764451566396,-0.09838771752490061,0.12930588524329778,0.25109718948127124,-0.15215426313245928,0.16135501813539577,-0.08522631662201263,-0.5474072504657954,-0.2964660556643395,0.13505297965213003,0.6935832098962464,-0.13504112011304414,-0.11264455370037751,-0.24843034070731562,-0.3294703753679329,-0.23203063596460538,-0.22749603212157865,-0.27523312620145646,-0.7625249034323502,0.8773347690334674,0.13125367493162798,-0.3400963121521414,0.46408379219630547,0.11851748567730169,-0.31451508817906415,0.39057185913766546,0.277004304480144,0.25819969716263813,-0.23443067357801795,-0.6060188565851234,-0.09009014762743561,-0.13812564415633233,-0.16735122272805825,-0.2548166839214332,0.9597993636678126,-0.36996256698024865,0.385184353006494,0.5460986329387936,0.49805402568797774,0.4021951548680107,-0.09408865424227031,0.3810926049535084,-0.027200796325018928,0.2951635901342655,0.29510406869545136,-0.005815826093311216,-0.3328552259376778,-0.040784851195979854,-0.3409023264720048,0.03094482914002583,-0.2503520475291765,0.2130194450795102,0.5192675751896871,0.025196092289377248,0.34883643674780274,-0.22639400217971684,0.3229539079503496,0.40503490071755266,0.21024803536302272,0.24056857069975024,-0.3586200502160466,0.04610132697091274,0.4795398207077426,-0.41258438270362774,-0.7438173956180947,0.15312329527414192,0.5273797365660471,0.033294848276142375,0.3606038975924264,-0.016957770624614454,-0.07945281128026238,0.7750868309039873,0.12122763951113313,0.02087725624002701,0.23707805418322891,-0.06473980107656985,-0.0901335724780239,-0.5193788231575525,-0.059997009578921734,-0.4278506024612625,-0.18064527881517733,0.475741719940288,-0.4676996599542065,-0.08195769492941452,0.2723416657381392,0.13445404741024447,0.40314863832085734,-0.2956217970035766,-0.28786001076318257,-0.18898398723808896,-0.11006715123956212,-0.11428697543802002,0.099786077858667,-0.18962407382836943,0.32110894042250493,-0.1933262204703965,0.3523751370874777,0.3267499034275261,0.2640428335193974,0.22871462561519706,-0.3072373138825526,0.1107205605821946,-0.3099479432101191,0.7406028052193108,0.5477477716518706,-0.5896590750594584,0.0073782859968929415,-0.09923728974632695,-0.26713949281878513,-0.3743784773065215,-0.4695430688644393,0.12641248962837892,-0.4599357088918623,0.025167403318590686,-0.36499889360806037,0.33919540989431596,-0.191125894522159,0.03229555364288217,-0.7355988299336644,0.06234640597315888,-0.3647053656016226,0.3719139857160769,-0.06438834653705783,-0.20486468189059792,0.03480852645242294,0.26712385848570364,0.3737836671004544,-0.3742711831490908,0.21009210618139207,-0.0843274115111825,-0.4315512047841139,0.1526354705527666,-0.09290234380776496,-0.47814171482595214,-0.3838901516632234,0.25618873410829224,0.08276924153894072,-0.27990174405280754,-0.14835507416543692,0.3075523755074556,-0.5290273467758198,0.3444623795077604,0.3311531515001036,0.08548271068711699,0.3521110950553492,0.3781432690648501,-0.08512263340786319,-0.001483826016368539,0.28283862803857573,0.2236432007172766,-0.32599619957531445,0.14689664417778658,0.14464090469368784,-0.31378208886462744,0.08156738231765814,0.09522956414116379,0.5188941151331932,0.2881963428887815,-0.1292176345474303,0.13960134511444267,-0.08712585100636261,-0.4682317496787505,0.020096279495589897,0.1634655216562777,-0.3810260067314175,-0.1089901980610648,0.7854477455262696,-0.1625362563388677,-0.2555531068319681,0.2517205018513238,-0.2015359205802696,-0.07183459367912803,-0.13381216610682145,0.01112586508506297,0.08203341888500404,-0.04134586655989381,0.056943191607743415,-0.054363115781399074,0.2529909282164482,0.0647232333667489,0.6852762368851728,-0.001085587720851322,0.4548029900434756,-0.046457983368483724,0.26714089120454787,-0.10217125347159595,0.3940808260131803,-0.3619380003727599,0.7516699354977163,-0.16680541599626508,0.6118946770313158,0.12937089567246574,-0.3146798665416668,0.6773749728387486,0.2526894417239305,0.5145003721087846,0.1732949358691087,0.4953649136499081,-0.2029531883172666,0.009586911786655605,-0.23250800143728156,-0.5811124048172616,-0.2653029932466211,0.19369266503083793,-0.5365102817962253,0.058561345676167775,0.5530881053011569,-0.10940985714664464,-0.31822975397226116,-0.17248155184265102,0.6297671348407192,-0.08454040501291615,0.046360370279771246,-0.1975127833098469,-0.0001850655087451969,0.055041991483903985,-0.1702634082615191,-0.38108426876002,-0.3171979431813554,0.04291020854769556,0.12254827439699056,0.2755105015721,0.1764926159735296,-0.01276927795231586,0.0021155917785478096,-0.5723040489113487,0.08971510343803857,-0.17988939978941687,0.24794644315394976,0.0847170629686218,-0.22122390122419233,-0.11208282810463288,0.09382975477404898,-0.7594844314361069,-0.7591334081941739,-0.18105553169779398,0.06492748760966549,-0.17734051992687228,0.060502980350378266,-0.2504327358773679,0.14062605445735699,0.26968972520113255,0.0768158078650032,-0.11297374843316277,-0.42499247716850164,0.5363418515549228,0.0033480362463080837,-0.47245207283553725,0.04048071022624811,0.0010246932124289287,0.06745658366679663,-0.16059536048544487,0.26306200141735303,-0.299286261574494,-0.1835844203807966,-0.33598474351356344,-0.08190714595731663,0.21335606858232836,0.22688130308532095,-0.7455545883979653,-0.04669788376496342,-0.05567251484765734,1.0612272480002929,-0.05398124830723816,-0.2536492355269644,0.47425499048132735,0.06184065418432283,0.4310195425509278,-0.6048533405243148,-0.01648888527284953,0.5952724562128964,-0.2589100078487263,0.5101996630847765,0.08709144772271316,-0.496376613995011,0.30910139825415683,-0.09137487980110848,0.04657255044602948,0.4052271611236904,-0.002335688609321096,-0.22978614937834152,0.0011493103289836881,-0.11704719504427885,0.13354125797644656,-0.38383512705141243,-0.05421981020589328,-0.1423894654951141,-0.2945779573089453,-0.5974480359056145,0.1214926238685905,-0.6317499091683914,-0.3932313560853089,0.2546184693072462,-0.19122218427678206,-0.03162753254351003,0.3069798313254779,0.4095684138523694,-0.0005661546371840132,-0.13325034845559003,0.19749720196017506,-0.42578015506119016,-0.3131797906566618,0.010051663132855992,-0.11116085292296418,-0.37459143777286386,0.43743973777266376,0.3607378600064095,0.18520972779201372,-0.5105014138891306,-0.27697475060017496,0.34277039123865904,-0.2965548744413411,-0.42972761340543286,-0.3778629518037775,0.04594133706662262,-0.06175821495045852,-0.15350276361677118,0.21000409286955346,0.4735845043736475,-0.35505651822090556,0.18503053068334907,0.08049459385735247,0.07853143350116909,-0.14814835363412726,-0.34786602483164586,-0.4103114745261536,0.33178668057435345,0.39387165146617065,-0.3172882773376102,0.07410175358697302,0.43051246378931296,0.34517086538031094,-0.40113149382159463,-0.26041991579847945,-0.29482139490855275,0.45138214681679756,0.11743739407921794,-0.03632950984307115,0.05565662246708314,0.1692722780148017,0.2284661818226823,-0.2460308020973372,0.20040912316670756,-0.712458113400757,-0.03430467307929064,-0.41149624552051023,-0.16139477186119677,0.08060810372572291,0.48281620846145756,-0.18711677413055838,0.10071257588464277,0.16434102892495162,0.16523861094353265,-0.2999311732897354,-0.3847888912486468,-0.03936986751446625,0.45818802168989237,0.059790997274731694,0.6247985206137372,-0.14280729497491507,0.42572233901164225,-0.3468716020543212,0.24350824939398308,-0.40265275746997986,0.13193628176112782,0.23170575681774608,-0.17862801478233337,-0.7399416784682984,-0.09072576293203838,0.05861507836328883,-0.06426991733103193,-0.2704736207442835,-0.29672724590366784,-0.010037945088953393,-0.25434359878322255,-0.09400853498983963,0.40455465073600294,0.29001233313039165,0.21319577141640877,-0.4691147217100564,-0.026756274564576188,-0.3645029680392753,0.03202600308239312,0.024427498901943068,-0.21848705659594714,0.14582033874266642,0.15768292405363127,-0.411210538338068,0.4511477245092266,0.14161327036691773,-0.09786860679869847,0.10984780239580516,0.5701803291991325,0.31245257492193446,0.2122917124932968,0.33005242682611424,0.4169513995504701,-0.05712477745494482,0.03926919713546795,-0.15286173593193553,-0.31289519249234843,0.0968959568708243,0.027032791014420354,-0.05982912993147238,-0.17536351946334605,-0.30147663388621027,-0.000566310426663108,-0.024038197137130624,-0.20989560111894434,0.2584675425031122,-0.041205823550896525,-0.25031444627066435,0.2560502932813904,-0.1220466488314571,0.02359149491979906,-0.08094738472070162,0.30942714002964067,-0.24930848210983925,0.3477581717638998,0.05447888948648938,-0.002324939146362226,-0.19587936465102018,0.2145946473607978,-0.04564168957192294,-0.10094037068995476,0.23125945219864263,0.22754908764032677,-0.025529531703398334,-0.12907673183070756,-0.3130676274102768,0.596386473679658,0.21704482679831472,-0.03513221151568757,-0.21336234469036697,0.14589499593206767,-0.24340492159838334,-0.09451703447943771,-0.1899099212986357,0.40892424554525064,-0.16356469661354822,-0.17350030332632116,-0.13435071325814363,-0.05886011418667181,0.06476173576513133,0.13708206829487324,0.08396517105212808,0.49915850089089986,-0.18052786849804647,-0.03017923485661811,0.13034986494548662,0.14411291940068338,0.34213412281611966,0.06742515691117035,0.11309597824875084,-0.20196668488823377,-0.03605565172796332,0.08202545165430308,0.09871061880163268,-0.4901275797391236,0.07140296219810693,-0.020192832504008607,-0.02283808814212307,-0.09977722578383919,0.12108413068894208,-0.4430867877166236,0.3410799354030729,-0.2545491097557573,-0.1964783258455043,-0.1350309847475728,0.08811252260883862,0.1668230034130005,-0.052630205770086036,0.5887748599777183,0.5364140855701436,-0.34857338984066644,-0.4987130403575719,-0.2706515204757949,0.0338429959958404,0.3104432351777575,-0.43009132140520023,0.008075535447161997,-0.3702023713154432],\"xaxis\":\"x\",\"y\":[-0.0011754270811764889,0.00034215030142714653,0.0018365868530332286,-0.00641809432039972,-0.007044693191921414,-0.005137913999431948,-0.004873990418023916,-0.0001399949538097578,0.008961834914355427,0.001186192247738832,0.001127860476720921,0.004711518839165929,-0.002461159258976525,0.0038600134199292813,0.0013837821307544074,0.005725958683255927,0.0043954074361953754,0.00024153103134008647,0.0054392249784239455,-0.0011542681204338157,0.0053280487028732615,-0.004585072757534336,-7.136502910731757e-05,0.00012628845054371562,-0.0074735631396644076,0.0035581165956694305,-0.002226852649920813,0.0013516305947677554,-0.00044417611850555705,-0.0009181536842078342,-0.0024177070896918285,0.001993569187382277,0.003750378888807804,-0.00018943625863962477,0.002168893670245614,-0.005084339567851759,0.008900072862257274,0.0010903228714098656,-0.004149521795145106,-0.0009258321749452403,-0.0025430879368733006,-0.001184853152448595,0.001260037772812278,-0.0078772590423338,0.0029144427404776407,-0.0031618376446801433,-0.005201371140981792,-0.005488333428334907,0.0016425013782187248,0.004857460964060312,-0.0035824105187783617,-0.004876286720885359,-0.0022545651123341004,0.0068728967386078865,-0.0008744427511942765,0.002509426434718881,0.003190696548954486,0.0009774541659048064,0.0018207365853104562,-0.0034131569596795586,0.001488753134795684,0.0021141691220234737,0.0002097008656039845,0.0009243050514713969,-0.0014807297893424942,-0.0044743000197445815,0.0027665307014864415,-0.0008909211446179455,-0.002933836962132008,0.005932914587149424,-0.00015650930348234948,0.006389939701726799,0.0008816160018074171,0.0007340291747252314,0.0016095726098482588,-0.0023332051658594144,-0.0005846098424267254,-0.003821502030970564,0.0005122203488175381,0.0007097524269042421,-0.0018444266425581002,0.0006370282649843517,0.0035844848817226105,0.00362620263717095,0.00039413817212766156,0.00575566854540982,-0.003985614839691037,0.002431998427563753,-0.0037695590559871095,0.0026573936873577897,0.006038988081580765,-0.003840146441259795,0.0013965969726368876,-0.003715174003824484,0.0009035170226230904,-0.00038207581312391103,-0.0027496269855030453,-0.005080925711807516,-0.0028060679428266178,0.0006494248491735743,-0.004033042377513729,0.00219656477784691,0.0003989575715135363,0.0017388626352534409,-0.003978213041632206,0.0031180496422018034,-0.0035072722336572937,0.003114510077474264,-0.0023159204698897096,-0.00037383529582210584,-0.0015182605785660497,-0.0018242471345641664,-0.006505994865978859,0.0032591410242372443,0.00323721509304839,-0.004571508906238281,2.916047301101954e-05,-0.005849161483250459,0.0016428900321087403,0.003712151246505979,0.012403414169327637,-0.00036251854794000504,-0.0037471343257488854,0.0010889990993016019,-0.0002790857154589821,-0.0004641922159402956,0.0037265484162441187,0.0017323257286031568,0.0002646339522256458,-0.009695208350172707,0.003877501414198903,0.006778083889663666,-0.005515861907753605,0.000956715078240411,-7.945458220373625e-05,-0.004945041967225949,-0.0054286961294490454,0.001119306957969718,0.0049858283799354974,0.004638093783273817,-0.004485309618537187,0.0010416965293331693,0.005236722326969451,-0.0010793549229906052,-0.005259352481587459,5.322375773195165e-05,0.002880119282820587,0.0005899243340248272,-0.005209482254757342,-0.003299756830823952,-0.0017108189204442792,-9.393543680530358e-05,-0.005264103117791824,0.004304109510491871,-0.002087100530582753,0.0008774437536144541,0.003539844196248254,-0.0038916058449598445,0.003546395567703031,0.0026190799991794855,0.0020292445917419744,0.0031443465154353256,0.006154180216083438,-0.0003990034431094469,-0.006191925714578828,0.004921268500717196,0.0025357850332919374,-0.0018477020772179331,0.000916464805080508,-0.0037005697290090622,-0.0018823626213883005,0.0036788972268523845,0.002874321501948801,0.0038574018082506156,-0.0009473137564543765,-9.474890646649081e-05,0.00399126612813297,-0.0033330152013703873,-0.004721180409475084,-0.002562650455373988,-0.004604245631490367,-0.00030112267460150055,-0.0024171698322915935,0.0010984089287532917,0.0034639141915570326,0.004071316182354845,0.006027756047532917,-0.004589645861871827,0.0043778261247989225,-0.0016174407333329477,0.0004632689243092569,0.0031399391125783715,0.003485760533990856,-0.002107035614823255,-0.005015492428801227,0.0019657247021945823,0.0008103138653168807,0.003442345361256205,-0.0011532695007606952,-0.002768077472764474,-0.0006831355959833751,0.005819432902589683,0.0017882069450910476,-3.385542719644419e-05,-0.003314830554327408,0.000439869075861965,-0.007130273453727076,0.0003582066113941573,-0.001829367058800685,-0.00482281502081669,0.0028509932796027815,0.008381897748899025,0.007828782609654722,0.0008845616997667227,-0.002978202792352419,-0.002841941379887386,-0.0010437515147970478,3.556481211905438e-05,-0.00087736728245702,-0.003979215223647192,-0.0049863547186261015,-0.0015493866037075976,-0.0010249736719481761,0.0008513240991115945,0.0018241716448594847,0.0004817255575406687,0.002154490719709329,0.0015863735987587113,-0.003070672020478976,-0.004312330665855596,0.0003996070056384027,0.0038073452246679684,-0.004980341652864956,-0.0009826643547725389,0.0007634018486057104,-0.0014849376889817523,-0.00035842393030116604,0.004840093092470105,0.00118165870116263,-0.005061555457503031,0.002738474627131199,-0.0007244051173201094,-0.001501300236266212,0.004848588189853981,-0.004826658576304321,-0.0025373788383390716,0.001252872563257762,-0.0006806603741940365,-0.006258475793744583,-0.002343037296071687,-0.002715210552307973,0.0020477428908252937,0.0028973222119273723,-0.004210055913362765,-0.009476701426501866,-0.008425253172373581,-0.003501942171467598,-0.0021297917385031118,0.0044333134149733555,0.004180989810986746,-0.0039998865236774706,0.00030924460801298737,-0.0026246332560581898,-0.000761193075422939,-0.0018690202022780267,-0.0060667170113314905,0.00231169954540697,0.005241724074220577,-0.0014435511488109232,-0.000510129513677654,-0.003973472513572163,0.0028089529933525703,0.004879555580903278,0.001252221615379856,0.007374513977019687,0.001494471036137618,-0.001291814401199437,-0.003266419770774076,-0.0007796131931341044,0.006945063672196883,-0.0026076432380117698,0.005702304532795577,-0.0016162015532643625,-0.002564215412510118,0.01194746493378146,-0.0012829260333547254,-0.003135474333514271,0.00671256317834712,0.00011640272517962624,-0.002188015477612576,-0.0007928766047949065,-0.0030697810513224955,0.001000544250346569,-0.0012936453912431312,0.004657200383451604,0.0011579823170334846,-0.003331227629941008,0.006292093384450442,-0.002836998396457957,-0.0020119063930044145,0.0038381942255512336,0.003891230975298199,-0.0038363788118157827,-0.0009606370717844259,0.0005294812633921675,-0.0025143697128921227,0.0002345313046126507,-0.0056061319856708924,-0.011574398164213934,-0.0009446364776743987,-0.0031607995688363866,0.004389012094425354,-0.0006123467825410456,0.009859000672877843,-0.007446909564438581,0.00678479310232688,0.007643824421188217,0.0009844209243262125,0.002386946303248677,0.004284130068288594,-0.0058706870622141916,-0.005097733961079154,0.007043880534277458,-0.002180125553709056,0.0032933622360229453,-0.00413288730848016,-0.0023206401673307453,-0.0005945621739217588,0.0017603172180974125,-0.001153645899676009,-0.0008501248112442461,-0.0016235776950613567,-0.0025276718462860226,-0.00427650668625934,-0.0005512447845950896,0.004124047955778781,-0.00405391743762315,0.003877500350514873,0.004499286311556022,0.0008722785897024854,0.0014373107802289342,-0.003485675354261003,-0.0014687593022039425,-0.0031153326998352715,0.0008947628502172233,-0.0036114928272766578,0.006204718090879691,0.0015591087019945216,0.0003834143144173241,-0.005100840986931893,0.0026073672429355044,-0.0007291187613580885,-0.002087685888535834,0.005505815764390742,-0.008865979827253179,0.003186119196896181,-0.004752906388379746,-0.0029507113941878993,0.009480037428927973,0.001258837188882811,-0.007971522231771194,0.003623042401821902,-0.008157957605538446,-0.0017026507204265517,-0.0026839315774151995,0.0017101413939003551,-0.0036391761488691055,-0.00013105932228263395,0.0025064021280079007,-0.0035487497675615876,-0.0012726099518715062,-0.007353123352011964,-1.5816686396691315e-05,-0.003016739919112693,0.0061202247579636715,0.007359922821145726,-0.0007430392934217878,-0.0006173185629339828,-0.006655920329177861,0.0067473197880003055,-0.006823285520309363,0.008270424064895088,-0.002507061167767055,0.0048669563871197585,-0.0021567474507896145,0.007907525102884339,-0.00023781994451280153,-0.005679789708164906,-0.001028600148345632,-0.0019676820224863167,0.0005775569789446544,-0.001232278992915281,0.0055889695543035744,0.000873276976982057,-0.0014800408295815581,0.0023458827770064528,-0.0064382002941104355,0.002439405139241263,0.011902152076558314,-0.0017252529143689799,-0.0006261853416915097,-0.0049025710016642465,-0.00020754271446099537,0.001512057674914552,0.001699750710321385,0.002615392642695724,-0.003633304941969673,-0.005412057707661816,-0.007694176363746447,0.011345055473515941,0.005541689951383433,0.0025658873360073498,0.0008161442260667118,0.004434620110097542,-0.006542269922052202,-0.00024215023709323047,0.00353243020594457,0.004076919138109619,-0.0016579878177412632,-0.0016960319721444905,-0.000812670665801124,-0.006115953922442019,0.008183190684663721,0.004584407530941498,0.0032104342127339536,-0.003244259960440171,0.004093448660487775,-0.0033921961661923794,-0.003029985597770013,0.0013974670921175214,0.0010544348596016884,-0.0006542540676800213,-0.0003638470391874038,0.0022785984075514853,-0.00594036816212587,-0.0009573587620853863,-0.008416876827488234,-0.0023511301117532246,-0.0013686340251033435,0.001276709118191638,0.004455360728714691,-0.0021030262361607377,0.002874618124563244,-0.004795930371565005,-0.0017963040413420672,0.00027148794399201037,-0.006402608458104142,0.0007224704336123988,0.001952466475622805,-0.0013231724497554664,-0.0002338806940227478,-0.0025041501093211738,-0.00944541938381857,-0.002372860820706618,-0.0030955583210087734,-0.0022161369507889273,-0.004957710800814752,-0.005619361602054507,-0.0035262387745982893,-0.005252462345947118,0.0029260055384384143,0.008425436831565547,0.0011186650438964607,-0.0006542536212599814,0.003527040997590991,-0.0012004886730788145,0.004793698984913997,-0.0013459255267141423,-0.008503390649835185,-2.0147446302964944e-06,0.0035330264376094433,-0.0062344484603713,-0.010374756096724835,-0.0004110206305281139,0.006428256117391007,-0.008388809851160861,0.004639575243973515,-0.008935527488621253,-0.002191147053515363,0.0042234362280618165,-0.006054262609212602,-0.004733702052244326,-0.006095561174034703,0.0013657028092278756,0.0017541468902508295,-0.007393419815571345,0.0007758091588940808,-0.005723534440881861,-0.008077849445467078,-0.003871798244149516,0.009403078926272734,0.0022276632845859012,-0.004492765027312828,-0.0005804699489173615,-0.001069907596755959,-0.0015860471106886598,-0.0020257834655518225,0.0028143576094817324,-0.004374346722380906],\"yaxis\":\"y\",\"type\":\"scatter\"}],                        {\"annotations\":[{\"showarrow\":false,\"text\":\"R^2 = 0.321\",\"x\":18,\"y\":-2},{\"showarrow\":false,\"text\":\"y = 0.004x - 0.000\",\"x\":18,\"y\":-2.6}],\"autosize\":false,\"height\":600,\"hovermode\":\"closest\",\"margin\":{\"b\":50,\"l\":50,\"pad\":0,\"r\":50,\"t\":50},\"showlegend\":false,\"template\":{\"data\":{\"barpolar\":[{\"marker\":{\"line\":{\"color\":\"#E5ECF6\",\"width\":0.5},\"pattern\":{\"fillmode\":\"overlay\",\"size\":10,\"solidity\":0.2}},\"type\":\"barpolar\"}],\"bar\":[{\"error_x\":{\"color\":\"#2a3f5f\"},\"error_y\":{\"color\":\"#2a3f5f\"},\"marker\":{\"line\":{\"color\":\"#E5ECF6\",\"width\":0.5},\"pattern\":{\"fillmode\":\"overlay\",\"size\":10,\"solidity\":0.2}},\"type\":\"bar\"}],\"carpet\":[{\"aaxis\":{\"endlinecolor\":\"#2a3f5f\",\"gridcolor\":\"white\",\"linecolor\":\"white\",\"minorgridcolor\":\"white\",\"startlinecolor\":\"#2a3f5f\"},\"baxis\":{\"endlinecolor\":\"#2a3f5f\",\"gridcolor\":\"white\",\"linecolor\":\"white\",\"minorgridcolor\":\"white\",\"startlinecolor\":\"#2a3f5f\"},\"type\":\"carpet\"}],\"choropleth\":[{\"colorbar\":{\"outlinewidth\":0,\"ticks\":\"\"},\"type\":\"choropleth\"}],\"contourcarpet\":[{\"colorbar\":{\"outlinewidth\":0,\"ticks\":\"\"},\"type\":\"contourcarpet\"}],\"contour\":[{\"colorbar\":{\"outlinewidth\":0,\"ticks\":\"\"},\"colorscale\":[[0.0,\"#0d0887\"],[0.1111111111111111,\"#46039f\"],[0.2222222222222222,\"#7201a8\"],[0.3333333333333333,\"#9c179e\"],[0.4444444444444444,\"#bd3786\"],[0.5555555555555556,\"#d8576b\"],[0.6666666666666666,\"#ed7953\"],[0.7777777777777778,\"#fb9f3a\"],[0.8888888888888888,\"#fdca26\"],[1.0,\"#f0f921\"]],\"type\":\"contour\"}],\"heatmap\":[{\"colorbar\":{\"outlinewidth\":0,\"ticks\":\"\"},\"colorscale\":[[0.0,\"#0d0887\"],[0.1111111111111111,\"#46039f\"],[0.2222222222222222,\"#7201a8\"],[0.3333333333333333,\"#9c179e\"],[0.4444444444444444,\"#bd3786\"],[0.5555555555555556,\"#d8576b\"],[0.6666666666666666,\"#ed7953\"],[0.7777777777777778,\"#fb9f3a\"],[0.8888888888888888,\"#fdca26\"],[1.0,\"#f0f921\"]],\"type\":\"heatmap\"}],\"histogram2dcontour\":[{\"colorbar\":{\"outlinewidth\":0,\"ticks\":\"\"},\"colorscale\":[[0.0,\"#0d0887\"],[0.1111111111111111,\"#46039f\"],[0.2222222222222222,\"#7201a8\"],[0.3333333333333333,\"#9c179e\"],[0.4444444444444444,\"#bd3786\"],[0.5555555555555556,\"#d8576b\"],[0.6666666666666666,\"#ed7953\"],[0.7777777777777778,\"#fb9f3a\"],[0.8888888888888888,\"#fdca26\"],[1.0,\"#f0f921\"]],\"type\":\"histogram2dcontour\"}],\"histogram2d\":[{\"colorbar\":{\"outlinewidth\":0,\"ticks\":\"\"},\"colorscale\":[[0.0,\"#0d0887\"],[0.1111111111111111,\"#46039f\"],[0.2222222222222222,\"#7201a8\"],[0.3333333333333333,\"#9c179e\"],[0.4444444444444444,\"#bd3786\"],[0.5555555555555556,\"#d8576b\"],[0.6666666666666666,\"#ed7953\"],[0.7777777777777778,\"#fb9f3a\"],[0.8888888888888888,\"#fdca26\"],[1.0,\"#f0f921\"]],\"type\":\"histogram2d\"}],\"histogram\":[{\"marker\":{\"pattern\":{\"fillmode\":\"overlay\",\"size\":10,\"solidity\":0.2}},\"type\":\"histogram\"}],\"mesh3d\":[{\"colorbar\":{\"outlinewidth\":0,\"ticks\":\"\"},\"type\":\"mesh3d\"}],\"parcoords\":[{\"line\":{\"colorbar\":{\"outlinewidth\":0,\"ticks\":\"\"}},\"type\":\"parcoords\"}],\"pie\":[{\"automargin\":true,\"type\":\"pie\"}],\"scatter3d\":[{\"line\":{\"colorbar\":{\"outlinewidth\":0,\"ticks\":\"\"}},\"marker\":{\"colorbar\":{\"outlinewidth\":0,\"ticks\":\"\"}},\"type\":\"scatter3d\"}],\"scattercarpet\":[{\"marker\":{\"colorbar\":{\"outlinewidth\":0,\"ticks\":\"\"}},\"type\":\"scattercarpet\"}],\"scattergeo\":[{\"marker\":{\"colorbar\":{\"outlinewidth\":0,\"ticks\":\"\"}},\"type\":\"scattergeo\"}],\"scattergl\":[{\"marker\":{\"colorbar\":{\"outlinewidth\":0,\"ticks\":\"\"}},\"type\":\"scattergl\"}],\"scattermapbox\":[{\"marker\":{\"colorbar\":{\"outlinewidth\":0,\"ticks\":\"\"}},\"type\":\"scattermapbox\"}],\"scattermap\":[{\"marker\":{\"colorbar\":{\"outlinewidth\":0,\"ticks\":\"\"}},\"type\":\"scattermap\"}],\"scatterpolargl\":[{\"marker\":{\"colorbar\":{\"outlinewidth\":0,\"ticks\":\"\"}},\"type\":\"scatterpolargl\"}],\"scatterpolar\":[{\"marker\":{\"colorbar\":{\"outlinewidth\":0,\"ticks\":\"\"}},\"type\":\"scatterpolar\"}],\"scatter\":[{\"fillpattern\":{\"fillmode\":\"overlay\",\"size\":10,\"solidity\":0.2},\"type\":\"scatter\"}],\"scatterternary\":[{\"marker\":{\"colorbar\":{\"outlinewidth\":0,\"ticks\":\"\"}},\"type\":\"scatterternary\"}],\"surface\":[{\"colorbar\":{\"outlinewidth\":0,\"ticks\":\"\"},\"colorscale\":[[0.0,\"#0d0887\"],[0.1111111111111111,\"#46039f\"],[0.2222222222222222,\"#7201a8\"],[0.3333333333333333,\"#9c179e\"],[0.4444444444444444,\"#bd3786\"],[0.5555555555555556,\"#d8576b\"],[0.6666666666666666,\"#ed7953\"],[0.7777777777777778,\"#fb9f3a\"],[0.8888888888888888,\"#fdca26\"],[1.0,\"#f0f921\"]],\"type\":\"surface\"}],\"table\":[{\"cells\":{\"fill\":{\"color\":\"#EBF0F8\"},\"line\":{\"color\":\"white\"}},\"header\":{\"fill\":{\"color\":\"#C8D4E3\"},\"line\":{\"color\":\"white\"}},\"type\":\"table\"}]},\"layout\":{\"annotationdefaults\":{\"arrowcolor\":\"#2a3f5f\",\"arrowhead\":0,\"arrowwidth\":1},\"autotypenumbers\":\"strict\",\"coloraxis\":{\"colorbar\":{\"outlinewidth\":0,\"ticks\":\"\"}},\"colorscale\":{\"diverging\":[[0,\"#8e0152\"],[0.1,\"#c51b7d\"],[0.2,\"#de77ae\"],[0.3,\"#f1b6da\"],[0.4,\"#fde0ef\"],[0.5,\"#f7f7f7\"],[0.6,\"#e6f5d0\"],[0.7,\"#b8e186\"],[0.8,\"#7fbc41\"],[0.9,\"#4d9221\"],[1,\"#276419\"]],\"sequential\":[[0.0,\"#0d0887\"],[0.1111111111111111,\"#46039f\"],[0.2222222222222222,\"#7201a8\"],[0.3333333333333333,\"#9c179e\"],[0.4444444444444444,\"#bd3786\"],[0.5555555555555556,\"#d8576b\"],[0.6666666666666666,\"#ed7953\"],[0.7777777777777778,\"#fb9f3a\"],[0.8888888888888888,\"#fdca26\"],[1.0,\"#f0f921\"]],\"sequentialminus\":[[0.0,\"#0d0887\"],[0.1111111111111111,\"#46039f\"],[0.2222222222222222,\"#7201a8\"],[0.3333333333333333,\"#9c179e\"],[0.4444444444444444,\"#bd3786\"],[0.5555555555555556,\"#d8576b\"],[0.6666666666666666,\"#ed7953\"],[0.7777777777777778,\"#fb9f3a\"],[0.8888888888888888,\"#fdca26\"],[1.0,\"#f0f921\"]]},\"colorway\":[\"#636efa\",\"#EF553B\",\"#00cc96\",\"#ab63fa\",\"#FFA15A\",\"#19d3f3\",\"#FF6692\",\"#B6E880\",\"#FF97FF\",\"#FECB52\"],\"font\":{\"color\":\"#2a3f5f\"},\"geo\":{\"bgcolor\":\"white\",\"lakecolor\":\"white\",\"landcolor\":\"#E5ECF6\",\"showlakes\":true,\"showland\":true,\"subunitcolor\":\"white\"},\"hoverlabel\":{\"align\":\"left\"},\"hovermode\":\"closest\",\"mapbox\":{\"style\":\"light\"},\"paper_bgcolor\":\"white\",\"plot_bgcolor\":\"#E5ECF6\",\"polar\":{\"angularaxis\":{\"gridcolor\":\"white\",\"linecolor\":\"white\",\"ticks\":\"\"},\"bgcolor\":\"#E5ECF6\",\"radialaxis\":{\"gridcolor\":\"white\",\"linecolor\":\"white\",\"ticks\":\"\"}},\"scene\":{\"xaxis\":{\"backgroundcolor\":\"#E5ECF6\",\"gridcolor\":\"white\",\"gridwidth\":2,\"linecolor\":\"white\",\"showbackground\":true,\"ticks\":\"\",\"zerolinecolor\":\"white\"},\"yaxis\":{\"backgroundcolor\":\"#E5ECF6\",\"gridcolor\":\"white\",\"gridwidth\":2,\"linecolor\":\"white\",\"showbackground\":true,\"ticks\":\"\",\"zerolinecolor\":\"white\"},\"zaxis\":{\"backgroundcolor\":\"#E5ECF6\",\"gridcolor\":\"white\",\"gridwidth\":2,\"linecolor\":\"white\",\"showbackground\":true,\"ticks\":\"\",\"zerolinecolor\":\"white\"}},\"shapedefaults\":{\"line\":{\"color\":\"#2a3f5f\"}},\"ternary\":{\"aaxis\":{\"gridcolor\":\"white\",\"linecolor\":\"white\",\"ticks\":\"\"},\"baxis\":{\"gridcolor\":\"white\",\"linecolor\":\"white\",\"ticks\":\"\"},\"bgcolor\":\"#E5ECF6\",\"caxis\":{\"gridcolor\":\"white\",\"linecolor\":\"white\",\"ticks\":\"\"}},\"title\":{\"x\":0.05},\"xaxis\":{\"automargin\":true,\"gridcolor\":\"white\",\"linecolor\":\"white\",\"ticks\":\"\",\"title\":{\"standoff\":15},\"zerolinecolor\":\"white\",\"zerolinewidth\":2},\"yaxis\":{\"automargin\":true,\"gridcolor\":\"white\",\"linecolor\":\"white\",\"ticks\":\"\",\"title\":{\"standoff\":15},\"zerolinecolor\":\"white\",\"zerolinewidth\":2}}},\"width\":800,\"xaxis\":{\"anchor\":\"y\",\"domain\":[0.0,1.0],\"mirror\":\"ticks\",\"nticks\":10,\"range\":[-0.8537125110039824,1.1524148555719251],\"showgrid\":true,\"showline\":true,\"side\":\"bottom\",\"tickfont\":{\"size\":10.0},\"ticks\":\"inside\",\"title\":{\"font\":{\"color\":\"#555555\",\"size\":12.0},\"text\":\"HYG.spot\"},\"type\":\"linear\",\"zeroline\":false},\"yaxis\":{\"anchor\":\"x\",\"domain\":[0.0,1.0],\"mirror\":\"ticks\",\"nticks\":7,\"range\":[-0.012773288780891012,0.013602304786004715],\"showgrid\":true,\"showline\":true,\"side\":\"left\",\"tickfont\":{\"size\":10.0},\"ticks\":\"inside\",\"title\":{\"font\":{\"color\":\"#555555\",\"size\":12.0},\"text\":\"RTY.3m.Proxy.Implied.Vol\"},\"type\":\"linear\",\"zeroline\":false}},                        {\"responsive\": true}                    ).then(function(){\n",
       "                            \n",
       "var gd = document.getElementById('431bcad6-e5e4-4d2c-88b1-3f5d158a2162');\n",
       "var x = new MutationObserver(function (mutations, observer) {{\n",
       "        var display = window.getComputedStyle(gd).display;\n",
       "        if (!display || display === 'none') {{\n",
       "            console.log([gd, 'removed!']);\n",
       "            Plotly.purge(gd);\n",
       "            observer.disconnect();\n",
       "        }}\n",
       "}});\n",
       "\n",
       "// Listen for the removal of the full notebook cells\n",
       "var notebookContainer = gd.closest('#notebook-container');\n",
       "if (notebookContainer) {{\n",
       "    x.observe(notebookContainer, {childList: true});\n",
       "}}\n",
       "\n",
       "// Listen for the clearing of the current output cell\n",
       "var outputEl = gd.closest('.output');\n",
       "if (outputEl) {{\n",
       "    x.observe(outputEl, {childList: true});\n",
       "}}\n",
       "\n",
       "                        })                };            </script>        </div>"
      ]
     },
     "metadata": {},
     "output_type": "display_data"
    }
   ],
   "source": [
    "from plotly.offline import download_plotlyjs, init_notebook_mode, iplot\n",
    "import plotly.tools as tls\n",
    "init_notebook_mode(connected=True)\n",
    "\n",
    "# Convert our matplotlib object to a plotly object\n",
    "plotlyFig = tls.mpl_to_plotly(fig)\n",
    "\n",
    "plotlyFig['layout'].update(\n",
    "    width=800,  # Adjust width\n",
    "    height=600,  # Adjust height\n",
    "    margin=dict(l=50, r=50, t=50, b=50)  # Adjust margins to fit annotations\n",
    ")\n",
    "\n",
    "plotlyFig['layout']['annotations'] = [\n",
    "    dict(\n",
    "        x=18,\n",
    "        y=-2,\n",
    "        showarrow=False,\n",
    "        text='R^2 = {:.3f}'.format( rvalue )\n",
    "    ),\n",
    "    dict(\n",
    "        x=18,\n",
    "        y=-2.6,\n",
    "        showarrow=False,\n",
    "        text='y = {m:.3f}x {sign} {b:.3f}'.format( m=slope, sign=\"+\" if intercept >= 0 else \"-\", b=abs(intercept) )\n",
    "    )\n",
    "]\n",
    "iplot(plotlyFig)"
   ]
  },
  {
   "cell_type": "code",
   "execution_count": 17,
   "id": "8de9f9c3-f06b-4771-8764-72d4a9a59f7f",
   "metadata": {},
   "outputs": [],
   "source": [
    "c = [0.8023,0.814,0.8256,0.8372,0.8488,0.8605,0.8721,0.8837,0.8953,0.907,0.9186,0.9302,0.9419,0.9535,0.9651,0.9767,0.9884,1,1.0116,1.0233,1.0349,1.0465,1.0581,1.0698,1.0814,1.093,1.1047,1.1163,1.1279,1.1395,1.1512,1.1628,1.1744,1.186,1.1977,1.2093]\n",
    "i = [ dt.datetime(2019,8,2),  dt.datetime(2019,8,9),  dt.datetime(2019,8,16),  dt.datetime(2019,8,23),  dt.datetime(2019,8,30),  dt.datetime(2019,9,6),  dt.datetime(2019,9,20),  dt.datetime(2019,10,18),  dt.datetime(2019,11,15),  dt.datetime(2019,12,20),  dt.datetime(2019,12,31),  dt.datetime(2020,1,17),  dt.datetime(2020,3,20),  dt.datetime(2020,3,31),  dt.datetime(2020,6,19) ]\n",
    "d = [ [0.4244,0.4016,0.3796,0.3584,0.3381,0.3187,0.3002,0.2827,0.2662,0.2508,0.2363,0.2229,0.2105,0.1991,0.1888,0.1794,0.171,0.1636,0.157,0.1513,0.1465,0.1425,0.1393,0.1368,0.135,0.1338,0.1331,0.1329,0.133,0.1334,0.1341,0.135,0.136,0.1372,0.1384,0.1396],\n",
    "    [0.4006,0.3777,0.3556,0.3343,0.3139,0.2944,0.2759,0.2583,0.2418,0.2263,0.2118,0.1983,0.1859,0.1745,0.1641,0.1547,0.1463,0.1388,0.1322,0.1265,0.1216,0.1176,0.1143,0.1118,0.11,0.1088,0.1081,0.1078,0.108,0.1084,0.1092,0.1101,0.1112,0.1123,0.1136,0.1149],\n",
    "    [0.3431,0.3257,0.3089,0.2927,0.277,0.2621,0.2477,0.2341,0.2212,0.2089,0.1974,0.1866,0.1765,0.1671,0.1584,0.1504,0.1431,0.1364,0.1303,0.1248,0.1198,0.1154,0.1116,0.1083,0.1055,0.1032,0.1013,0.0998,0.0986,0.0977,0.0971,0.0966,0.0964,0.0963,0.0963,0.0965],\n",
    "    [0.3124,0.298,0.284,0.2705,0.2574,0.2449,0.2328,0.2213,0.2104,0.1999,0.1901,0.1807,0.1719,0.1637,0.156,0.1488,0.1421,0.136,0.1304,0.1253,0.1206,0.1165,0.1129,0.1098,0.1072,0.1049,0.1031,0.1015,0.1003,0.0994,0.0988,0.0983,0.098,0.0979,0.0978,0.0979],\n",
    "    [0.2955,0.283,0.2708,0.259,0.2475,0.2365,0.2259,0.2158,0.206,0.1968,0.1879,0.1795,0.1716,0.1641,0.1571,0.1505,0.1443,0.1385,0.1332,0.1284,0.124,0.1201,0.1167,0.1137,0.1111,0.1089,0.1071,0.1056,0.1044,0.1034,0.1027,0.1022,0.1019,0.1018,0.1017,0.1018],\n",
    "    [0.2866,0.2752,0.264,0.2532,0.2427,0.2326,0.2228,0.2134,0.2044,0.1958,0.1876,0.1798,0.1724,0.1653,0.1587,0.1524,0.1465,0.141,0.1359,0.1313,0.1271,0.1233,0.12,0.1171,0.1145,0.1124,0.1106,0.1091,0.1079,0.1069,0.1062,0.1057,0.1054,0.1052,0.1051,0.1051],\n",
    "    [0.2729,0.2632,0.2538,0.2446,0.2357,0.227,0.2187,0.2106,0.2028,0.1954,0.1882,0.1813,0.1748,0.1685,0.1626,0.1569,0.1516,0.1465,0.1418,0.1376,0.1336,0.1301,0.127,0.1242,0.1218,0.1197,0.1179,0.1164,0.1152,0.1143,0.1135,0.113,0.1126,0.1124,0.1122,0.1122],\n",
    "    [0.2548,0.2473,0.24,0.2329,0.226,0.2192,0.2126,0.2063,0.2001,0.1941,0.1883,0.1827,0.1773,0.1721,0.167,0.1622,0.1576,0.1532,0.149,0.1452,0.1416,0.1383,0.1354,0.1327,0.1303,0.1281,0.1262,0.1246,0.1232,0.122,0.121,0.1202,0.1195,0.119,0.1186,0.1183],\n",
    "    [0.2482,0.242,0.2359,0.2299,0.2241,0.2184,0.2128,0.2074,0.2021,0.1969,0.1919,0.187,0.1823,0.1777,0.1733,0.169,0.1649,0.1608,0.157,0.1535,0.1501,0.1471,0.1442,0.1415,0.1391,0.1369,0.135,0.1332,0.1316,0.1303,0.1291,0.128,0.1271,0.1263,0.1257,0.1252],\n",
    "    [0.2331,0.2278,0.2227,0.2176,0.2127,0.2078,0.2031,0.1984,0.1939,0.1895,0.1851,0.1809,0.1768,0.1728,0.1689,0.1652,0.1615,0.158,0.1547,0.1516,0.1486,0.1459,0.1433,0.1409,0.1387,0.1367,0.1349,0.1332,0.1317,0.1303,0.1291,0.128,0.127,0.1261,0.1254,0.1247],\n",
    "    [0.2313,0.2262,0.2212,0.2163,0.2115,0.2068,0.2022,0.1977,0.1932,0.1889,0.1847,0.1806,0.1766,0.1727,0.1689,0.1653,0.1617,0.1582,0.155,0.152,0.1491,0.1464,0.1438,0.1415,0.1393,0.1373,0.1354,0.1337,0.1322,0.1308,0.1296,0.1284,0.1274,0.1266,0.1258,0.1251],\n",
    "    [0.2302,0.2253,0.2206,0.216,0.2114,0.2069,0.2026,0.1983,0.1941,0.19,0.186,0.1821,0.1783,0.1745,0.1709,0.1674,0.164,0.1607,0.1576,0.1546,0.1518,0.1492,0.1467,0.1444,0.1423,0.1403,0.1384,0.1367,0.1351,0.1337,0.1324,0.1313,0.1302,0.1293,0.1285,0.1277],\n",
    "    [0.229,0.2249,0.2209,0.2169,0.213,0.2091,0.2054,0.2017,0.1981,0.1946,0.1911,0.1877,0.1845,0.1812,0.1781,0.175,0.172,0.1691,0.1664,0.1637,0.1611,0.1587,0.1563,0.1541,0.152,0.15,0.148,0.1462,0.1445,0.143,0.1415,0.1401,0.1388,0.1376,0.1365,0.1355],\n",
    "    [0.2289,0.2249,0.2209,0.2171,0.2133,0.2096,0.2059,0.2023,0.1988,0.1953,0.192,0.1887,0.1855,0.1823,0.1793,0.1763,0.1733,0.1705,0.1678,0.1651,0.1626,0.1602,0.1579,0.1557,0.1535,0.1515,0.1496,0.1478,0.1461,0.1445,0.143,0.1415,0.1402,0.139,0.1379,0.1368],\n",
    "    [0.2239,0.2207,0.2175,0.2143,0.2112,0.2082,0.2051,0.2022,0.1993,0.1964,0.1936,0.1909,0.1882,0.1855,0.1829,0.1804,0.1779,0.1755,0.1731,0.1708,0.1685,0.1663,0.1642,0.1622,0.1601,0.1582,0.1563,0.1545,0.1527,0.151,0.1494,0.1478,0.1464,0.1449,0.1436,0.1423]\n",
    "]\n",
    "df2 = pd.DataFrame(d, columns=c, index=i)"
   ]
  },
  {
   "cell_type": "code",
   "execution_count": 18,
   "id": "ac288090-6ba7-4cf1-8ba6-93ebbcb486dd",
   "metadata": {},
   "outputs": [
    {
     "data": {
      "text/html": [
       "<div>\n",
       "<style scoped>\n",
       "    .dataframe tbody tr th:only-of-type {\n",
       "        vertical-align: middle;\n",
       "    }\n",
       "\n",
       "    .dataframe tbody tr th {\n",
       "        vertical-align: top;\n",
       "    }\n",
       "\n",
       "    .dataframe thead th {\n",
       "        text-align: right;\n",
       "    }\n",
       "</style>\n",
       "<table border=\"1\" class=\"dataframe\">\n",
       "  <thead>\n",
       "    <tr style=\"text-align: right;\">\n",
       "      <th></th>\n",
       "      <th>0.8023</th>\n",
       "      <th>0.8140</th>\n",
       "      <th>0.8256</th>\n",
       "      <th>0.8372</th>\n",
       "      <th>0.8488</th>\n",
       "      <th>0.8605</th>\n",
       "      <th>0.8721</th>\n",
       "      <th>0.8837</th>\n",
       "      <th>0.8953</th>\n",
       "      <th>0.9070</th>\n",
       "      <th>...</th>\n",
       "      <th>1.1047</th>\n",
       "      <th>1.1163</th>\n",
       "      <th>1.1279</th>\n",
       "      <th>1.1395</th>\n",
       "      <th>1.1512</th>\n",
       "      <th>1.1628</th>\n",
       "      <th>1.1744</th>\n",
       "      <th>1.1860</th>\n",
       "      <th>1.1977</th>\n",
       "      <th>1.2093</th>\n",
       "    </tr>\n",
       "  </thead>\n",
       "  <tbody>\n",
       "    <tr>\n",
       "      <th>2019-08-02</th>\n",
       "      <td>0.4244</td>\n",
       "      <td>0.4016</td>\n",
       "      <td>0.3796</td>\n",
       "      <td>0.3584</td>\n",
       "      <td>0.3381</td>\n",
       "      <td>0.3187</td>\n",
       "      <td>0.3002</td>\n",
       "      <td>0.2827</td>\n",
       "      <td>0.2662</td>\n",
       "      <td>0.2508</td>\n",
       "      <td>...</td>\n",
       "      <td>0.1331</td>\n",
       "      <td>0.1329</td>\n",
       "      <td>0.1330</td>\n",
       "      <td>0.1334</td>\n",
       "      <td>0.1341</td>\n",
       "      <td>0.1350</td>\n",
       "      <td>0.1360</td>\n",
       "      <td>0.1372</td>\n",
       "      <td>0.1384</td>\n",
       "      <td>0.1396</td>\n",
       "    </tr>\n",
       "    <tr>\n",
       "      <th>2019-08-09</th>\n",
       "      <td>0.4006</td>\n",
       "      <td>0.3777</td>\n",
       "      <td>0.3556</td>\n",
       "      <td>0.3343</td>\n",
       "      <td>0.3139</td>\n",
       "      <td>0.2944</td>\n",
       "      <td>0.2759</td>\n",
       "      <td>0.2583</td>\n",
       "      <td>0.2418</td>\n",
       "      <td>0.2263</td>\n",
       "      <td>...</td>\n",
       "      <td>0.1081</td>\n",
       "      <td>0.1078</td>\n",
       "      <td>0.1080</td>\n",
       "      <td>0.1084</td>\n",
       "      <td>0.1092</td>\n",
       "      <td>0.1101</td>\n",
       "      <td>0.1112</td>\n",
       "      <td>0.1123</td>\n",
       "      <td>0.1136</td>\n",
       "      <td>0.1149</td>\n",
       "    </tr>\n",
       "    <tr>\n",
       "      <th>2019-08-16</th>\n",
       "      <td>0.3431</td>\n",
       "      <td>0.3257</td>\n",
       "      <td>0.3089</td>\n",
       "      <td>0.2927</td>\n",
       "      <td>0.2770</td>\n",
       "      <td>0.2621</td>\n",
       "      <td>0.2477</td>\n",
       "      <td>0.2341</td>\n",
       "      <td>0.2212</td>\n",
       "      <td>0.2089</td>\n",
       "      <td>...</td>\n",
       "      <td>0.1013</td>\n",
       "      <td>0.0998</td>\n",
       "      <td>0.0986</td>\n",
       "      <td>0.0977</td>\n",
       "      <td>0.0971</td>\n",
       "      <td>0.0966</td>\n",
       "      <td>0.0964</td>\n",
       "      <td>0.0963</td>\n",
       "      <td>0.0963</td>\n",
       "      <td>0.0965</td>\n",
       "    </tr>\n",
       "    <tr>\n",
       "      <th>2019-08-23</th>\n",
       "      <td>0.3124</td>\n",
       "      <td>0.2980</td>\n",
       "      <td>0.2840</td>\n",
       "      <td>0.2705</td>\n",
       "      <td>0.2574</td>\n",
       "      <td>0.2449</td>\n",
       "      <td>0.2328</td>\n",
       "      <td>0.2213</td>\n",
       "      <td>0.2104</td>\n",
       "      <td>0.1999</td>\n",
       "      <td>...</td>\n",
       "      <td>0.1031</td>\n",
       "      <td>0.1015</td>\n",
       "      <td>0.1003</td>\n",
       "      <td>0.0994</td>\n",
       "      <td>0.0988</td>\n",
       "      <td>0.0983</td>\n",
       "      <td>0.0980</td>\n",
       "      <td>0.0979</td>\n",
       "      <td>0.0978</td>\n",
       "      <td>0.0979</td>\n",
       "    </tr>\n",
       "    <tr>\n",
       "      <th>2019-08-30</th>\n",
       "      <td>0.2955</td>\n",
       "      <td>0.2830</td>\n",
       "      <td>0.2708</td>\n",
       "      <td>0.2590</td>\n",
       "      <td>0.2475</td>\n",
       "      <td>0.2365</td>\n",
       "      <td>0.2259</td>\n",
       "      <td>0.2158</td>\n",
       "      <td>0.2060</td>\n",
       "      <td>0.1968</td>\n",
       "      <td>...</td>\n",
       "      <td>0.1071</td>\n",
       "      <td>0.1056</td>\n",
       "      <td>0.1044</td>\n",
       "      <td>0.1034</td>\n",
       "      <td>0.1027</td>\n",
       "      <td>0.1022</td>\n",
       "      <td>0.1019</td>\n",
       "      <td>0.1018</td>\n",
       "      <td>0.1017</td>\n",
       "      <td>0.1018</td>\n",
       "    </tr>\n",
       "  </tbody>\n",
       "</table>\n",
       "<p>5 rows × 36 columns</p>\n",
       "</div>"
      ],
      "text/plain": [
       "            0.8023  0.8140  0.8256  0.8372  0.8488  0.8605  0.8721  0.8837  \\\n",
       "2019-08-02  0.4244  0.4016  0.3796  0.3584  0.3381  0.3187  0.3002  0.2827   \n",
       "2019-08-09  0.4006  0.3777  0.3556  0.3343  0.3139  0.2944  0.2759  0.2583   \n",
       "2019-08-16  0.3431  0.3257  0.3089  0.2927  0.2770  0.2621  0.2477  0.2341   \n",
       "2019-08-23  0.3124  0.2980  0.2840  0.2705  0.2574  0.2449  0.2328  0.2213   \n",
       "2019-08-30  0.2955  0.2830  0.2708  0.2590  0.2475  0.2365  0.2259  0.2158   \n",
       "\n",
       "            0.8953  0.9070  ...  1.1047  1.1163  1.1279  1.1395  1.1512  \\\n",
       "2019-08-02  0.2662  0.2508  ...  0.1331  0.1329  0.1330  0.1334  0.1341   \n",
       "2019-08-09  0.2418  0.2263  ...  0.1081  0.1078  0.1080  0.1084  0.1092   \n",
       "2019-08-16  0.2212  0.2089  ...  0.1013  0.0998  0.0986  0.0977  0.0971   \n",
       "2019-08-23  0.2104  0.1999  ...  0.1031  0.1015  0.1003  0.0994  0.0988   \n",
       "2019-08-30  0.2060  0.1968  ...  0.1071  0.1056  0.1044  0.1034  0.1027   \n",
       "\n",
       "            1.1628  1.1744  1.1860  1.1977  1.2093  \n",
       "2019-08-02  0.1350  0.1360  0.1372  0.1384  0.1396  \n",
       "2019-08-09  0.1101  0.1112  0.1123  0.1136  0.1149  \n",
       "2019-08-16  0.0966  0.0964  0.0963  0.0963  0.0965  \n",
       "2019-08-23  0.0983  0.0980  0.0979  0.0978  0.0979  \n",
       "2019-08-30  0.1022  0.1019  0.1018  0.1017  0.1018  \n",
       "\n",
       "[5 rows x 36 columns]"
      ]
     },
     "execution_count": 18,
     "metadata": {},
     "output_type": "execute_result"
    }
   ],
   "source": [
    "df2.head()"
   ]
  },
  {
   "cell_type": "code",
   "execution_count": 20,
   "id": "592900e5-c549-4154-b895-b71dba0cacee",
   "metadata": {},
   "outputs": [
    {
     "data": {
      "application/vnd.jupyter.widget-view+json": {
       "model_id": "52341845ede941eca0a7ca18b79df1f5",
       "version_major": 2,
       "version_minor": 0
      },
      "text/plain": [
       "FigureWidget({\n",
       "    'data': [{'type': 'surface',\n",
       "              'uid': '548cf549-a7c4-4107-b1e7-102c77fc9866',\n",
       "              'x': [2019-08-02, 2019-08-09, 2019-08-16, 2019-08-23, 2019-08-30,\n",
       "                    2019-09-06, 2019-09-20, 2019-10-18, 2019-11-15, 2019-12-20,\n",
       "                    2019-12-31, 2020-01-17, 2020-03-20, 2020-03-31, 2020-06-19],\n",
       "              'y': {'bdata': ('6pWyDHGs6T8/NV66SQzqP7N78rBQa+' ... 'XQItv58j8LtaZ5xynzP0XY8PRKWfM/'),\n",
       "                    'dtype': 'f8'},\n",
       "              'z': [[0.4244, 0.4016, 0.3796, 0.3584, 0.3381, 0.3187, 0.3002,\n",
       "                    0.2827, 0.2662, 0.2508, 0.2363, 0.2229, 0.2105, 0.1991, 0.1888,\n",
       "                    0.1794, 0.171, 0.1636, 0.157, 0.1513, 0.1465, 0.1425, 0.1393,\n",
       "                    0.1368, 0.135, 0.1338, 0.1331, 0.1329, 0.133, 0.1334, 0.1341,\n",
       "                    0.135, 0.136, 0.1372, 0.1384, 0.1396], [0.4006, 0.3777, 0.3556,\n",
       "                    0.3343, 0.3139, 0.2944, 0.2759, 0.2583, 0.2418, 0.2263, 0.2118,\n",
       "                    0.1983, 0.1859, 0.1745, 0.1641, 0.1547, 0.1463, 0.1388, 0.1322,\n",
       "                    0.1265, 0.1216, 0.1176, 0.1143, 0.1118, 0.11, 0.1088, 0.1081,\n",
       "                    0.1078, 0.108, 0.1084, 0.1092, 0.1101, 0.1112, 0.1123, 0.1136,\n",
       "                    0.1149], [0.3431, 0.3257, 0.3089, 0.2927, 0.277, 0.2621,\n",
       "                    0.2477, 0.2341, 0.2212, 0.2089, 0.1974, 0.1866, 0.1765, 0.1671,\n",
       "                    0.1584, 0.1504, 0.1431, 0.1364, 0.1303, 0.1248, 0.1198, 0.1154,\n",
       "                    0.1116, 0.1083, 0.1055, 0.1032, 0.1013, 0.0998, 0.0986, 0.0977,\n",
       "                    0.0971, 0.0966, 0.0964, 0.0963, 0.0963, 0.0965], [0.3124,\n",
       "                    0.298, 0.284, 0.2705, 0.2574, 0.2449, 0.2328, 0.2213, 0.2104,\n",
       "                    0.1999, 0.1901, 0.1807, 0.1719, 0.1637, 0.156, 0.1488, 0.1421,\n",
       "                    0.136, 0.1304, 0.1253, 0.1206, 0.1165, 0.1129, 0.1098, 0.1072,\n",
       "                    0.1049, 0.1031, 0.1015, 0.1003, 0.0994, 0.0988, 0.0983, 0.098,\n",
       "                    0.0979, 0.0978, 0.0979], [0.2955, 0.283, 0.2708, 0.259, 0.2475,\n",
       "                    0.2365, 0.2259, 0.2158, 0.206, 0.1968, 0.1879, 0.1795, 0.1716,\n",
       "                    0.1641, 0.1571, 0.1505, 0.1443, 0.1385, 0.1332, 0.1284, 0.124,\n",
       "                    0.1201, 0.1167, 0.1137, 0.1111, 0.1089, 0.1071, 0.1056, 0.1044,\n",
       "                    0.1034, 0.1027, 0.1022, 0.1019, 0.1018, 0.1017, 0.1018],\n",
       "                    [0.2866, 0.2752, 0.264, 0.2532, 0.2427, 0.2326, 0.2228, 0.2134,\n",
       "                    0.2044, 0.1958, 0.1876, 0.1798, 0.1724, 0.1653, 0.1587, 0.1524,\n",
       "                    0.1465, 0.141, 0.1359, 0.1313, 0.1271, 0.1233, 0.12, 0.1171,\n",
       "                    0.1145, 0.1124, 0.1106, 0.1091, 0.1079, 0.1069, 0.1062, 0.1057,\n",
       "                    0.1054, 0.1052, 0.1051, 0.1051], [0.2729, 0.2632, 0.2538,\n",
       "                    0.2446, 0.2357, 0.227, 0.2187, 0.2106, 0.2028, 0.1954, 0.1882,\n",
       "                    0.1813, 0.1748, 0.1685, 0.1626, 0.1569, 0.1516, 0.1465, 0.1418,\n",
       "                    0.1376, 0.1336, 0.1301, 0.127, 0.1242, 0.1218, 0.1197, 0.1179,\n",
       "                    0.1164, 0.1152, 0.1143, 0.1135, 0.113, 0.1126, 0.1124, 0.1122,\n",
       "                    0.1122], [0.2548, 0.2473, 0.24, 0.2329, 0.226, 0.2192, 0.2126,\n",
       "                    0.2063, 0.2001, 0.1941, 0.1883, 0.1827, 0.1773, 0.1721, 0.167,\n",
       "                    0.1622, 0.1576, 0.1532, 0.149, 0.1452, 0.1416, 0.1383, 0.1354,\n",
       "                    0.1327, 0.1303, 0.1281, 0.1262, 0.1246, 0.1232, 0.122, 0.121,\n",
       "                    0.1202, 0.1195, 0.119, 0.1186, 0.1183], [0.2482, 0.242, 0.2359,\n",
       "                    0.2299, 0.2241, 0.2184, 0.2128, 0.2074, 0.2021, 0.1969, 0.1919,\n",
       "                    0.187, 0.1823, 0.1777, 0.1733, 0.169, 0.1649, 0.1608, 0.157,\n",
       "                    0.1535, 0.1501, 0.1471, 0.1442, 0.1415, 0.1391, 0.1369, 0.135,\n",
       "                    0.1332, 0.1316, 0.1303, 0.1291, 0.128, 0.1271, 0.1263, 0.1257,\n",
       "                    0.1252], [0.2331, 0.2278, 0.2227, 0.2176, 0.2127, 0.2078,\n",
       "                    0.2031, 0.1984, 0.1939, 0.1895, 0.1851, 0.1809, 0.1768, 0.1728,\n",
       "                    0.1689, 0.1652, 0.1615, 0.158, 0.1547, 0.1516, 0.1486, 0.1459,\n",
       "                    0.1433, 0.1409, 0.1387, 0.1367, 0.1349, 0.1332, 0.1317, 0.1303,\n",
       "                    0.1291, 0.128, 0.127, 0.1261, 0.1254, 0.1247], [0.2313, 0.2262,\n",
       "                    0.2212, 0.2163, 0.2115, 0.2068, 0.2022, 0.1977, 0.1932, 0.1889,\n",
       "                    0.1847, 0.1806, 0.1766, 0.1727, 0.1689, 0.1653, 0.1617, 0.1582,\n",
       "                    0.155, 0.152, 0.1491, 0.1464, 0.1438, 0.1415, 0.1393, 0.1373,\n",
       "                    0.1354, 0.1337, 0.1322, 0.1308, 0.1296, 0.1284, 0.1274, 0.1266,\n",
       "                    0.1258, 0.1251], [0.2302, 0.2253, 0.2206, 0.216, 0.2114,\n",
       "                    0.2069, 0.2026, 0.1983, 0.1941, 0.19, 0.186, 0.1821, 0.1783,\n",
       "                    0.1745, 0.1709, 0.1674, 0.164, 0.1607, 0.1576, 0.1546, 0.1518,\n",
       "                    0.1492, 0.1467, 0.1444, 0.1423, 0.1403, 0.1384, 0.1367, 0.1351,\n",
       "                    0.1337, 0.1324, 0.1313, 0.1302, 0.1293, 0.1285, 0.1277],\n",
       "                    [0.229, 0.2249, 0.2209, 0.2169, 0.213, 0.2091, 0.2054, 0.2017,\n",
       "                    0.1981, 0.1946, 0.1911, 0.1877, 0.1845, 0.1812, 0.1781, 0.175,\n",
       "                    0.172, 0.1691, 0.1664, 0.1637, 0.1611, 0.1587, 0.1563, 0.1541,\n",
       "                    0.152, 0.15, 0.148, 0.1462, 0.1445, 0.143, 0.1415, 0.1401,\n",
       "                    0.1388, 0.1376, 0.1365, 0.1355], [0.2289, 0.2249, 0.2209,\n",
       "                    0.2171, 0.2133, 0.2096, 0.2059, 0.2023, 0.1988, 0.1953, 0.192,\n",
       "                    0.1887, 0.1855, 0.1823, 0.1793, 0.1763, 0.1733, 0.1705, 0.1678,\n",
       "                    0.1651, 0.1626, 0.1602, 0.1579, 0.1557, 0.1535, 0.1515, 0.1496,\n",
       "                    0.1478, 0.1461, 0.1445, 0.143, 0.1415, 0.1402, 0.139, 0.1379,\n",
       "                    0.1368], [0.2239, 0.2207, 0.2175, 0.2143, 0.2112, 0.2082,\n",
       "                    0.2051, 0.2022, 0.1993, 0.1964, 0.1936, 0.1909, 0.1882, 0.1855,\n",
       "                    0.1829, 0.1804, 0.1779, 0.1755, 0.1731, 0.1708, 0.1685, 0.1663,\n",
       "                    0.1642, 0.1622, 0.1601, 0.1582, 0.1563, 0.1545, 0.1527, 0.151,\n",
       "                    0.1494, 0.1478, 0.1464, 0.1449, 0.1436, 0.1423]]}],\n",
       "    'layout': {'autosize': True,\n",
       "               'height': 700,\n",
       "               'margin': {'b': 65, 'l': 65, 'r': 50, 't': 90},\n",
       "               'scene': {'aspectratio': {'x': 1, 'y': 1, 'z': 0.667}},\n",
       "               'template': '...',\n",
       "               'title': {'text': 'Vol Surface'},\n",
       "               'width': 900}\n",
       "})"
      ]
     },
     "execution_count": 20,
     "metadata": {},
     "output_type": "execute_result"
    }
   ],
   "source": [
    "import plotly.graph_objs as go\n",
    "\n",
    "fig = go.Figure(\n",
    "    data=[ go.Surface(\n",
    "        z=df2.values.tolist(),\n",
    "        y=df2.columns.values,\n",
    "        x=df2.index.astype(str).values.tolist()\n",
    "    )],\n",
    "    layout=dict(\n",
    "        title = 'Vol Surface', \n",
    "        autosize = True,\n",
    "        width = 900,\n",
    "        height = 700,\n",
    "        margin = dict(\n",
    "            l = 65,\n",
    "            r = 50,\n",
    "            b = 65,\n",
    "            t = 90\n",
    "        ),\n",
    "        scene = dict(\n",
    "            aspectratio = dict(\n",
    "                x = 1,\n",
    "                y = 1,\n",
    "                z = 0.667\n",
    "            )\n",
    "        )\n",
    "    ))\n",
    "\n",
    "go.FigureWidget(fig)"
   ]
  }
 ],
 "metadata": {
  "kernelspec": {
   "display_name": "Python 3 (ipykernel)",
   "language": "python",
   "name": "python3"
  },
  "language_info": {
   "codemirror_mode": {
    "name": "ipython",
    "version": 3
   },
   "file_extension": ".py",
   "mimetype": "text/x-python",
   "name": "python",
   "nbconvert_exporter": "python",
   "pygments_lexer": "ipython3",
   "version": "3.12.5"
  }
 },
 "nbformat": 4,
 "nbformat_minor": 5
}
