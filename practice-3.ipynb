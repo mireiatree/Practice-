{
 "cells": [
  {
   "cell_type": "code",
   "execution_count": 21,
   "id": "8d89b6a9-80e1-47dd-80f6-0ae3a8a95534",
   "metadata": {},
   "outputs": [],
   "source": [
    "import pandas as pd\n",
    "import datetime as dt\n",
    "import seaborn as sns\n",
    "import numpy as np\n",
    "import matplotlib.pyplot as plt\n",
    "import datetime as dt\n",
    "\n",
    "%matplotlib inline"
   ]
  },
  {
   "cell_type": "code",
   "execution_count": 22,
   "id": "a922ac6a-3c4e-4187-8fe7-1390e1d519e2",
   "metadata": {},
   "outputs": [],
   "source": [
    "vols = [ 0.3, 0.06 ]\n",
    "dailyVols = vols / np.sqrt( 252 )\n",
    "corr = -0.4\n",
    "covars = [ \n",
    "    [ dailyVols[ 0 ] ** 2, dailyVols[ 0 ] * dailyVols[ 1 ] * corr ],\n",
    "    [ dailyVols[ 0 ] * dailyVols[ 1 ] * corr, dailyVols[ 1 ] ** 2 ]\n",
    "]\n",
    "randomSeries = np.random.multivariate_normal( ( 0.001, 0 ), covars, 500 ).T"
   ]
  },
  {
   "cell_type": "code",
   "execution_count": 23,
   "id": "ab305fb1-44ea-4c96-8429-ceef8baa8b7d",
   "metadata": {
    "scrolled": true
   },
   "outputs": [
    {
     "data": {
      "text/plain": [
       "array([[ 3.47189804e-02,  4.14529838e-02,  1.06936297e-02,\n",
       "         3.66081831e-02,  1.94711585e-03,  4.47486853e-04,\n",
       "        -5.01324704e-02,  3.52801438e-02,  1.24781333e-03,\n",
       "         2.84035820e-04, -3.87756662e-03, -1.37217353e-02,\n",
       "         2.14067063e-02,  2.76756864e-02,  1.36395990e-02,\n",
       "         2.13107930e-02, -5.51182507e-03, -4.99195662e-02,\n",
       "         7.99838468e-03, -2.01436954e-02, -1.20882865e-02,\n",
       "         2.60714544e-02, -3.98927705e-03,  1.39128680e-02,\n",
       "        -3.01853788e-02,  1.25673989e-02, -4.58640097e-03,\n",
       "        -2.04375940e-02,  1.99377075e-02,  1.84464034e-02,\n",
       "         3.66789040e-02, -5.04005097e-03,  2.61110005e-02,\n",
       "         1.44056545e-02, -1.99149244e-02,  2.52301751e-02,\n",
       "        -1.55298826e-02,  4.63494136e-03, -2.02196225e-03,\n",
       "         4.75734046e-03, -2.14095057e-02, -1.04927554e-02,\n",
       "         1.88020218e-02, -4.61657069e-03,  2.62409491e-02,\n",
       "         1.72260311e-02, -1.55207088e-02, -6.25431843e-03,\n",
       "        -2.72353194e-02,  1.15383719e-02,  1.87904758e-02,\n",
       "        -4.92225924e-03,  2.78345230e-02, -1.02132767e-02,\n",
       "        -1.93725159e-02, -2.58518530e-02,  2.98222411e-02,\n",
       "         3.09161558e-02,  1.74217684e-02, -3.30396181e-03,\n",
       "         1.75483312e-02, -3.56645124e-02, -1.71858804e-02,\n",
       "        -1.73444010e-02,  3.87864265e-02,  7.07507015e-03,\n",
       "         1.06110168e-02, -1.87975024e-02,  2.03276859e-03,\n",
       "        -1.73098223e-02,  5.77067746e-04,  1.48810524e-02,\n",
       "         1.60810928e-03,  2.63175504e-02,  1.54762495e-02,\n",
       "         1.48488200e-02, -1.02253394e-02,  2.39205560e-03,\n",
       "        -1.23694215e-02, -2.35049744e-02,  2.04404085e-02,\n",
       "        -9.65960764e-03,  8.15142892e-03,  1.78325117e-02,\n",
       "         1.35756268e-02,  5.91438928e-02, -1.95250685e-02,\n",
       "         1.40314750e-02,  2.45227215e-03,  1.53599194e-02,\n",
       "        -4.73425403e-03, -1.96949119e-02,  1.97433694e-03,\n",
       "        -3.77624240e-03, -3.75673558e-02,  7.99009764e-03,\n",
       "        -1.32579074e-02,  6.78126039e-03,  1.49917589e-03,\n",
       "        -1.89307152e-03,  5.91425545e-03, -1.78578501e-02,\n",
       "         1.72375095e-02, -2.16528608e-02,  1.82582282e-02,\n",
       "         1.18859243e-02, -1.95989221e-02,  6.24488902e-03,\n",
       "         1.00779107e-03,  2.66284287e-02, -1.03741611e-02,\n",
       "        -2.44630357e-02, -6.69863241e-03,  5.17293249e-02,\n",
       "         2.53870707e-02,  6.96603698e-03, -2.13382961e-02,\n",
       "         1.26206794e-02,  2.12878480e-02, -9.89522109e-03,\n",
       "        -1.61107158e-02, -2.49670940e-02, -2.71302800e-03,\n",
       "        -2.36510834e-02,  1.81367560e-02, -2.48622001e-02,\n",
       "         1.01953039e-02, -6.14775562e-03, -1.87323179e-02,\n",
       "        -2.45322740e-02, -1.05056781e-02,  2.06392612e-02,\n",
       "        -1.22025457e-02, -1.30090126e-02,  3.61323916e-02,\n",
       "         1.30435083e-02,  1.98547088e-02, -1.25980627e-02,\n",
       "        -6.76863991e-03,  2.40310909e-02,  3.82257681e-03,\n",
       "         1.52699225e-02, -1.34955937e-03,  1.90818482e-02,\n",
       "         2.28495840e-03, -2.56979716e-02,  1.12051447e-02,\n",
       "        -2.75809337e-02, -1.97894096e-02,  2.17666430e-02,\n",
       "         3.83787570e-02,  4.08220319e-04,  1.40365852e-02,\n",
       "         2.07187018e-02,  2.38045416e-02, -2.38568080e-02,\n",
       "         3.20725279e-02,  1.42532157e-02,  2.28720542e-03,\n",
       "         3.17335246e-02, -2.87559604e-02, -1.22157252e-02,\n",
       "         2.15660273e-04,  4.44439244e-02, -2.00477690e-02,\n",
       "        -8.48488749e-03, -1.16111014e-02, -8.03259212e-03,\n",
       "        -1.59762687e-02,  1.00108636e-03, -2.33234307e-02,\n",
       "        -1.95938089e-02, -1.85089843e-02, -1.83414101e-02,\n",
       "         3.23198326e-02,  1.24938189e-02, -1.01986184e-02,\n",
       "         8.85358450e-04,  1.94099285e-02, -1.46351262e-02,\n",
       "         1.37534554e-02,  3.58105087e-02, -5.53645408e-03,\n",
       "         2.87332764e-02,  1.52398902e-02, -2.11866941e-02,\n",
       "         1.25942765e-03, -2.07090845e-02, -1.77638421e-02,\n",
       "        -5.80126466e-03, -1.35417416e-03, -2.16367658e-03,\n",
       "         2.87338761e-02,  1.82168720e-02,  2.78256561e-02,\n",
       "        -1.16117019e-02, -2.83065872e-03,  1.32416566e-02,\n",
       "         5.22857256e-03,  1.32793070e-02, -4.56014444e-03,\n",
       "        -2.35592511e-02, -9.62752826e-04,  2.22102220e-02,\n",
       "        -1.08930858e-02, -1.26855325e-02,  6.40658929e-03,\n",
       "         2.56439022e-02,  1.32288008e-02, -5.39545423e-03,\n",
       "        -7.39604739e-03,  4.49121768e-03,  3.61206498e-04,\n",
       "        -1.35946207e-02, -1.78411982e-02, -7.06235711e-03,\n",
       "         3.04074109e-02, -4.13700401e-03, -1.67523018e-02,\n",
       "         3.17273400e-02,  3.79234654e-02,  9.52772940e-03,\n",
       "         4.00145649e-02,  1.56316115e-02,  7.66205300e-03,\n",
       "        -4.08103688e-02, -6.00929550e-03, -1.93418268e-02,\n",
       "         2.15982807e-02,  2.75007194e-03, -6.81071532e-03,\n",
       "        -1.45859463e-02,  2.44894731e-02, -3.16017946e-02,\n",
       "         1.24431210e-02,  3.12208470e-02,  2.32146375e-03,\n",
       "         9.49211565e-03,  4.07354778e-03,  3.53150547e-03,\n",
       "         1.56816332e-02,  1.95188566e-02, -1.08303700e-02,\n",
       "        -1.21624351e-02, -5.36751862e-02, -1.04087445e-02,\n",
       "         1.15824973e-02,  1.79874696e-02, -2.36294783e-02,\n",
       "        -1.87568481e-02, -2.79142559e-02, -7.62634624e-03,\n",
       "         1.67653686e-02,  9.40437076e-03, -4.07488257e-03,\n",
       "        -6.08477954e-03, -1.42193208e-02, -1.08116742e-02,\n",
       "         3.04139882e-02, -1.28884369e-03, -2.81731846e-02,\n",
       "        -8.45681807e-03, -3.16277582e-02,  1.84231600e-03,\n",
       "        -3.61090086e-03, -4.54318306e-03, -3.84601775e-03,\n",
       "        -1.41439454e-02, -7.00099284e-03, -1.01612435e-02,\n",
       "        -1.33034878e-02, -1.35105489e-04,  4.04772895e-02,\n",
       "        -4.56675975e-03,  1.66543047e-02,  8.74748980e-04,\n",
       "         2.35103620e-02,  1.90269004e-02, -1.87604884e-02,\n",
       "        -2.45368495e-02, -1.50594573e-02,  3.53267008e-02,\n",
       "        -9.46126673e-03,  1.12660733e-02,  3.35925432e-02,\n",
       "         9.97318505e-03, -1.55912428e-02, -2.82367203e-02,\n",
       "         3.32625175e-02, -1.86005507e-02, -1.18479220e-02,\n",
       "         4.77789186e-03, -5.13801441e-03,  1.56354169e-02,\n",
       "        -1.41619682e-02,  2.04281591e-03, -1.11073049e-02,\n",
       "         9.87034587e-03,  3.80091468e-02,  2.91371615e-02,\n",
       "         3.26645257e-02,  3.92349191e-04, -3.49459627e-02,\n",
       "        -7.00253294e-03,  2.16103582e-02,  1.67402879e-02,\n",
       "         2.98715049e-02,  1.02916061e-02,  1.64483661e-03,\n",
       "        -2.61599093e-02, -2.37242107e-02, -2.38361234e-02,\n",
       "         3.44642874e-02,  1.83269042e-02, -3.03257734e-03,\n",
       "        -1.82607634e-02,  8.82885728e-03, -1.30808480e-03,\n",
       "        -1.47426542e-02,  6.22854253e-03, -7.83707472e-03,\n",
       "         4.40728747e-02, -2.10179015e-02,  3.77034438e-03,\n",
       "        -3.71712661e-02, -1.82865742e-03, -4.00194551e-02,\n",
       "         1.18261576e-02,  4.80918980e-03, -1.38274885e-02,\n",
       "        -2.97182522e-02,  2.65241722e-02, -1.53733470e-03,\n",
       "        -2.12294075e-02, -1.78269426e-02,  3.88605882e-02,\n",
       "        -9.75752431e-03, -4.33931006e-03, -2.02667265e-02,\n",
       "         6.96979250e-03,  1.04073340e-02, -2.81065269e-03,\n",
       "        -2.80444798e-03, -2.36838716e-02,  1.19022502e-02,\n",
       "         1.55456307e-02, -1.86807112e-02,  3.15887454e-02,\n",
       "         1.47230927e-02,  5.56890966e-02,  1.84025638e-02,\n",
       "         1.25992813e-02, -1.24319499e-02,  4.06689325e-03,\n",
       "         2.18888676e-02, -3.39488893e-02,  1.00824195e-02,\n",
       "         1.44090340e-02, -1.65215824e-02, -3.42249402e-03,\n",
       "         2.67920838e-02,  1.46093924e-02, -6.97283378e-04,\n",
       "         2.18441299e-02,  3.08419274e-03, -1.98525637e-02,\n",
       "         1.03517852e-02,  4.97043249e-02,  1.86253774e-02,\n",
       "         7.14531822e-03,  3.02544986e-02,  1.71249581e-02,\n",
       "        -9.54060610e-03,  4.67066998e-02, -2.96691153e-02,\n",
       "        -2.29110882e-02,  1.74289393e-02,  2.59797534e-02,\n",
       "        -6.03387866e-04,  1.12024042e-02, -3.41941514e-02,\n",
       "        -1.09314245e-02, -9.72908708e-03, -2.56604861e-03,\n",
       "        -8.40107095e-03,  2.09797803e-02, -1.12348226e-02,\n",
       "         9.01597035e-03,  1.34806943e-02, -1.51028257e-02,\n",
       "        -6.56419833e-03,  9.65266177e-03, -1.00455815e-02,\n",
       "        -1.93139394e-03, -1.88369132e-02, -6.18032518e-03,\n",
       "         2.05629062e-03, -6.72413326e-03, -1.30426268e-02,\n",
       "         1.13095407e-02,  1.04674929e-04,  2.36128467e-02,\n",
       "         2.13039682e-02,  3.76469801e-03,  8.50209280e-03,\n",
       "         9.55076202e-03, -8.29593564e-03, -4.93578180e-03,\n",
       "        -4.00656961e-02, -1.75395487e-03, -7.05353857e-03,\n",
       "        -2.38909399e-02, -6.44558078e-03, -1.79496242e-03,\n",
       "        -2.05140274e-02, -2.76879951e-02,  4.70899781e-03,\n",
       "        -9.75384575e-03, -9.69307304e-03,  2.18207078e-02,\n",
       "        -6.08226259e-03,  1.77752540e-02,  2.46075747e-03,\n",
       "        -3.02696322e-02,  1.77770151e-02,  1.87841676e-03,\n",
       "         3.46274018e-02,  7.28491094e-04, -7.76053216e-03,\n",
       "         1.52225673e-02,  3.51373534e-03,  2.89486623e-02,\n",
       "         1.27252919e-02,  2.45536902e-02,  1.43281555e-02,\n",
       "        -8.51251772e-03, -2.36019880e-02,  9.93051198e-03,\n",
       "        -3.56096173e-03,  2.97612713e-02,  1.98454046e-02,\n",
       "         4.67196272e-03,  1.27971929e-02,  5.67996244e-03,\n",
       "        -1.89240362e-02, -7.05797246e-03,  5.06625551e-03,\n",
       "        -1.47760274e-02, -2.74757264e-03, -1.11634477e-02,\n",
       "        -4.42751306e-02, -1.17361107e-02,  8.22573873e-03,\n",
       "        -2.92716344e-04,  4.33521602e-02, -1.51147076e-02,\n",
       "         5.11421911e-02,  3.31632560e-02,  2.60242186e-02,\n",
       "        -2.76613138e-03,  2.69438848e-02,  2.75576514e-02,\n",
       "        -2.27601394e-02,  2.29253149e-02,  1.78702229e-02,\n",
       "         2.30835901e-02, -6.55437342e-03,  1.07995280e-02,\n",
       "        -2.03331035e-02,  8.07752970e-03, -2.56423662e-02,\n",
       "         1.15383005e-03,  6.87613070e-03, -2.65438762e-02,\n",
       "        -2.27767483e-03, -7.09196979e-03, -1.51891100e-02,\n",
       "         1.99656862e-03,  4.11240990e-02, -4.85714278e-02,\n",
       "        -2.85160103e-02, -2.48984234e-02,  2.07268241e-02,\n",
       "         1.01978062e-02, -2.15055020e-03,  1.72072624e-03,\n",
       "         5.43625611e-02, -1.21414999e-02,  1.98471030e-02,\n",
       "         2.56470423e-02,  2.00847951e-02,  8.86813630e-03,\n",
       "        -5.57772470e-03,  6.93816240e-03,  2.55626670e-02,\n",
       "         2.09667760e-03, -2.27944381e-02,  1.70867445e-03,\n",
       "         3.13576820e-03,  9.35743909e-03],\n",
       "       [-4.51386449e-03,  3.09953875e-03, -4.37474728e-03,\n",
       "        -1.71012803e-03, -1.30321700e-03,  8.03970651e-03,\n",
       "         8.15108088e-03, -4.68331394e-03, -2.49684335e-03,\n",
       "        -4.62235865e-03,  5.04654430e-03,  4.65005006e-03,\n",
       "        -9.92222370e-05, -2.71760561e-03, -1.00498371e-03,\n",
       "        -1.54483465e-04, -2.02255263e-03,  1.38023036e-03,\n",
       "         1.40509994e-03,  3.36712032e-03,  7.18766682e-03,\n",
       "        -1.33011980e-03,  2.81831249e-03, -3.95011526e-03,\n",
       "         5.54741233e-03, -2.31089239e-03, -6.16742144e-04,\n",
       "         3.58939056e-03, -1.86813072e-03, -8.87406763e-03,\n",
       "        -4.31656844e-03, -3.84851074e-03, -2.14394204e-03,\n",
       "        -6.25881746e-03,  5.33739837e-03, -6.56808494e-03,\n",
       "         1.08076073e-03, -1.34617075e-03,  1.69167825e-03,\n",
       "         2.64156634e-03, -2.46979290e-03,  1.93332922e-04,\n",
       "         2.16977819e-03,  6.00645766e-03, -5.29544618e-03,\n",
       "        -3.41819282e-03,  5.03639000e-03, -1.36243124e-03,\n",
       "         6.34053254e-03, -6.85869625e-03, -5.93874484e-03,\n",
       "         2.33552095e-04,  1.24928885e-03, -3.95241853e-03,\n",
       "        -1.34765763e-03,  7.82148313e-03, -3.12798754e-03,\n",
       "         8.63846867e-04, -2.57226780e-03,  2.48129668e-03,\n",
       "        -2.28661744e-03, -4.69684163e-04,  5.05366435e-03,\n",
       "         3.13053500e-03, -3.16075637e-03, -9.93156671e-05,\n",
       "        -5.09410664e-03, -1.39303201e-03, -1.84959219e-03,\n",
       "         1.42108995e-03, -3.00781427e-03,  1.04510561e-04,\n",
       "         2.36082351e-03,  4.75079046e-04, -2.40037302e-03,\n",
       "        -1.84330582e-03, -1.64275708e-03,  5.31911782e-04,\n",
       "        -1.15534091e-03,  8.70385082e-03, -3.02860962e-03,\n",
       "         1.57558153e-03,  4.56149051e-04,  2.60381755e-03,\n",
       "        -1.48698324e-03, -3.96764348e-03,  9.16475026e-03,\n",
       "         2.07623880e-03,  4.88579191e-03,  8.50154523e-05,\n",
       "         1.59626281e-03, -1.82696295e-03, -1.88750324e-03,\n",
       "         8.35211567e-03,  1.63311293e-03,  3.06163354e-03,\n",
       "         3.48634307e-04, -2.37980209e-03,  1.44480714e-03,\n",
       "         1.84778960e-05, -4.27231535e-03,  1.10486330e-02,\n",
       "        -9.19964292e-03, -5.57311180e-03, -4.10149944e-03,\n",
       "        -1.37907953e-05,  3.88054384e-03, -9.67499502e-04,\n",
       "         3.82134831e-06, -9.72903098e-03,  1.78732142e-03,\n",
       "        -6.07780601e-04, -9.87172510e-04, -9.78786783e-03,\n",
       "        -5.71019221e-03,  1.12968165e-03,  2.85739752e-03,\n",
       "         2.39052462e-04,  1.66961480e-03,  7.68760033e-03,\n",
       "         5.08751874e-03, -1.60344286e-04,  8.52308849e-03,\n",
       "        -3.82343478e-04,  1.38541452e-03, -1.22248030e-03,\n",
       "         5.05609163e-04,  6.39776313e-03, -2.96333916e-03,\n",
       "         2.69533025e-03,  1.35168251e-03, -2.55257877e-04,\n",
       "        -2.79374271e-03,  2.91309924e-04, -2.52465849e-03,\n",
       "        -8.64510847e-03, -3.73584744e-03,  4.89143229e-03,\n",
       "        -1.68513406e-03,  7.32414936e-04, -1.20035889e-03,\n",
       "         1.48522680e-03,  3.03505241e-03, -2.10234948e-04,\n",
       "         2.12851251e-03,  3.26161302e-03, -1.93943171e-03,\n",
       "         4.57750672e-03,  2.56060607e-03,  4.17030455e-04,\n",
       "        -1.16944618e-02,  3.68352287e-03, -4.45530050e-03,\n",
       "        -4.12057116e-03,  2.12469081e-03,  4.06052989e-03,\n",
       "        -8.70878428e-03, -6.70163594e-03,  6.14542176e-04,\n",
       "        -3.89415675e-04,  5.86765131e-03,  2.03058585e-03,\n",
       "        -5.42469747e-03, -7.76281855e-04,  4.67580231e-03,\n",
       "         1.89387937e-03,  7.55634609e-03,  3.26000977e-03,\n",
       "        -9.71626640e-04,  3.61962075e-03,  3.94514474e-03,\n",
       "         2.15304032e-03,  4.68530803e-04,  1.98255375e-03,\n",
       "        -6.49100989e-03,  2.29294384e-03,  3.12896192e-03,\n",
       "        -3.09498485e-03,  6.70718169e-03,  1.49649383e-03,\n",
       "         2.43430547e-03, -5.99015657e-03,  3.12849314e-03,\n",
       "        -5.53881238e-03, -7.18576019e-04,  1.73037583e-04,\n",
       "         1.37456201e-03, -1.20653626e-03,  3.94695624e-03,\n",
       "        -8.95868758e-04, -5.87894097e-03, -3.77632359e-03,\n",
       "        -4.25419688e-03, -2.11473398e-03, -4.43839152e-03,\n",
       "         1.82479887e-03,  4.13184104e-03, -2.44747643e-03,\n",
       "        -4.91443241e-03,  7.67593349e-03,  1.03910544e-03,\n",
       "         1.05267220e-03,  5.01744865e-03,  4.62521037e-03,\n",
       "         1.95328085e-03,  2.64022083e-03,  2.37880930e-03,\n",
       "         2.70461256e-04,  2.05584647e-04,  2.42141193e-03,\n",
       "         1.33463188e-03,  6.81145813e-03, -3.81602138e-03,\n",
       "         3.21598400e-03,  2.58444601e-03,  2.11805212e-03,\n",
       "        -4.18831450e-03, -9.22086352e-04,  5.63744677e-03,\n",
       "        -1.33370213e-03, -2.16290445e-03, -2.47658833e-03,\n",
       "        -6.82640971e-03, -8.41175335e-04, -2.08149975e-03,\n",
       "         1.27428077e-03,  5.81982218e-03,  1.91829329e-03,\n",
       "         1.27047346e-03,  2.42787412e-03, -3.34778723e-03,\n",
       "         2.74509497e-03,  1.29103307e-03,  3.83848320e-03,\n",
       "        -1.90284692e-03, -4.04637229e-03, -7.49999765e-04,\n",
       "        -1.38551366e-03,  1.88281892e-03,  1.61919497e-03,\n",
       "        -1.93807057e-03,  3.14663459e-03,  5.19522250e-03,\n",
       "         7.44247244e-03,  6.58963993e-03,  1.26441057e-03,\n",
       "        -6.21906445e-03, -2.53724422e-03,  2.44674634e-03,\n",
       "         6.95128786e-03, -8.54573442e-04, -2.54755206e-03,\n",
       "        -1.58889315e-03, -2.78969232e-03,  3.74874699e-03,\n",
       "        -5.44126509e-04,  5.90461379e-03,  7.72111398e-03,\n",
       "         1.79726821e-03, -3.31824524e-03,  4.40550142e-03,\n",
       "         6.09827226e-04,  4.18055556e-03, -1.04541547e-03,\n",
       "        -1.01504706e-03,  1.98337965e-04,  2.92853402e-03,\n",
       "         4.52610999e-03, -4.97022252e-04, -5.85634829e-04,\n",
       "         4.79028254e-04,  3.54185830e-03, -5.76171569e-03,\n",
       "         4.55734729e-03, -4.81723292e-03,  2.77090915e-03,\n",
       "        -5.92045372e-03, -2.55757288e-03,  6.09775955e-04,\n",
       "         6.80982360e-04,  1.57375800e-03,  6.36359235e-04,\n",
       "         4.41184340e-03, -3.55035173e-04, -7.46247405e-03,\n",
       "         5.35773421e-04,  9.87606353e-03,  5.25520404e-03,\n",
       "        -4.08873580e-03,  7.46005996e-03,  6.52257917e-03,\n",
       "         3.98508963e-04,  6.53834687e-04, -2.99390719e-03,\n",
       "        -6.02081017e-03, -1.94763790e-03, -3.02058422e-03,\n",
       "         3.06612106e-03,  2.00957914e-03, -4.66976491e-03,\n",
       "        -4.33030856e-04,  1.48817603e-03,  1.15158559e-03,\n",
       "         7.44101706e-03, -1.24296233e-03, -2.27459991e-03,\n",
       "        -9.40076572e-04, -4.51995117e-03,  1.93415293e-03,\n",
       "         1.02514046e-03, -5.40932702e-03,  2.97899313e-03,\n",
       "        -9.33613851e-04,  4.87794743e-03,  6.41615395e-03,\n",
       "         2.73205160e-04, -1.12920841e-03,  2.21174114e-03,\n",
       "        -2.23405855e-03,  1.75538682e-03, -3.98363983e-03,\n",
       "        -3.23657433e-03, -3.39695826e-03,  6.42341198e-04,\n",
       "         1.71406383e-03,  8.97958997e-04,  4.38582405e-03,\n",
       "        -2.85495675e-03, -6.06972538e-03,  2.53867417e-03,\n",
       "         1.16193450e-03,  1.69467893e-03, -2.50156109e-03,\n",
       "        -3.33037327e-03,  1.79725773e-03, -1.75591318e-03,\n",
       "        -1.20880662e-03,  2.42308826e-03,  2.95605212e-03,\n",
       "         6.27805623e-04, -1.98294417e-03, -1.89601953e-03,\n",
       "         4.33257997e-03,  2.41788157e-03, -3.20823350e-04,\n",
       "        -2.79484415e-04,  4.57043810e-03, -3.76809385e-03,\n",
       "         6.74672346e-03, -3.80722846e-03,  1.95185951e-06,\n",
       "        -3.11908428e-03,  3.38344009e-04,  4.54824698e-04,\n",
       "         4.08441392e-03, -1.23576266e-03,  3.39164459e-03,\n",
       "         3.35733214e-03,  3.10254066e-03,  8.82828968e-04,\n",
       "        -6.69330498e-03, -3.63786917e-03,  2.18316017e-03,\n",
       "         2.88896579e-04,  2.39833560e-03,  2.15156318e-03,\n",
       "        -2.91950906e-03, -5.51631504e-03,  3.24737782e-03,\n",
       "        -3.77390866e-03,  4.23554867e-04, -1.69466069e-03,\n",
       "        -2.09574575e-04, -6.09298671e-03, -9.02454445e-04,\n",
       "         4.34092893e-06,  1.55034511e-03, -3.86798239e-03,\n",
       "        -2.66598308e-03,  1.03644839e-03,  4.00353228e-03,\n",
       "         4.01444813e-03,  3.19265739e-03,  4.98220348e-03,\n",
       "         2.50292234e-03,  2.82978619e-03,  7.79133976e-03,\n",
       "         3.91200798e-03,  2.73161160e-03, -2.91918802e-03,\n",
       "         2.01109311e-03, -2.80294386e-03,  1.41849365e-03,\n",
       "        -2.83955849e-03,  5.20610642e-03,  3.37894995e-03,\n",
       "        -1.79130175e-03, -5.03462265e-04,  4.96844612e-03,\n",
       "        -3.36598437e-03, -2.48050313e-03, -4.22529765e-03,\n",
       "         4.42187529e-05, -3.87043652e-04,  7.31948547e-03,\n",
       "         5.91840139e-03,  2.19919622e-03,  5.35135759e-03,\n",
       "         4.93104843e-03, -3.63791905e-03, -3.08180364e-03,\n",
       "        -3.65281743e-03,  3.86244030e-04,  2.35249289e-03,\n",
       "         1.28338689e-03,  9.78924839e-03,  1.95224815e-03,\n",
       "        -3.01671552e-03, -7.27387835e-03,  2.98702167e-03,\n",
       "         2.96850505e-03, -1.87692175e-03, -2.28837249e-03,\n",
       "         9.49015046e-03, -2.22880515e-03, -4.86624861e-03,\n",
       "        -9.19326284e-04, -4.68044245e-04, -2.31860440e-03,\n",
       "         5.34393603e-03,  4.01380806e-03, -1.06564893e-03,\n",
       "        -3.04976094e-03, -3.09754364e-04,  4.36184988e-03,\n",
       "         6.49415425e-04,  7.43524583e-03,  1.86859018e-03,\n",
       "        -2.14504832e-03, -3.25513454e-03, -1.31859894e-03,\n",
       "        -1.61866900e-03,  2.92435589e-04, -4.15005872e-03,\n",
       "        -5.28358290e-04,  1.33845095e-03, -3.39905775e-03,\n",
       "        -3.09674564e-03, -3.21055660e-04,  5.37715339e-03,\n",
       "         4.40900418e-03,  2.45387436e-03, -2.55333721e-03,\n",
       "         4.54328086e-03,  3.55498799e-03, -1.93073756e-03,\n",
       "         4.79992230e-03, -1.22616764e-03, -1.81866254e-03,\n",
       "        -1.88757854e-03,  9.58965724e-04, -2.28102542e-03,\n",
       "        -2.29389274e-03, -4.46800400e-03, -7.31630955e-03,\n",
       "        -6.82517441e-03,  5.97831384e-03,  1.61231857e-03,\n",
       "         1.61218049e-04, -1.01094199e-02,  6.43072771e-03,\n",
       "        -2.73389777e-03, -4.21765809e-03,  8.05211058e-04,\n",
       "        -2.67997986e-03,  3.27262463e-03,  1.90973691e-03,\n",
       "         1.40750885e-03, -6.57466212e-03,  9.04484450e-03,\n",
       "         5.82919062e-03,  1.63266103e-03, -9.04623569e-03,\n",
       "         1.96379332e-03, -1.84282144e-03, -7.55279327e-04,\n",
       "        -6.36762854e-03,  6.23402385e-03, -4.81214013e-03,\n",
       "         9.89111247e-04, -2.23629709e-03,  5.78654629e-03,\n",
       "         3.03913380e-03, -5.26852034e-04, -6.83488978e-03,\n",
       "         4.38828869e-03, -4.05574754e-04,  2.11668459e-03,\n",
       "         2.60564373e-03,  1.36744174e-03]])"
      ]
     },
     "execution_count": 23,
     "metadata": {},
     "output_type": "execute_result"
    }
   ],
   "source": [
    "randomSeries"
   ]
  },
  {
   "cell_type": "code",
   "execution_count": 24,
   "id": "b8f11182-dc8f-49f6-abef-6d71638125c0",
   "metadata": {},
   "outputs": [],
   "source": [
    "rtyVol = 0.2 * ( 1 + randomSeries[ 0 ] ).cumprod()\n",
    "hygPrice = 80 * ( 1 + randomSeries[ 1 ] ).cumprod()"
   ]
  },
  {
   "cell_type": "code",
   "execution_count": 25,
   "id": "eaf91fdd-da92-48f8-a943-14a7ded4d5fc",
   "metadata": {},
   "outputs": [],
   "source": [
    "df = pd.DataFrame(np.array([rtyVol, hygPrice]).T, columns=[\"RTY.3m.Proxy.Implied.Vol\", \"HYG.spot\"])"
   ]
  },
  {
   "cell_type": "code",
   "execution_count": 26,
   "id": "206185bf-ee51-4576-a992-f28dc7f4c92a",
   "metadata": {},
   "outputs": [
    {
     "data": {
      "text/html": [
       "<div>\n",
       "<style scoped>\n",
       "    .dataframe tbody tr th:only-of-type {\n",
       "        vertical-align: middle;\n",
       "    }\n",
       "\n",
       "    .dataframe tbody tr th {\n",
       "        vertical-align: top;\n",
       "    }\n",
       "\n",
       "    .dataframe thead th {\n",
       "        text-align: right;\n",
       "    }\n",
       "</style>\n",
       "<table border=\"1\" class=\"dataframe\">\n",
       "  <thead>\n",
       "    <tr style=\"text-align: right;\">\n",
       "      <th></th>\n",
       "      <th>RTY.3m.Proxy.Implied.Vol</th>\n",
       "      <th>HYG.spot</th>\n",
       "    </tr>\n",
       "  </thead>\n",
       "  <tbody>\n",
       "    <tr>\n",
       "      <th>0</th>\n",
       "      <td>0.206944</td>\n",
       "      <td>79.638891</td>\n",
       "    </tr>\n",
       "    <tr>\n",
       "      <th>1</th>\n",
       "      <td>0.215522</td>\n",
       "      <td>79.885735</td>\n",
       "    </tr>\n",
       "    <tr>\n",
       "      <th>2</th>\n",
       "      <td>0.217827</td>\n",
       "      <td>79.536255</td>\n",
       "    </tr>\n",
       "    <tr>\n",
       "      <th>3</th>\n",
       "      <td>0.225801</td>\n",
       "      <td>79.400238</td>\n",
       "    </tr>\n",
       "    <tr>\n",
       "      <th>4</th>\n",
       "      <td>0.226241</td>\n",
       "      <td>79.296762</td>\n",
       "    </tr>\n",
       "  </tbody>\n",
       "</table>\n",
       "</div>"
      ],
      "text/plain": [
       "   RTY.3m.Proxy.Implied.Vol   HYG.spot\n",
       "0                  0.206944  79.638891\n",
       "1                  0.215522  79.885735\n",
       "2                  0.217827  79.536255\n",
       "3                  0.225801  79.400238\n",
       "4                  0.226241  79.296762"
      ]
     },
     "execution_count": 26,
     "metadata": {},
     "output_type": "execute_result"
    }
   ],
   "source": [
    "df.head()"
   ]
  },
  {
   "cell_type": "code",
   "execution_count": 27,
   "id": "f03f0dbb-b9be-465c-a21e-dd1623310e78",
   "metadata": {},
   "outputs": [
    {
     "data": {
      "text/plain": [
       "<Axes: >"
      ]
     },
     "execution_count": 27,
     "metadata": {},
     "output_type": "execute_result"
    },
    {
     "data": {
      "image/png": "[encoded data removed]",
      "text/plain": [
       "<Figure size 640x480 with 1 Axes>"
      ]
     },
     "metadata": {},
     "output_type": "display_data"
    }
   ],
   "source": [
    "df.plot()"
   ]
  },
  {
   "cell_type": "code",
   "execution_count": 28,
   "id": "b4ed4b22-9ad6-410e-8023-5bdd8eb0bc65",
   "metadata": {},
   "outputs": [
    {
     "data": {
      "image/png": "[encoded data removed]",
      "text/plain": [
       "<Figure size 640x480 with 2 Axes>"
      ]
     },
     "metadata": {},
     "output_type": "display_data"
    }
   ],
   "source": [
    "plt.style.use('ggplot') \n",
    "df.plot(secondary_y=[\"HYG.spot\"], legend=True)\n",
    "plt.show() "
   ]
  },
  {
   "cell_type": "code",
   "execution_count": 29,
   "id": "7bbe3a3c-da55-4f2c-9470-33c4d15e1c7f",
   "metadata": {},
   "outputs": [
    {
     "data": {
      "text/plain": [
       "<Axes: >"
      ]
     },
     "execution_count": 29,
     "metadata": {},
     "output_type": "execute_result"
    },
    {
     "data": {
      "image/png": "[encoded data removed]",
      "text/plain": [
       "<Figure size 640x480 with 2 Axes>"
      ]
     },
     "metadata": {},
     "output_type": "display_data"
    }
   ],
   "source": [
    "df[\"RTY.3m.Proxy.Implied.Vol\"] = df[\"RTY.3m.Proxy.Implied.Vol\"] * -1\n",
    "df.plot(secondary_y=[\"HYG.spot\"], legend=True)"
   ]
  },
  {
   "cell_type": "code",
   "execution_count": 30,
   "id": "4f3ef3be-87e1-428e-a65b-1d9bcfeb85e4",
   "metadata": {},
   "outputs": [
    {
     "data": {
      "text/plain": [
       "<matplotlib.collections.PathCollection at 0x17794f560>"
      ]
     },
     "execution_count": 30,
     "metadata": {},
     "output_type": "execute_result"
    },
    {
     "data": {
      "image/png": "[encoded data removed]",
      "text/plain": [
       "<Figure size 640x480 with 1 Axes>"
      ]
     },
     "metadata": {},
     "output_type": "display_data"
    }
   ],
   "source": [
    "plt.scatter( df[ df.columns[ 0 ] ], df[ df.columns[ 1 ] ] )"
   ]
  },
  {
   "cell_type": "code",
   "execution_count": 31,
   "id": "a0c36d1d-9f9b-48fe-9a29-460fe320632e",
   "metadata": {},
   "outputs": [
    {
     "data": {
      "text/plain": [
       "<Axes: xlabel='HYG.spot', ylabel='RTY.3m.Proxy.Implied.Vol'>"
      ]
     },
     "execution_count": 31,
     "metadata": {},
     "output_type": "execute_result"
    },
    {
     "data": {
      "image/png": "[encoded data removed]",
      "text/plain": [
       "<Figure size 640x480 with 1 Axes>"
      ]
     },
     "metadata": {},
     "output_type": "display_data"
    }
   ],
   "source": [
    "fig, ax = plt.subplots( sharex=True )\n",
    "sns.regplot( x=\"HYG.spot\", y=\"RTY.3m.Proxy.Implied.Vol\", data=df.diff(), ax=ax )"
   ]
  },
  {
   "cell_type": "code",
   "execution_count": 32,
   "id": "31f8c58b-61f1-4fa7-9fb2-d74d88eb28b9",
   "metadata": {},
   "outputs": [
    {
     "name": "stdout",
     "output_type": "stream",
     "text": [
      "R^2 = 0.457\n",
      "y = 0.009x - 0.001\n"
     ]
    }
   ],
   "source": [
    "from scipy import stats\n",
    "\n",
    "diff = df.diff().dropna()\n",
    "slope, intercept, rvalue, pvalue, stderr = stats.linregress(diff[\"HYG.spot\"], diff[\"RTY.3m.Proxy.Implied.Vol\"])\n",
    "print( \"R^2 = {r:.3f}\".format( r=rvalue ) )\n",
    "print( 'y = {m:.3f}x {sign} {b:.3f}'.format( m=slope, sign=\"+\" if intercept >= 0 else \"-\", b=abs(intercept) ) )"
   ]
  },
  {
   "cell_type": "code",
   "execution_count": 33,
   "id": "b8beed9f-1381-4f82-a1fe-5529265c7415",
   "metadata": {},
   "outputs": [
    {
     "data": {
      "text/html": [
       "        <script type=\"text/javascript\">\n",
       "        window.PlotlyConfig = {MathJaxConfig: 'local'};\n",
       "        if (window.MathJax && window.MathJax.Hub && window.MathJax.Hub.Config) {window.MathJax.Hub.Config({SVG: {font: \"STIX-Web\"}});}\n",
       "        </script>\n",
       "        <script type=\"module\">import \"https://cdn.plot.ly/plotly-3.0.0.min\"</script>\n",
       "        "
      ]
     },
     "metadata": {},
     "output_type": "display_data"
    },
    {
     "name": "stderr",
     "output_type": "stream",
     "text": [
      "/Library/Frameworks/Python.framework/Versions/3.12/lib/python3.12/site-packages/plotly/matplotlylib/renderer.py:571: UserWarning:\n",
      "\n",
      "Dang! That path collection is out of this world. I totally don't know what to do with it yet! Plotly can only import path collections linked to 'data' coordinates\n",
      "\n"
     ]
    },
    {
     "data": {
      "application/vnd.plotly.v1+json": {
       "config": {
        "linkText": "Export to plot.ly",
        "plotlyServerURL": "https://plot.ly",
        "showLink": false
       },
       "data": [
        {
         "line": {
          "color": "rgba (226, 74, 51, 1)",
          "dash": "solid",
          "width": 2.25
         },
         "mode": "lines",
         "name": "_child1",
         "type": "scatter",
         "x": [
          -0.9429017590976372,
          -0.9244033664725843,
          -0.9059049738475314,
          -0.8874065812224785,
          -0.8689081885974256,
          -0.8504097959723728,
          -0.8319114033473198,
          -0.813413010722267,
          -0.7949146180972141,
          -0.7764162254721612,
          -0.7579178328471083,
          -0.7394194402220554,
          -0.7209210475970025,
          -0.7024226549719497,
          -0.6839242623468967,
          -0.6654258697218438,
          -0.646927477096791,
          -0.6284290844717381,
          -0.6099306918466851,
          -0.5914322992216323,
          -0.5729339065965794,
          -0.5544355139715265,
          -0.5359371213464736,
          -0.5174387287214207,
          -0.4989403360963678,
          -0.4804419434713149,
          -0.46194355084626204,
          -0.44344515822120917,
          -0.4249467655961563,
          -0.40644837297110337,
          -0.38794998034605044,
          -0.3694515877209976,
          -0.3509531950959447,
          -0.33245480247089176,
          -0.31395640984583895,
          -0.295458017220786,
          -0.2769596245957331,
          -0.25846123197068027,
          -0.23996283934562734,
          -0.22146444672057441,
          -0.2029660540955216,
          -0.18446766147046867,
          -0.16596926884541574,
          -0.14747087622036292,
          -0.12897248359531,
          -0.11047409097025707,
          -0.09197569834520425,
          -0.07347730572015132,
          -0.05497891309509839,
          -0.036480520470045574,
          -0.017982127844992646,
          0.0005162647800601716,
          0.0190146574051131,
          0.03751305003016603,
          0.056011442655218846,
          0.07450983528027177,
          0.09300822790532459,
          0.11150662053037763,
          0.13000501315543045,
          0.14850340578048327,
          0.1670017984055363,
          0.18550019103058912,
          0.20399858365564194,
          0.22249697628069498,
          0.2409953689057478,
          0.2594937615308006,
          0.27799215415585365,
          0.29649054678090647,
          0.3149889394059593,
          0.33348733203101233,
          0.35198572465606515,
          0.37048411728111796,
          0.388982509906171,
          0.4074809025312238,
          0.42597929515627664,
          0.4444776877813297,
          0.4629760804063825,
          0.4814744730314353,
          0.49997286565648835,
          0.5184712582815412,
          0.536969650906594,
          0.555468043531647,
          0.5739664361566998,
          0.5924648287817527,
          0.6109632214068057,
          0.6294616140318585,
          0.6479600066569113,
          0.6664583992819644,
          0.6849567919070172,
          0.70345518453207,
          0.721953577157123,
          0.7404519697821759,
          0.7589503624072287,
          0.7774487550322817,
          0.7959471476573345,
          0.8144455402823874,
          0.8329439329074404,
          0.8514423255324932,
          0.869940718157546,
          0.8884391107825991
         ],
         "xaxis": "x",
         "y": [
          -0.009373569917342261,
          -0.00920497453970357,
          -0.009036379162064878,
          -0.008867783784426186,
          -0.008699188406787494,
          -0.008530593029148804,
          -0.008361997651510113,
          -0.008193402273871423,
          -0.008024806896232731,
          -0.00785621151859404,
          -0.0076876161409553485,
          -0.007519020763316657,
          -0.007350425385677965,
          -0.007181830008039274,
          -0.0070132346304005826,
          -0.006844639252761891,
          -0.006676043875123201,
          -0.006507448497484509,
          -0.0063388531198458175,
          -0.006170257742207127,
          -0.006001662364568435,
          -0.005833066986929743,
          -0.005664471609291052,
          -0.005495876231652361,
          -0.00532728085401367,
          -0.005158685476374978,
          -0.004990090098736287,
          -0.0048214947210975965,
          -0.004652899343458905,
          -0.004484303965820213,
          -0.004315708588181521,
          -0.0041471132105428314,
          -0.00397851783290414,
          -0.0038099224552654476,
          -0.003641327077626757,
          -0.0034727316999880655,
          -0.003304136322349374,
          -0.0031355409447106834,
          -0.0029669455670719917,
          -0.0027983501894333,
          -0.002629754811794609,
          -0.0024611594341559175,
          -0.002292564056517226,
          -0.0021239686788785354,
          -0.0019553733012398437,
          -0.0017867779236011522,
          -0.0016181825459624616,
          -0.0014495871683237699,
          -0.0012809917906850782,
          -0.0011123964130463875,
          -0.000943801035407696,
          -0.0007752056577690053,
          -0.0006066102801303137,
          -0.00043801490249162204,
          -0.0002694195248529314,
          -0.00010082414721423978,
          6.777123042445084e-05,
          0.0002363666080631435,
          0.00040496198570183413,
          0.0005735573633405248,
          0.0007421527409792174,
          0.000910748118617908,
          0.0010793434962565987,
          0.0012479388738952913,
          0.001416534251533982,
          0.0015851296291726725,
          0.0017537250068113653,
          0.001922320384450056,
          0.0020909157620887463,
          0.0022595111397274393,
          0.0024281065173661297,
          0.0025967018950048206,
          0.002765297272643513,
          0.0029338926502822035,
          0.0031024880279208944,
          0.003271083405559587,
          0.0034396787831982778,
          0.003608274160836968,
          0.0037768695384756607,
          0.003945464916114351,
          0.004114060293753042,
          0.0042826556713917345,
          0.004451251049030425,
          0.004619846426669116,
          0.004788441804307809,
          0.0049570371819465,
          0.00512563255958519,
          0.005294227937223883,
          0.005462823314862573,
          0.005631418692501264,
          0.005800014070139956,
          0.005968609447778647,
          0.006137204825417338,
          0.006305800203056031,
          0.0064743955806947215,
          0.006642990958333411,
          0.006811586335972104,
          0.006980181713610795,
          0.007148777091249486,
          0.007317372468888178
         ],
         "yaxis": "y"
        },
        {
         "marker": {
          "color": "rgba(226,74,51,0.8)",
          "line": {
           "color": "rgba(226,74,51,0.8)",
           "width": 1
          },
          "size": 6,
          "symbol": "circle"
         },
         "mode": "markers",
         "type": "scatter",
         "x": [
          0.24684382805453708,
          -0.3494799005195546,
          -0.13601717875245356,
          -0.10347573971033341,
          0.6375226922585853,
          0.6515508186795103,
          -0.377408765990765,
          -0.20026787624792064,
          -0.36982640432574954,
          0.4018983721566798,
          0.37219107966369336,
          -0.007978700372007097,
          -0.2185075652607935,
          -0.08058555895496511,
          -0.012374952018646468,
          -0.1619922574983832,
          0.11032316881659199,
          0.11246603385450271,
          0.26988739403702766,
          0.5780584674458993,
          -0.10774198845774663,
          0.227984502770326,
          -0.3204410932024473,
          0.4482393440843708,
          -0.1877594487773564,
          -0.049994351142686355,
          0.2907837249394305,
          -0.15188423671004614,
          -0.7201386128653837,
          -0.3471849045147053,
          -0.3082025208152288,
          -0.17103378726410767,
          -0.4982290608918305,
          0.42222085127467324,
          -0.522348867306178,
          0.085386568555748,
          -0.10647049425139699,
          0.13361704351251547,
          0.20899682084821336,
          -0.1959225390258439,
          0.015298742398840659,
          0.1717312036518166,
          0.47642396114088115,
          -0.4225503856391981,
          -0.27131050407547264,
          0.39838443073708163,
          -0.10831270066699972,
          0.5033828639221696,
          -0.5479730836237735,
          -0.4712196224259344,
          0.018421526485951745,
          0.0985612337682511,
          -0.31221115397765686,
          -0.10603400017812703,
          0.614566680140527,
          -0.2477014352510878,
          0.06819298086965375,
          -0.20323293824881716,
          0.19554109711027934,
          -0.1806463307190711,
          -0.03702093189846778,
          0.3981473177154129,
          0.247882127598686,
          -0.2510586126365979,
          -0.007863701026607828,
          -0.4033054838848784,
          -0.1097259105064552,
          -0.14548515225966696,
          0.11157329215124889,
          -0.23648654006584025,
          0.00819232827417693,
          0.18507854367371124,
          0.03733210789798136,
          -0.1887129263978693,
          -0.1445694684014711,
          -0.12860304818998713,
          0.041572246870941854,
          -0.09034517958296817,
          0.6798361004159545,
          -0.23861610907721342,
          0.1237599257900257,
          0.03588638087653351,
          0.20494224749745626,
          -0.11734277956722394,
          -0.3126343330901733,
          0.7192802081433456,
          0.1644435527360315,
          0.387770956667012,
          0.006780393324476108,
          0.12732049964860437,
          -0.14595412497688187,
          -0.15051513507252423,
          0.6647654829758949,
          0.13106912230122703,
          0.2461195174278572,
          0.028111925246847136,
          -0.1919608627189433,
          0.11626445581116229,
          0.0014890751670577629,
          -0.34429873702994485,
          0.8865867947945532,
          -0.7463726687257406,
          -0.44799035785862884,
          -0.3278584838046328,
          -0.0010978630256914812,
          0.30891959234348576,
          -0.07731889635778089,
          0.0003050922237832765,
          -0.7767580436401431,
          0.14130999444638803,
          -0.048138503551484746,
          -0.07814024487115034,
          -0.7739998488885078,
          -0.4471278795687681,
          0.08795288381539024,
          0.2227178426855545,
          0.018686017470599836,
          0.13054000410103583,
          0.6020639637717835,
          0.40149835844624704,
          -0.012718477273352846,
          0.675941306070925,
          -0.03058098860093139,
          0.11076727919228802,
          -0.09787570024163017,
          0.04043120725225435,
          0.5118579559286189,
          -0.2386010352697383,
          0.21637848587904784,
          0.10880422954595304,
          -0.02057485900671452,
          -0.22512993808770432,
          0.02340922948832258,
          -0.20293687790228887,
          -0.6931559417857756,
          -0.29694689581931755,
          0.3873470092396758,
          -0.134096598156475,
          0.05818459759538541,
          -0.09542890134642334,
          0.11793425417330639,
          0.24135590580834787,
          -0.01676921592995484,
          0.16974333791766583,
          0.2606587950478314,
          -0.15549937142614567,
          0.3663026280780173,
          0.20584355092593398,
          0.03361033963605564,
          -0.9429017590976372,
          0.29352210000764956,
          -0.3563290507492809,
          -0.3280895610392349,
          0.16847578733630542,
          0.32266081737023455,
          -0.6948338150901634,
          -0.5300361638618369,
          0.048278757504817804,
          -0.030611501323022594,
          0.4610694471616199,
          0.16049601186237794,
          -0.42963473893877335,
          -0.061147819095708655,
          0.3680276193351517,
          0.14976230914611222,
          0.5986648754524708,
          0.26023168990150225,
          -0.07781336475876799,
          0.28959807660517356,
          0.3167850576431732,
          0.17356569614423734,
          0.03785157259527239,
          0.16024119811247317,
          -0.5256802287024556,
          0.184490747998467,
          0.2523342041325094,
          -0.2503751045905034,
          0.5409118150495402,
          0.12149670320917494,
          0.1979311151315244,
          -0.4882397016297375,
          0.253466640973798,
          -0.45015162576567036,
          -0.05807680631006917,
          0.013975207363372988,
          0.11103433656917616,
          -0.09759552283472317,
          0.31888017657337286,
          -0.07266417864576624,
          -0.4764154438897208,
          -0.3042252159575298,
          -0.3414290345094173,
          -0.16900015088801013,
          -0.3539464573626958,
          0.14487555190822832,
          0.3286362628469419,
          -0.1954704601398305,
          -0.3915360502965086,
          0.6085412462712299,
          0.08301170229229626,
          0.08418290364335235,
          0.4016711242801847,
          0.3721283591745106,
          0.15788106267361002,
          0.2138223379327684,
          0.1931601668213574,
          0.02201379315710028,
          0.01673778341783816,
          0.19718106958033843,
          0.10894526768080937,
          0.5567576618549595,
          -0.31404006611893465,
          0.2636499496306186,
          0.21255715126407893,
          0.1746489026267284,
          -0.3460886766131921,
          -0.0758746877638714,
          0.46345453365282197,
          -0.1102617703840707,
          -0.17857631056283196,
          -0.2040327954908605,
          -0.5609983769663245,
          -0.06865638725241752,
          -0.1697482509115673,
          0.1037024811408429,
          0.47422756671294053,
          0.15722162373097603,
          0.10432662905135714,
          0.19962142506214775,
          -0.2759255831542191,
          0.22549407219241857,
          0.10634220727126831,
          0.3165834976770725,
          -0.1575419882360194,
          -0.33437294061955924,
          -0.06172563003646303,
          -0.11394345186404564,
          0.15462687446886036,
          0.13322707646459264,
          -0.1597223083230972,
          0.25882116840367075,
          0.4286689761209743,
          0.6172847559846986,
          0.5506178141661593,
          0.10634795619479576,
          -0.5237389425085297,
          -0.21234534345813927,
          0.2042519004065042,
          0.5817062670097783,
          -0.07201058235042979,
          -0.2144858780863501,
          -0.13343277821536503,
          -0.23390179101633635,
          0.31343690407055647,
          -0.045665571798622295,
          0.49527241106061126,
          0.6514624728213363,
          0.15281384012888566,
          -0.28264292632412946,
          0.3740085195966145,
          0.05199984408459102,
          0.3566925145388211,
          -0.08956961915392014,
          -0.08687678168874413,
          0.016958301305521672,
          0.25044530625922334,
          0.388201951228325,
          -0.04282226882354223,
          -0.05043184186909855,
          0.04122727683414951,
          0.30497391329609513,
          -0.49787328759872196,
          0.39153411525964543,
          -0.41574770762143487,
          0.23798925636114632,
          -0.509907949160123,
          -0.21897066990142378,
          0.05207341523136222,
          0.05818973387984272,
          0.13456871536216397,
          0.05449936510075304,
          0.37808152812885965,
          -0.030559664106505124,
          -0.6421046471140386,
          0.04575631908674893,
          0.8438911084556935,
          0.4534821499429711,
          -0.3546794234103601,
          0.6444806865968218,
          0.5676946295122605,
          0.03491057822944299,
          0.05730070182082159,
          -0.26255130516523195,
          -0.5264154116334225,
          -0.16926188381421525,
          -0.261996342838529,
          0.2651427576474532,
          0.17431114185191632,
          -0.40586997483305254,
          -0.037460877535949066,
          0.12868422333606588,
          0.09972706760309791,
          0.6451325667319452,
          -0.10856610618122886,
          -0.19842718228886724,
          -0.08182205921130503,
          -0.3930361137821592,
          0.16742568484067988,
          0.0889106592459541,
          -0.4696330762847367,
          0.25723456413791723,
          -0.08085724596794819,
          0.42206867578786955,
          0.5578714000408951,
          0.023907040547769043,
          -0.0988392997650891,
          0.19337448342861308,
          -0.1957577240812327,
          0.1534708382985599,
          -0.348895031032626,
          -0.2823363363833664,
          -0.2953680350491652,
          0.05566231563295787,
          0.14862824784378859,
          0.07799641565300419,
          0.38129327663743595,
          -0.24929183322899462,
          -0.5284889295547686,
          0.21969983715040087,
          0.10081044974680253,
          0.14720266251967473,
          -0.21765803999264222,
          -0.28904718104219285,
          0.15546671082667274,
          -0.15216330329539574,
          -0.10456840020462721,
          0.20935704123684218,
          0.25602447639460024,
          0.05453514908354862,
          -0.172359154991085,
          -0.1644767973116359,
          0.3751320833578973,
          0.21025687123470505,
          -0.02796597381581023,
          -0.024354668274597202,
          0.398163145931818,
          -0.3297655876454968,
          0.5882161955299381,
          -0.33417444244460626,
          0.00017066962475098535,
          -0.27273171100146953,
          0.02949241256638402,
          0.03965909182383598,
          0.35630831355001646,
          -0.10824341897446743,
          0.29671517159518146,
          0.29470954698288665,
          0.273258077340202,
          0.07799691609830006,
          -0.5918677945956716,
          -0.31953212954680055,
          0.191060218295803,
          0.025338107254000874,
          0.21041038662245626,
          0.18921329945303,
          -0.2573005961435655,
          -0.48474154668937786,
          0.2837864572026092,
          -0.33087066457999015,
          0.03699427051213888,
          -0.14807831168408825,
          -0.018281452037911095,
          -0.5313874557230776,
          -0.07822617775916285,
          0.00037593900667332036,
          0.1342656702741465,
          -0.33550104108599044,
          -0.23034758983699533,
          0.08931298356745287,
          0.3453505412781652,
          0.34767855010845494,
          0.27761589383118235,
          0.434608099000684,
          0.21942297538183198,
          0.24869897549231723,
          0.6866884481497806,
          0.34747051044659827,
          0.24357505990749928,
          -0.26101210210711656,
          0.17929208252853357,
          -0.2503893558166794,
          0.12636006698897972,
          -0.2533079837634489,
          0.46310145124918733,
          0.30213426186156767,
          -0.16071334979078244,
          -0.04508909096141167,
          0.44474024632256715,
          -0.3027961642236505,
          -0.22238923461578963,
          -0.3778789334782857,
          0.003937884300725614,
          -0.03446954998992169,
          0.6516105315717766,
          0.5307367892074666,
          0.19838165574508082,
          0.4837885128062567,
          0.4481761239621562,
          -0.332275824463494,
          -0.28045802207296333,
          -0.33139838955609946,
          0.03491362188421476,
          0.212730203057518,
          0.11632656624098558,
          0.8884391107825991,
          0.1789138996709454,
          -0.2770068086518478,
          -0.6659015060253637,
          0.271463713764021,
          0.2705867449813155,
          -0.17159403627995573,
          -0.20881747363578995,
          0.8640089703763039,
          -0.2048421576606927,
          -0.4462441073715695,
          -0.08389369727954943,
          -0.04267240543434525,
          -0.21129224312512918,
          0.4858587437708479,
          0.3668766197331479,
          -0.0977951402670243,
          -0.2795798493131514,
          -0.028309420821670983,
          0.3985196315065309,
          0.059592528473984885,
          0.6827260772115551,
          0.1728551649854495,
          -0.19879989067671033,
          -0.3010339115528211,
          -0.12154671025963637,
          -0.14901002792102247,
          0.026877206150047073,
          -0.38153565077398355,
          -0.04837303215884958,
          0.12247507685246717,
          -0.31144739139806177,
          -0.28278279488971236,
          -0.029226768008143722,
          0.4893430585869112,
          0.4033950170887266,
          0.22550331916654898,
          -0.2352194272783379,
          0.41746904809528473,
          0.32814174832022047,
          -0.1788495154325176,
          0.4437715034493408,
          -0.11390811000420342,
          -0.16874234256769682,
          -0.174818113372865,
          0.08864697965074697,
          -0.211060643216328,
          -0.2117670914122698,
          -0.4115300455859341,
          -0.6708652384887159,
          -0.6212520826898071,
          0.5404537277050991,
          0.1466288002647076,
          0.014685263479549349,
          -0.9210099639895617,
          0.579943126843034,
          -0.24813695190543683,
          -0.381761035541075,
          0.07257622600261016,
          -0.2417495857064722,
          0.2944183945813563,
          0.17236982848950788,
          0.12728213118097642,
          -0.5953886994606421,
          0.8136984451710845,
          0.5291528097062326,
          0.14907098145266673,
          -0.8273198799679875,
          0.17797324997027886,
          -0.16733787027575886,
          -0.06845694493088672,
          -0.5767126789730384,
          0.5610169335357824,
          -0.4357574035339553,
          0.08913673420114776,
          -0.20172997279890126,
          0.5208204924574034,
          0.27512133852115994,
          -0.04783887881546889,
          -0.6202902835683375,
          0.3955306182179612,
          -0.03671617832559093,
          0.1915431078378873,
          0.23628911142773745,
          0.1243276292848634
         ],
         "xaxis": "x",
         "y": [
          -0.008578437832235275,
          -0.002304714959747989,
          -0.007974248836014108,
          -0.0004396610915879673,
          -0.00010123980988460679,
          0.011347088564585939,
          -0.007585054863849194,
          -0.0002777383725009741,
          -6.329959887874104e-05,
          0.0008643914277558784,
          0.003047003415500127,
          -0.004688276497987864,
          -0.006190995279016537,
          -0.003135593499603073,
          -0.004965938452587304,
          0.0013117620700240362,
          0.011814900514551668,
          -0.0017985475667031126,
          0.004565818286159706,
          0.0026847670662181744,
          -0.0057203850400670275,
          0.0008981147052471994,
          -0.003119739176884073,
          0.006862761204321388,
          -0.002770999105724231,
          0.0010239693225809476,
          0.004542011838955723,
          -0.004340360725719528,
          -0.0040957737071554146,
          -0.008294281686630073,
          0.001181521476996794,
          -0.006090259588018704,
          -0.0034477806660331844,
          0.004835005332395531,
          -0.006003469892398888,
          0.0037885378102104073,
          -0.0011131411406510583,
          0.00048785112638977113,
          -0.001145511586715886,
          0.005179681799703406,
          0.0024842024422160325,
          -0.004404746947710952,
          0.0011018581788833082,
          -0.006234134320469209,
          -0.004199824904640215,
          0.0038492398423755902,
          0.0015270385320246826,
          0.00660811715774795,
          -0.0027233131881998496,
          -0.0044861438287734645,
          0.0011972498091629424,
          -0.006736915321524706,
          0.0025407714662512293,
          0.004770107386124767,
          0.006242202706670752,
          -0.00701473833998989,
          -0.007488915891963738,
          -0.004350598926584653,
          0.0008394461768648775,
          -0.004443819311292396,
          0.009189923730838462,
          0.004270468771918917,
          0.004235790355821806,
          -0.009307997417128483,
          -0.0017637356828650308,
          -0.002663922587482881,
          0.004769235554438173,
          -0.0005060520757661779,
          0.0043179916972174714,
          -0.00014145966011139266,
          -0.0036499759245844088,
          -0.0004003013516613585,
          -0.006561676176233822,
          -0.003960197177840241,
          -0.003858449322958646,
          0.0026964969956788654,
          -0.0006243524346442042,
          0.0032362759277670405,
          0.0060736598331527225,
          -0.005157631264726403,
          0.0024871836396255786,
          -0.002078579331789676,
          -0.004584280119122042,
          -0.0035521789754236477,
          -0.015685595536085728,
          0.005484520179529551,
          -0.0038644339897937474,
          -0.0006848613679800164,
          -0.004300180091402206,
          0.0013457651593005715,
          0.005571996326466211,
          -0.0005475695746466336,
          0.0010493841489589983,
          0.010400211164629913,
          -0.002128893624246897,
          0.0035606814588647895,
          -0.0017970998842064545,
          -0.0003999903456015641,
          0.0005058415941130434,
          -0.0015773376292793073,
          0.0047908736976466915,
          -0.004541867036456926,
          0.005803601003306624,
          -0.004787776558063062,
          -0.003173701885319291,
          0.005295377351646258,
          -0.0016542198611109171,
          -0.00026862269331356936,
          -0.0071048545357862425,
          0.0028416849298918967,
          0.0066313860698750116,
          0.001771429365912791,
          -0.01358799998711957,
          -0.007013508102555299,
          -0.0019733145725773227,
          0.0060867449892346714,
          -0.0035232275978121508,
          -0.006017782927576598,
          0.002856790697609468,
          0.004605204428999032,
          0.00702179754975224,
          0.0007439673157432214,
          0.006468011248193017,
          -0.004842664537957897,
          0.006758813280500264,
          -0.0027026951283640743,
          0.0016463373239294365,
          0.004985578644167765,
          0.006406920763909141,
          0.002676384709789703,
          -0.005202737406900637,
          0.003139499896168574,
          0.0033061478165785085,
          -0.009063330701572891,
          -0.0033900084962527055,
          -0.005227547506829966,
          0.003382801674582714,
          0.001794602043813709,
          -0.0063283524433631055,
          -0.0010308287770013358,
          -0.004133558652439306,
          0.00037090337645961924,
          -0.005237243045187356,
          -0.0006391012331267709,
          0.007204127892782186,
          -0.0030605088946225045,
          0.007617709571589193,
          0.005314981423256537,
          -0.00573033163269876,
          -0.01032359426853946,
          -0.00011402246787822756,
          -0.003922243346284993,
          -0.0058706911683275576,
          -0.006884819990940483,
          0.007064186457843014,
          -0.00927035871695514,
          -0.0042519331005632655,
          -0.0006920303315200438,
          -0.009623442508990387,
          0.008997203926395247,
          0.0037121653064371984,
          -6.473517308386301e-05,
          -0.013343698250487535,
          0.00628658786619013,
          0.0026073536107728557,
          0.003537745615723842,
          0.002419004956622395,
          0.004772586430535131,
          -0.0002942764857912783,
          0.006862952605149908,
          0.0056310347216042556,
          0.005215043908466943,
          0.00507217737207899,
          -0.008773871799923783,
          -0.0035013188207201895,
          0.002893811080626252,
          -0.0002486543294489274,
          -0.005456135666631723,
          0.004193788788837249,
          -0.0038834613095283244,
          -0.010250616789326317,
          0.0016415402002085133,
          -0.008472153963027584,
          -0.004622674493641621,
          0.00652444158082105,
          -0.00037962363089766304,
          0.006250108173956548,
          0.005250192933212383,
          0.0016841352074151716,
          0.00039084270090050666,
          0.0006236362028364528,
          -0.008264041638868846,
          -0.005389830784721217,
          -0.008382759887631375,
          0.0035954805480631347,
          0.0008663156784121662,
          -0.004041102831743804,
          -0.0016167905222564394,
          -0.0041277259066360705,
          0.0014362935586775816,
          0.007386541119178469,
          0.000294740852905373,
          -0.00679297654200639,
          0.0034056370341261077,
          0.0039228289801147564,
          -0.001956018942591453,
          -0.007879592455603657,
          -0.004169046361189033,
          0.001722867131503436,
          0.0023489506772385593,
          -0.0014158404556953719,
          -0.00011438047893985726,
          0.004306458756375975,
          0.005574843089974135,
          0.0021674047342779557,
          -0.009265988608194053,
          0.0012989942652747999,
          0.005238360409221154,
          -0.009754780202360702,
          -0.012029754971603357,
          -0.0031369204821409258,
          -0.013299963427939543,
          -0.005403504557368655,
          -0.0026900052739731173,
          0.014437546722594952,
          0.002039158197189528,
          0.006523898150763319,
          -0.0071440833881203925,
          -0.0009292905962527964,
          0.0023077720924555845,
          0.004908703786210444,
          -0.008121390760926217,
          0.010736685033983229,
          -0.004093942781556392,
          -0.01039986635258594,
          -0.0007974375218335883,
          -0.0032681713026127546,
          -0.0014158509523196083,
          -0.0012324523351308625,
          -0.005492025586064375,
          -0.0069430969894702654,
          0.0039276919227849705,
          0.004363002205240607,
          0.019020590370973867,
          0.003490510982982864,
          -0.0038436932209978125,
          -0.006038344530673201,
          0.008075034427893701,
          0.006258420908700935,
          0.009139187793224979,
          0.0024271836549357717,
          -0.00529510349209994,
          -0.0030200340139086568,
          0.0013208769765795103,
          0.001964349704082824,
          0.0045624923857896515,
          0.003419767274038976,
          -0.009516033369105281,
          0.0004155225325101486,
          0.00907131341397327,
          0.00264624528152696,
          0.00981303054784971,
          -0.0005535300416980582,
          0.0010869060585426693,
          0.0013625914157363028,
          0.001148257052257795,
          0.004206538650749159,
          0.0020527093231728077,
          0.0029584449619588504,
          0.003833951419182524,
          3.841825866479631e-05,
          -0.011508465671604684,
          0.0013509733231290566,
          -0.004904302526942905,
          -0.00026188311368607886,
          -0.00704470968264298,
          -0.0058353118620146915,
          0.0058630799529975075,
          0.007524462876374538,
          0.004504814318788297,
          -0.010408320745663946,
          0.0028860529005318436,
          -0.0034040743386851147,
          -0.010264428785312085,
          -0.0031497431917245633,
          0.004973153312492096,
          0.008866267547119,
          -0.010149442350947169,
          0.005864399423177069,
          0.003665943243385983,
          -0.0014608433700637469,
          0.0015784568955317102,
          -0.004778699370312667,
          0.0043960406221904,
          -0.0006251336589360723,
          0.003405952791847744,
          -0.002993032751772262,
          -0.011639460188682171,
          -0.009261751815104358,
          -0.01068551641321358,
          -0.00013254128565393097,
          0.011809888244737943,
          0.002283786867780191,
          -0.006998589422085977,
          -0.005538558678816696,
          -0.010048493928830837,
          -0.003565414859152849,
          -0.0005757002541472711,
          0.009171146878649228,
          0.008099660883241211,
          0.00794480440076517,
          -0.011213459523729263,
          -0.0061684340812717675,
          0.0010394052865728143,
          0.006239832514389809,
          -0.0029617926355430257,
          0.000442693911053782,
          0.004982816144341928,
          -0.002074126780354013,
          0.002626028796500257,
          -0.014652099863889434,
          0.0072953923925689335,
          -0.0012811945253278778,
          0.012678730452731934,
          0.0006005508849633023,
          0.013118788356205613,
          -0.0037215910481923076,
          -0.0015313088990300816,
          0.004424027246396178,
          0.009376713465587716,
          -0.00812020664158336,
          0.0004831287161504161,
          0.006661378736916579,
          0.005474998824246846,
          -0.011722076512852952,
          0.0030576804335426533,
          0.001346525824039435,
          0.006261652625281333,
          -0.002109760081445089,
          -0.003172262785102742,
          0.0008656320707007836,
          0.0008612935068547656,
          0.007253319624276666,
          -0.0035588006276678907,
          -0.004703503697539635,
          0.00573992201791107,
          -0.009524787570089455,
          -0.004579610696345382,
          -0.017577100371093612,
          -0.006131848655904104,
          -0.004275415733415833,
          0.004271785590787447,
          -0.0013800664505195237,
          -0.00745801352990072,
          0.011820316676668441,
          -0.0033913171837412492,
          -0.004895480485913539,
          0.005694101542833674,
          0.0011600617228337273,
          -0.009050154090049334,
          -0.005067154505688842,
          0.00024538057678230585,
          -0.0076817945501492235,
          -0.0011082917587348917,
          0.007155938151594765,
          -0.0036572667467311692,
          -0.01774222899443606,
          -0.006978885425051318,
          -0.0027272004126320804,
          -0.011629942757702627,
          -0.006782060420513658,
          0.003843106444535338,
          -0.01863469570014581,
          0.012390040414197556,
          0.009283969376191359,
          -0.006900698052808296,
          -0.010465528793398404,
          0.0002493799398357588,
          -0.004627155067770117,
          0.014282122043010048,
          0.004409684337206454,
          0.0038817649618475003,
          0.0010138554644191777,
          0.003310777287722666,
          -0.008198460323728285,
          0.004482442466954506,
          -0.0035567565731735584,
          -0.005366016074957347,
          0.006092750565687921,
          0.002608121229863203,
          -0.0038100701818124527,
          0.004003436680838246,
          0.0007619806529209905,
          0.0074172550112352464,
          0.0023877343230916948,
          -0.0007895265912127858,
          0.0025870849949536923,
          0.004984359253366655,
          -0.004265673707436135,
          -3.992725423296317e-05,
          -0.009007838128571533,
          -0.008318948931619718,
          -0.0015013886151321598,
          -0.003403460636890121,
          -0.0038557575591918747,
          0.003381156165621124,
          0.0019949770372055253,
          0.016114088759246525,
          0.0006771626342504389,
          0.002718436631445331,
          0.009142631932333112,
          0.00240767797623892,
          0.00066616738293368,
          0.007599739255997218,
          0.010047025198894777,
          -0.001661422617683428,
          0.0034575447139809645,
          0.0034024877602126247,
          -0.00758531702208981,
          0.0021604527307872434,
          -0.006275464250262541,
          -0.0008842004749436971,
          0.010903262175997686,
          -0.006209535990455151,
          -0.0006677976721539136,
          -0.012333543624729326,
          -0.0002684579011784094,
          0.0028619346409041735,
          -0.005570223331300028,
          -0.0013053140581976708,
          -0.010791896958190494,
          -0.004881246616695367,
          -0.009538309830700475,
          -0.005702688663541289,
          0.003436575463268754,
          0.009447212349461498,
          -0.00388108914191021,
          0.0014055321300450174,
          -0.011705114986548804,
          -0.008037495042999387,
          -0.0019297207699345842,
          -0.005310483981695646,
          -0.0023871919344251036,
          0.007998626943862941,
          0.002926740833280317,
          -0.0020860047343722044,
          0.006114776413060852,
          0.0011202296065908057,
          0.004539011768172951,
          0.017801120003439863,
          0.004509667923308647,
          -0.003123691976059495,
          0.00011207223767312202,
          -0.016593372783745064,
          0.006036074569416627,
          -0.0201149904091647,
          -0.013710684287728592,
          -0.01111600203552432,
          0.0012122755186239065,
          -0.011775673752645544,
          -0.012368426894318718,
          0.010496714380379302,
          -0.010332250936789578,
          -0.008238602168238518,
          -0.010832266213417485,
          0.0031467212336980244,
          -0.005150815201269476,
          0.009802568679644796,
          -0.003814988379872486,
          0.012208623136908181,
          -0.0005352649786928843,
          -0.0031935367518323154,
          0.01241275499654515,
          0.001036840481274226,
          0.0032210449804021546,
          0.006849695464854033,
          -0.0008866985942477257,
          -0.018300139828902107,
          0.022503049805204678,
          0.01256971594517814,
          0.010662135464518663,
          -0.008654758815641095,
          -0.004346488049601582,
          0.0009259504361245341,
          -0.0007392902175830107,
          -0.02339643822917631,
          0.0055094995820448855,
          -0.008896756004888595,
          -0.011724839610312787,
          -0.009417485478363297,
          -0.004241663265944162,
          0.002691505731174104,
          -0.0033293046629368495,
          -0.012351452771134863,
          -0.0010389765303827625,
          0.011319118226156832,
          -0.0008291420873028921,
          -0.0015242458483362697,
          -0.004562761767234413
         ],
         "yaxis": "y"
        }
       ],
       "layout": {
        "annotations": [
         {
          "showarrow": false,
          "text": "R^2 = 0.457",
          "x": 18,
          "y": -2
         },
         {
          "showarrow": false,
          "text": "y = 0.009x - 0.001",
          "x": 18,
          "y": -2.6
         }
        ],
        "autosize": false,
        "height": 600,
        "hovermode": "closest",
        "margin": {
         "b": 50,
         "l": 50,
         "pad": 0,
         "r": 50,
         "t": 50
        },
        "showlegend": false,
        "template": {
         "data": {
          "bar": [
           {
            "error_x": {
             "color": "#2a3f5f"
            },
            "error_y": {
             "color": "#2a3f5f"
            },
            "marker": {
             "line": {
              "color": "#E5ECF6",
              "width": 0.5
             },
             "pattern": {
              "fillmode": "overlay",
              "size": 10,
              "solidity": 0.2
             }
            },
            "type": "bar"
           }
          ],
          "barpolar": [
           {
            "marker": {
             "line": {
              "color": "#E5ECF6",
              "width": 0.5
             },
             "pattern": {
              "fillmode": "overlay",
              "size": 10,
              "solidity": 0.2
             }
            },
            "type": "barpolar"
           }
          ],
          "carpet": [
           {
            "aaxis": {
             "endlinecolor": "#2a3f5f",
             "gridcolor": "white",
             "linecolor": "white",
             "minorgridcolor": "white",
             "startlinecolor": "#2a3f5f"
            },
            "baxis": {
             "endlinecolor": "#2a3f5f",
             "gridcolor": "white",
             "linecolor": "white",
             "minorgridcolor": "white",
             "startlinecolor": "#2a3f5f"
            },
            "type": "carpet"
           }
          ],
          "choropleth": [
           {
            "colorbar": {
             "outlinewidth": 0,
             "ticks": ""
            },
            "type": "choropleth"
           }
          ],
          "contour": [
           {
            "colorbar": {
             "outlinewidth": 0,
             "ticks": ""
            },
            "colorscale": [
             [
              0,
              "#0d0887"
             ],
             [
              0.1111111111111111,
              "#46039f"
             ],
             [
              0.2222222222222222,
              "#7201a8"
             ],
             [
              0.3333333333333333,
              "#9c179e"
             ],
             [
              0.4444444444444444,
              "#bd3786"
             ],
             [
              0.5555555555555556,
              "#d8576b"
             ],
             [
              0.6666666666666666,
              "#ed7953"
             ],
             [
              0.7777777777777778,
              "#fb9f3a"
             ],
             [
              0.8888888888888888,
              "#fdca26"
             ],
             [
              1,
              "#f0f921"
             ]
            ],
            "type": "contour"
           }
          ],
          "contourcarpet": [
           {
            "colorbar": {
             "outlinewidth": 0,
             "ticks": ""
            },
            "type": "contourcarpet"
           }
          ],
          "heatmap": [
           {
            "colorbar": {
             "outlinewidth": 0,
             "ticks": ""
            },
            "colorscale": [
             [
              0,
              "#0d0887"
             ],
             [
              0.1111111111111111,
              "#46039f"
             ],
             [
              0.2222222222222222,
              "#7201a8"
             ],
             [
              0.3333333333333333,
              "#9c179e"
             ],
             [
              0.4444444444444444,
              "#bd3786"
             ],
             [
              0.5555555555555556,
              "#d8576b"
             ],
             [
              0.6666666666666666,
              "#ed7953"
             ],
             [
              0.7777777777777778,
              "#fb9f3a"
             ],
             [
              0.8888888888888888,
              "#fdca26"
             ],
             [
              1,
              "#f0f921"
             ]
            ],
            "type": "heatmap"
           }
          ],
          "histogram": [
           {
            "marker": {
             "pattern": {
              "fillmode": "overlay",
              "size": 10,
              "solidity": 0.2
             }
            },
            "type": "histogram"
           }
          ],
          "histogram2d": [
           {
            "colorbar": {
             "outlinewidth": 0,
             "ticks": ""
            },
            "colorscale": [
             [
              0,
              "#0d0887"
             ],
             [
              0.1111111111111111,
              "#46039f"
             ],
             [
              0.2222222222222222,
              "#7201a8"
             ],
             [
              0.3333333333333333,
              "#9c179e"
             ],
             [
              0.4444444444444444,
              "#bd3786"
             ],
             [
              0.5555555555555556,
              "#d8576b"
             ],
             [
              0.6666666666666666,
              "#ed7953"
             ],
             [
              0.7777777777777778,
              "#fb9f3a"
             ],
             [
              0.8888888888888888,
              "#fdca26"
             ],
             [
              1,
              "#f0f921"
             ]
            ],
            "type": "histogram2d"
           }
          ],
          "histogram2dcontour": [
           {
            "colorbar": {
             "outlinewidth": 0,
             "ticks": ""
            },
            "colorscale": [
             [
              0,
              "#0d0887"
             ],
             [
              0.1111111111111111,
              "#46039f"
             ],
             [
              0.2222222222222222,
              "#7201a8"
             ],
             [
              0.3333333333333333,
              "#9c179e"
             ],
             [
              0.4444444444444444,
              "#bd3786"
             ],
             [
              0.5555555555555556,
              "#d8576b"
             ],
             [
              0.6666666666666666,
              "#ed7953"
             ],
             [
              0.7777777777777778,
              "#fb9f3a"
             ],
             [
              0.8888888888888888,
              "#fdca26"
             ],
             [
              1,
              "#f0f921"
             ]
            ],
            "type": "histogram2dcontour"
           }
          ],
          "mesh3d": [
           {
            "colorbar": {
             "outlinewidth": 0,
             "ticks": ""
            },
            "type": "mesh3d"
           }
          ],
          "parcoords": [
           {
            "line": {
             "colorbar": {
              "outlinewidth": 0,
              "ticks": ""
             }
            },
            "type": "parcoords"
           }
          ],
          "pie": [
           {
            "automargin": true,
            "type": "pie"
           }
          ],
          "scatter": [
           {
            "fillpattern": {
             "fillmode": "overlay",
             "size": 10,
             "solidity": 0.2
            },
            "type": "scatter"
           }
          ],
          "scatter3d": [
           {
            "line": {
             "colorbar": {
              "outlinewidth": 0,
              "ticks": ""
             }
            },
            "marker": {
             "colorbar": {
              "outlinewidth": 0,
              "ticks": ""
             }
            },
            "type": "scatter3d"
           }
          ],
          "scattercarpet": [
           {
            "marker": {
             "colorbar": {
              "outlinewidth": 0,
              "ticks": ""
             }
            },
            "type": "scattercarpet"
           }
          ],
          "scattergeo": [
           {
            "marker": {
             "colorbar": {
              "outlinewidth": 0,
              "ticks": ""
             }
            },
            "type": "scattergeo"
           }
          ],
          "scattergl": [
           {
            "marker": {
             "colorbar": {
              "outlinewidth": 0,
              "ticks": ""
             }
            },
            "type": "scattergl"
           }
          ],
          "scattermap": [
           {
            "marker": {
             "colorbar": {
              "outlinewidth": 0,
              "ticks": ""
             }
            },
            "type": "scattermap"
           }
          ],
          "scattermapbox": [
           {
            "marker": {
             "colorbar": {
              "outlinewidth": 0,
              "ticks": ""
             }
            },
            "type": "scattermapbox"
           }
          ],
          "scatterpolar": [
           {
            "marker": {
             "colorbar": {
              "outlinewidth": 0,
              "ticks": ""
             }
            },
            "type": "scatterpolar"
           }
          ],
          "scatterpolargl": [
           {
            "marker": {
             "colorbar": {
              "outlinewidth": 0,
              "ticks": ""
             }
            },
            "type": "scatterpolargl"
           }
          ],
          "scatterternary": [
           {
            "marker": {
             "colorbar": {
              "outlinewidth": 0,
              "ticks": ""
             }
            },
            "type": "scatterternary"
           }
          ],
          "surface": [
           {
            "colorbar": {
             "outlinewidth": 0,
             "ticks": ""
            },
            "colorscale": [
             [
              0,
              "#0d0887"
             ],
             [
              0.1111111111111111,
              "#46039f"
             ],
             [
              0.2222222222222222,
              "#7201a8"
             ],
             [
              0.3333333333333333,
              "#9c179e"
             ],
             [
              0.4444444444444444,
              "#bd3786"
             ],
             [
              0.5555555555555556,
              "#d8576b"
             ],
             [
              0.6666666666666666,
              "#ed7953"
             ],
             [
              0.7777777777777778,
              "#fb9f3a"
             ],
             [
              0.8888888888888888,
              "#fdca26"
             ],
             [
              1,
              "#f0f921"
             ]
            ],
            "type": "surface"
           }
          ],
          "table": [
           {
            "cells": {
             "fill": {
              "color": "#EBF0F8"
             },
             "line": {
              "color": "white"
             }
            },
            "header": {
             "fill": {
              "color": "#C8D4E3"
             },
             "line": {
              "color": "white"
             }
            },
            "type": "table"
           }
          ]
         },
         "layout": {
          "annotationdefaults": {
           "arrowcolor": "#2a3f5f",
           "arrowhead": 0,
           "arrowwidth": 1
          },
          "autotypenumbers": "strict",
          "coloraxis": {
           "colorbar": {
            "outlinewidth": 0,
            "ticks": ""
           }
          },
          "colorscale": {
           "diverging": [
            [
             0,
             "#8e0152"
            ],
            [
             0.1,
             "#c51b7d"
            ],
            [
             0.2,
             "#de77ae"
            ],
            [
             0.3,
             "#f1b6da"
            ],
            [
             0.4,
             "#fde0ef"
            ],
            [
             0.5,
             "#f7f7f7"
            ],
            [
             0.6,
             "#e6f5d0"
            ],
            [
             0.7,
             "#b8e186"
            ],
            [
             0.8,
             "#7fbc41"
            ],
            [
             0.9,
             "#4d9221"
            ],
            [
             1,
             "#276419"
            ]
           ],
           "sequential": [
            [
             0,
             "#0d0887"
            ],
            [
             0.1111111111111111,
             "#46039f"
            ],
            [
             0.2222222222222222,
             "#7201a8"
            ],
            [
             0.3333333333333333,
             "#9c179e"
            ],
            [
             0.4444444444444444,
             "#bd3786"
            ],
            [
             0.5555555555555556,
             "#d8576b"
            ],
            [
             0.6666666666666666,
             "#ed7953"
            ],
            [
             0.7777777777777778,
             "#fb9f3a"
            ],
            [
             0.8888888888888888,
             "#fdca26"
            ],
            [
             1,
             "#f0f921"
            ]
           ],
           "sequentialminus": [
            [
             0,
             "#0d0887"
            ],
            [
             0.1111111111111111,
             "#46039f"
            ],
            [
             0.2222222222222222,
             "#7201a8"
            ],
            [
             0.3333333333333333,
             "#9c179e"
            ],
            [
             0.4444444444444444,
             "#bd3786"
            ],
            [
             0.5555555555555556,
             "#d8576b"
            ],
            [
             0.6666666666666666,
             "#ed7953"
            ],
            [
             0.7777777777777778,
             "#fb9f3a"
            ],
            [
             0.8888888888888888,
             "#fdca26"
            ],
            [
             1,
             "#f0f921"
            ]
           ]
          },
          "colorway": [
           "#636efa",
           "#EF553B",
           "#00cc96",
           "#ab63fa",
           "#FFA15A",
           "#19d3f3",
           "#FF6692",
           "#B6E880",
           "#FF97FF",
           "#FECB52"
          ],
          "font": {
           "color": "#2a3f5f"
          },
          "geo": {
           "bgcolor": "white",
           "lakecolor": "white",
           "landcolor": "#E5ECF6",
           "showlakes": true,
           "showland": true,
           "subunitcolor": "white"
          },
          "hoverlabel": {
           "align": "left"
          },
          "hovermode": "closest",
          "mapbox": {
           "style": "light"
          },
          "paper_bgcolor": "white",
          "plot_bgcolor": "#E5ECF6",
          "polar": {
           "angularaxis": {
            "gridcolor": "white",
            "linecolor": "white",
            "ticks": ""
           },
           "bgcolor": "#E5ECF6",
           "radialaxis": {
            "gridcolor": "white",
            "linecolor": "white",
            "ticks": ""
           }
          },
          "scene": {
           "xaxis": {
            "backgroundcolor": "#E5ECF6",
            "gridcolor": "white",
            "gridwidth": 2,
            "linecolor": "white",
            "showbackground": true,
            "ticks": "",
            "zerolinecolor": "white"
           },
           "yaxis": {
            "backgroundcolor": "#E5ECF6",
            "gridcolor": "white",
            "gridwidth": 2,
            "linecolor": "white",
            "showbackground": true,
            "ticks": "",
            "zerolinecolor": "white"
           },
           "zaxis": {
            "backgroundcolor": "#E5ECF6",
            "gridcolor": "white",
            "gridwidth": 2,
            "linecolor": "white",
            "showbackground": true,
            "ticks": "",
            "zerolinecolor": "white"
           }
          },
          "shapedefaults": {
           "line": {
            "color": "#2a3f5f"
           }
          },
          "ternary": {
           "aaxis": {
            "gridcolor": "white",
            "linecolor": "white",
            "ticks": ""
           },
           "baxis": {
            "gridcolor": "white",
            "linecolor": "white",
            "ticks": ""
           },
           "bgcolor": "#E5ECF6",
           "caxis": {
            "gridcolor": "white",
            "linecolor": "white",
            "ticks": ""
           }
          },
          "title": {
           "x": 0.05
          },
          "xaxis": {
           "automargin": true,
           "gridcolor": "white",
           "linecolor": "white",
           "ticks": "",
           "title": {
            "standoff": 15
           },
           "zerolinecolor": "white",
           "zerolinewidth": 2
          },
          "yaxis": {
           "automargin": true,
           "gridcolor": "white",
           "linecolor": "white",
           "ticks": "",
           "title": {
            "standoff": 15
           },
           "zerolinecolor": "white",
           "zerolinewidth": 2
          }
         }
        },
        "width": 800,
        "xaxis": {
         "anchor": "y",
         "domain": [
          0,
          1
         ],
         "mirror": "ticks",
         "nticks": 10,
         "range": [
          -1.034468802591649,
          0.9800061542766109
         ],
         "showgrid": true,
         "showline": true,
         "side": "bottom",
         "tickfont": {
          "size": 10
         },
         "ticks": "inside",
         "title": {
          "font": {
           "color": "#555555",
           "size": 12
          },
          "text": "HYG.spot"
         },
         "type": "linear",
         "zeroline": false
        },
        "yaxis": {
         "anchor": "x",
         "domain": [
          0,
          1
         ],
         "mirror": "ticks",
         "nticks": 7,
         "range": [
          -0.025691412630895357,
          0.024798024206923727
         ],
         "showgrid": true,
         "showline": true,
         "side": "left",
         "tickfont": {
          "size": 10
         },
         "ticks": "inside",
         "title": {
          "font": {
           "color": "#555555",
           "size": 12
          },
          "text": "RTY.3m.Proxy.Implied.Vol"
         },
         "type": "linear",
         "zeroline": false
        }
       }
      },
      "text/html": [
       "<div>            <script src=\"https://cdnjs.cloudflare.com/ajax/libs/mathjax/2.7.5/MathJax.js?config=TeX-AMS-MML_SVG\"></script><script type=\"text/javascript\">if (window.MathJax && window.MathJax.Hub && window.MathJax.Hub.Config) {window.MathJax.Hub.Config({SVG: {font: \"STIX-Web\"}});}</script>                <script type=\"text/javascript\">window.PlotlyConfig = {MathJaxConfig: 'local'};</script>\n",
       "        <script charset=\"utf-8\" src=\"https://cdn.plot.ly/plotly-3.0.0.min.js\"></script>                <div id=\"707cae10-83a4-41cd-a45d-f23fa2d65599\" class=\"plotly-graph-div\" style=\"height:600px; width:800px;\"></div>            <script type=\"text/javascript\">                window.PLOTLYENV=window.PLOTLYENV || {};                                if (document.getElementById(\"707cae10-83a4-41cd-a45d-f23fa2d65599\")) {                    Plotly.newPlot(                        \"707cae10-83a4-41cd-a45d-f23fa2d65599\",                        [{\"line\":{\"color\":\"rgba (226, 74, 51, 1)\",\"dash\":\"solid\",\"width\":2.25},\"mode\":\"lines\",\"name\":\"_child1\",\"x\":[-0.9429017590976372,-0.9244033664725843,-0.9059049738475314,-0.8874065812224785,-0.8689081885974256,-0.8504097959723728,-0.8319114033473198,-0.813413010722267,-0.7949146180972141,-0.7764162254721612,-0.7579178328471083,-0.7394194402220554,-0.7209210475970025,-0.7024226549719497,-0.6839242623468967,-0.6654258697218438,-0.646927477096791,-0.6284290844717381,-0.6099306918466851,-0.5914322992216323,-0.5729339065965794,-0.5544355139715265,-0.5359371213464736,-0.5174387287214207,-0.4989403360963678,-0.4804419434713149,-0.46194355084626204,-0.44344515822120917,-0.4249467655961563,-0.40644837297110337,-0.38794998034605044,-0.3694515877209976,-0.3509531950959447,-0.33245480247089176,-0.31395640984583895,-0.295458017220786,-0.2769596245957331,-0.25846123197068027,-0.23996283934562734,-0.22146444672057441,-0.2029660540955216,-0.18446766147046867,-0.16596926884541574,-0.14747087622036292,-0.12897248359531,-0.11047409097025707,-0.09197569834520425,-0.07347730572015132,-0.05497891309509839,-0.036480520470045574,-0.017982127844992646,0.0005162647800601716,0.0190146574051131,0.03751305003016603,0.056011442655218846,0.07450983528027177,0.09300822790532459,0.11150662053037763,0.13000501315543045,0.14850340578048327,0.1670017984055363,0.18550019103058912,0.20399858365564194,0.22249697628069498,0.2409953689057478,0.2594937615308006,0.27799215415585365,0.29649054678090647,0.3149889394059593,0.33348733203101233,0.35198572465606515,0.37048411728111796,0.388982509906171,0.4074809025312238,0.42597929515627664,0.4444776877813297,0.4629760804063825,0.4814744730314353,0.49997286565648835,0.5184712582815412,0.536969650906594,0.555468043531647,0.5739664361566998,0.5924648287817527,0.6109632214068057,0.6294616140318585,0.6479600066569113,0.6664583992819644,0.6849567919070172,0.70345518453207,0.721953577157123,0.7404519697821759,0.7589503624072287,0.7774487550322817,0.7959471476573345,0.8144455402823874,0.8329439329074404,0.8514423255324932,0.869940718157546,0.8884391107825991],\"xaxis\":\"x\",\"y\":[-0.009373569917342261,-0.00920497453970357,-0.009036379162064878,-0.008867783784426186,-0.008699188406787494,-0.008530593029148804,-0.008361997651510113,-0.008193402273871423,-0.008024806896232731,-0.00785621151859404,-0.0076876161409553485,-0.007519020763316657,-0.007350425385677965,-0.007181830008039274,-0.0070132346304005826,-0.006844639252761891,-0.006676043875123201,-0.006507448497484509,-0.0063388531198458175,-0.006170257742207127,-0.006001662364568435,-0.005833066986929743,-0.005664471609291052,-0.005495876231652361,-0.00532728085401367,-0.005158685476374978,-0.004990090098736287,-0.0048214947210975965,-0.004652899343458905,-0.004484303965820213,-0.004315708588181521,-0.0041471132105428314,-0.00397851783290414,-0.0038099224552654476,-0.003641327077626757,-0.0034727316999880655,-0.003304136322349374,-0.0031355409447106834,-0.0029669455670719917,-0.0027983501894333,-0.002629754811794609,-0.0024611594341559175,-0.002292564056517226,-0.0021239686788785354,-0.0019553733012398437,-0.0017867779236011522,-0.0016181825459624616,-0.0014495871683237699,-0.0012809917906850782,-0.0011123964130463875,-0.000943801035407696,-0.0007752056577690053,-0.0006066102801303137,-0.00043801490249162204,-0.0002694195248529314,-0.00010082414721423978,6.777123042445084e-05,0.0002363666080631435,0.00040496198570183413,0.0005735573633405248,0.0007421527409792174,0.000910748118617908,0.0010793434962565987,0.0012479388738952913,0.001416534251533982,0.0015851296291726725,0.0017537250068113653,0.001922320384450056,0.0020909157620887463,0.0022595111397274393,0.0024281065173661297,0.0025967018950048206,0.002765297272643513,0.0029338926502822035,0.0031024880279208944,0.003271083405559587,0.0034396787831982778,0.003608274160836968,0.0037768695384756607,0.003945464916114351,0.004114060293753042,0.0042826556713917345,0.004451251049030425,0.004619846426669116,0.004788441804307809,0.0049570371819465,0.00512563255958519,0.005294227937223883,0.005462823314862573,0.005631418692501264,0.005800014070139956,0.005968609447778647,0.006137204825417338,0.006305800203056031,0.0064743955806947215,0.006642990958333411,0.006811586335972104,0.006980181713610795,0.007148777091249486,0.007317372468888178],\"yaxis\":\"y\",\"type\":\"scatter\"},{\"marker\":{\"color\":\"rgba(226,74,51,0.8)\",\"line\":{\"color\":\"rgba(226,74,51,0.8)\",\"width\":1.0},\"size\":6.0,\"symbol\":\"circle\"},\"mode\":\"markers\",\"x\":[0.24684382805453708,-0.3494799005195546,-0.13601717875245356,-0.10347573971033341,0.6375226922585853,0.6515508186795103,-0.377408765990765,-0.20026787624792064,-0.36982640432574954,0.4018983721566798,0.37219107966369336,-0.007978700372007097,-0.2185075652607935,-0.08058555895496511,-0.012374952018646468,-0.1619922574983832,0.11032316881659199,0.11246603385450271,0.26988739403702766,0.5780584674458993,-0.10774198845774663,0.227984502770326,-0.3204410932024473,0.4482393440843708,-0.1877594487773564,-0.049994351142686355,0.2907837249394305,-0.15188423671004614,-0.7201386128653837,-0.3471849045147053,-0.3082025208152288,-0.17103378726410767,-0.4982290608918305,0.42222085127467324,-0.522348867306178,0.085386568555748,-0.10647049425139699,0.13361704351251547,0.20899682084821336,-0.1959225390258439,0.015298742398840659,0.1717312036518166,0.47642396114088115,-0.4225503856391981,-0.27131050407547264,0.39838443073708163,-0.10831270066699972,0.5033828639221696,-0.5479730836237735,-0.4712196224259344,0.018421526485951745,0.0985612337682511,-0.31221115397765686,-0.10603400017812703,0.614566680140527,-0.2477014352510878,0.06819298086965375,-0.20323293824881716,0.19554109711027934,-0.1806463307190711,-0.03702093189846778,0.3981473177154129,0.247882127598686,-0.2510586126365979,-0.007863701026607828,-0.4033054838848784,-0.1097259105064552,-0.14548515225966696,0.11157329215124889,-0.23648654006584025,0.00819232827417693,0.18507854367371124,0.03733210789798136,-0.1887129263978693,-0.1445694684014711,-0.12860304818998713,0.041572246870941854,-0.09034517958296817,0.6798361004159545,-0.23861610907721342,0.1237599257900257,0.03588638087653351,0.20494224749745626,-0.11734277956722394,-0.3126343330901733,0.7192802081433456,0.1644435527360315,0.387770956667012,0.006780393324476108,0.12732049964860437,-0.14595412497688187,-0.15051513507252423,0.6647654829758949,0.13106912230122703,0.2461195174278572,0.028111925246847136,-0.1919608627189433,0.11626445581116229,0.0014890751670577629,-0.34429873702994485,0.8865867947945532,-0.7463726687257406,-0.44799035785862884,-0.3278584838046328,-0.0010978630256914812,0.30891959234348576,-0.07731889635778089,0.0003050922237832765,-0.7767580436401431,0.14130999444638803,-0.048138503551484746,-0.07814024487115034,-0.7739998488885078,-0.4471278795687681,0.08795288381539024,0.2227178426855545,0.018686017470599836,0.13054000410103583,0.6020639637717835,0.40149835844624704,-0.012718477273352846,0.675941306070925,-0.03058098860093139,0.11076727919228802,-0.09787570024163017,0.04043120725225435,0.5118579559286189,-0.2386010352697383,0.21637848587904784,0.10880422954595304,-0.02057485900671452,-0.22512993808770432,0.02340922948832258,-0.20293687790228887,-0.6931559417857756,-0.29694689581931755,0.3873470092396758,-0.134096598156475,0.05818459759538541,-0.09542890134642334,0.11793425417330639,0.24135590580834787,-0.01676921592995484,0.16974333791766583,0.2606587950478314,-0.15549937142614567,0.3663026280780173,0.20584355092593398,0.03361033963605564,-0.9429017590976372,0.29352210000764956,-0.3563290507492809,-0.3280895610392349,0.16847578733630542,0.32266081737023455,-0.6948338150901634,-0.5300361638618369,0.048278757504817804,-0.030611501323022594,0.4610694471616199,0.16049601186237794,-0.42963473893877335,-0.061147819095708655,0.3680276193351517,0.14976230914611222,0.5986648754524708,0.26023168990150225,-0.07781336475876799,0.28959807660517356,0.3167850576431732,0.17356569614423734,0.03785157259527239,0.16024119811247317,-0.5256802287024556,0.184490747998467,0.2523342041325094,-0.2503751045905034,0.5409118150495402,0.12149670320917494,0.1979311151315244,-0.4882397016297375,0.253466640973798,-0.45015162576567036,-0.05807680631006917,0.013975207363372988,0.11103433656917616,-0.09759552283472317,0.31888017657337286,-0.07266417864576624,-0.4764154438897208,-0.3042252159575298,-0.3414290345094173,-0.16900015088801013,-0.3539464573626958,0.14487555190822832,0.3286362628469419,-0.1954704601398305,-0.3915360502965086,0.6085412462712299,0.08301170229229626,0.08418290364335235,0.4016711242801847,0.3721283591745106,0.15788106267361002,0.2138223379327684,0.1931601668213574,0.02201379315710028,0.01673778341783816,0.19718106958033843,0.10894526768080937,0.5567576618549595,-0.31404006611893465,0.2636499496306186,0.21255715126407893,0.1746489026267284,-0.3460886766131921,-0.0758746877638714,0.46345453365282197,-0.1102617703840707,-0.17857631056283196,-0.2040327954908605,-0.5609983769663245,-0.06865638725241752,-0.1697482509115673,0.1037024811408429,0.47422756671294053,0.15722162373097603,0.10432662905135714,0.19962142506214775,-0.2759255831542191,0.22549407219241857,0.10634220727126831,0.3165834976770725,-0.1575419882360194,-0.33437294061955924,-0.06172563003646303,-0.11394345186404564,0.15462687446886036,0.13322707646459264,-0.1597223083230972,0.25882116840367075,0.4286689761209743,0.6172847559846986,0.5506178141661593,0.10634795619479576,-0.5237389425085297,-0.21234534345813927,0.2042519004065042,0.5817062670097783,-0.07201058235042979,-0.2144858780863501,-0.13343277821536503,-0.23390179101633635,0.31343690407055647,-0.045665571798622295,0.49527241106061126,0.6514624728213363,0.15281384012888566,-0.28264292632412946,0.3740085195966145,0.05199984408459102,0.3566925145388211,-0.08956961915392014,-0.08687678168874413,0.016958301305521672,0.25044530625922334,0.388201951228325,-0.04282226882354223,-0.05043184186909855,0.04122727683414951,0.30497391329609513,-0.49787328759872196,0.39153411525964543,-0.41574770762143487,0.23798925636114632,-0.509907949160123,-0.21897066990142378,0.05207341523136222,0.05818973387984272,0.13456871536216397,0.05449936510075304,0.37808152812885965,-0.030559664106505124,-0.6421046471140386,0.04575631908674893,0.8438911084556935,0.4534821499429711,-0.3546794234103601,0.6444806865968218,0.5676946295122605,0.03491057822944299,0.05730070182082159,-0.26255130516523195,-0.5264154116334225,-0.16926188381421525,-0.261996342838529,0.2651427576474532,0.17431114185191632,-0.40586997483305254,-0.037460877535949066,0.12868422333606588,0.09972706760309791,0.6451325667319452,-0.10856610618122886,-0.19842718228886724,-0.08182205921130503,-0.3930361137821592,0.16742568484067988,0.0889106592459541,-0.4696330762847367,0.25723456413791723,-0.08085724596794819,0.42206867578786955,0.5578714000408951,0.023907040547769043,-0.0988392997650891,0.19337448342861308,-0.1957577240812327,0.1534708382985599,-0.348895031032626,-0.2823363363833664,-0.2953680350491652,0.05566231563295787,0.14862824784378859,0.07799641565300419,0.38129327663743595,-0.24929183322899462,-0.5284889295547686,0.21969983715040087,0.10081044974680253,0.14720266251967473,-0.21765803999264222,-0.28904718104219285,0.15546671082667274,-0.15216330329539574,-0.10456840020462721,0.20935704123684218,0.25602447639460024,0.05453514908354862,-0.172359154991085,-0.1644767973116359,0.3751320833578973,0.21025687123470505,-0.02796597381581023,-0.024354668274597202,0.398163145931818,-0.3297655876454968,0.5882161955299381,-0.33417444244460626,0.00017066962475098535,-0.27273171100146953,0.02949241256638402,0.03965909182383598,0.35630831355001646,-0.10824341897446743,0.29671517159518146,0.29470954698288665,0.273258077340202,0.07799691609830006,-0.5918677945956716,-0.31953212954680055,0.191060218295803,0.025338107254000874,0.21041038662245626,0.18921329945303,-0.2573005961435655,-0.48474154668937786,0.2837864572026092,-0.33087066457999015,0.03699427051213888,-0.14807831168408825,-0.018281452037911095,-0.5313874557230776,-0.07822617775916285,0.00037593900667332036,0.1342656702741465,-0.33550104108599044,-0.23034758983699533,0.08931298356745287,0.3453505412781652,0.34767855010845494,0.27761589383118235,0.434608099000684,0.21942297538183198,0.24869897549231723,0.6866884481497806,0.34747051044659827,0.24357505990749928,-0.26101210210711656,0.17929208252853357,-0.2503893558166794,0.12636006698897972,-0.2533079837634489,0.46310145124918733,0.30213426186156767,-0.16071334979078244,-0.04508909096141167,0.44474024632256715,-0.3027961642236505,-0.22238923461578963,-0.3778789334782857,0.003937884300725614,-0.03446954998992169,0.6516105315717766,0.5307367892074666,0.19838165574508082,0.4837885128062567,0.4481761239621562,-0.332275824463494,-0.28045802207296333,-0.33139838955609946,0.03491362188421476,0.212730203057518,0.11632656624098558,0.8884391107825991,0.1789138996709454,-0.2770068086518478,-0.6659015060253637,0.271463713764021,0.2705867449813155,-0.17159403627995573,-0.20881747363578995,0.8640089703763039,-0.2048421576606927,-0.4462441073715695,-0.08389369727954943,-0.04267240543434525,-0.21129224312512918,0.4858587437708479,0.3668766197331479,-0.0977951402670243,-0.2795798493131514,-0.028309420821670983,0.3985196315065309,0.059592528473984885,0.6827260772115551,0.1728551649854495,-0.19879989067671033,-0.3010339115528211,-0.12154671025963637,-0.14901002792102247,0.026877206150047073,-0.38153565077398355,-0.04837303215884958,0.12247507685246717,-0.31144739139806177,-0.28278279488971236,-0.029226768008143722,0.4893430585869112,0.4033950170887266,0.22550331916654898,-0.2352194272783379,0.41746904809528473,0.32814174832022047,-0.1788495154325176,0.4437715034493408,-0.11390811000420342,-0.16874234256769682,-0.174818113372865,0.08864697965074697,-0.211060643216328,-0.2117670914122698,-0.4115300455859341,-0.6708652384887159,-0.6212520826898071,0.5404537277050991,0.1466288002647076,0.014685263479549349,-0.9210099639895617,0.579943126843034,-0.24813695190543683,-0.381761035541075,0.07257622600261016,-0.2417495857064722,0.2944183945813563,0.17236982848950788,0.12728213118097642,-0.5953886994606421,0.8136984451710845,0.5291528097062326,0.14907098145266673,-0.8273198799679875,0.17797324997027886,-0.16733787027575886,-0.06845694493088672,-0.5767126789730384,0.5610169335357824,-0.4357574035339553,0.08913673420114776,-0.20172997279890126,0.5208204924574034,0.27512133852115994,-0.04783887881546889,-0.6202902835683375,0.3955306182179612,-0.03671617832559093,0.1915431078378873,0.23628911142773745,0.1243276292848634],\"xaxis\":\"x\",\"y\":[-0.008578437832235275,-0.002304714959747989,-0.007974248836014108,-0.0004396610915879673,-0.00010123980988460679,0.011347088564585939,-0.007585054863849194,-0.0002777383725009741,-6.329959887874104e-05,0.0008643914277558784,0.003047003415500127,-0.004688276497987864,-0.006190995279016537,-0.003135593499603073,-0.004965938452587304,0.0013117620700240362,0.011814900514551668,-0.0017985475667031126,0.004565818286159706,0.0026847670662181744,-0.0057203850400670275,0.0008981147052471994,-0.003119739176884073,0.006862761204321388,-0.002770999105724231,0.0010239693225809476,0.004542011838955723,-0.004340360725719528,-0.0040957737071554146,-0.008294281686630073,0.001181521476996794,-0.006090259588018704,-0.0034477806660331844,0.004835005332395531,-0.006003469892398888,0.0037885378102104073,-0.0011131411406510583,0.00048785112638977113,-0.001145511586715886,0.005179681799703406,0.0024842024422160325,-0.004404746947710952,0.0011018581788833082,-0.006234134320469209,-0.004199824904640215,0.0038492398423755902,0.0015270385320246826,0.00660811715774795,-0.0027233131881998496,-0.0044861438287734645,0.0011972498091629424,-0.006736915321524706,0.0025407714662512293,0.004770107386124767,0.006242202706670752,-0.00701473833998989,-0.007488915891963738,-0.004350598926584653,0.0008394461768648775,-0.004443819311292396,0.009189923730838462,0.004270468771918917,0.004235790355821806,-0.009307997417128483,-0.0017637356828650308,-0.002663922587482881,0.004769235554438173,-0.0005060520757661779,0.0043179916972174714,-0.00014145966011139266,-0.0036499759245844088,-0.0004003013516613585,-0.006561676176233822,-0.003960197177840241,-0.003858449322958646,0.0026964969956788654,-0.0006243524346442042,0.0032362759277670405,0.0060736598331527225,-0.005157631264726403,0.0024871836396255786,-0.002078579331789676,-0.004584280119122042,-0.0035521789754236477,-0.015685595536085728,0.005484520179529551,-0.0038644339897937474,-0.0006848613679800164,-0.004300180091402206,0.0013457651593005715,0.005571996326466211,-0.0005475695746466336,0.0010493841489589983,0.010400211164629913,-0.002128893624246897,0.0035606814588647895,-0.0017970998842064545,-0.0003999903456015641,0.0005058415941130434,-0.0015773376292793073,0.0047908736976466915,-0.004541867036456926,0.005803601003306624,-0.004787776558063062,-0.003173701885319291,0.005295377351646258,-0.0016542198611109171,-0.00026862269331356936,-0.0071048545357862425,0.0028416849298918967,0.0066313860698750116,0.001771429365912791,-0.01358799998711957,-0.007013508102555299,-0.0019733145725773227,0.0060867449892346714,-0.0035232275978121508,-0.006017782927576598,0.002856790697609468,0.004605204428999032,0.00702179754975224,0.0007439673157432214,0.006468011248193017,-0.004842664537957897,0.006758813280500264,-0.0027026951283640743,0.0016463373239294365,0.004985578644167765,0.006406920763909141,0.002676384709789703,-0.005202737406900637,0.003139499896168574,0.0033061478165785085,-0.009063330701572891,-0.0033900084962527055,-0.005227547506829966,0.003382801674582714,0.001794602043813709,-0.0063283524433631055,-0.0010308287770013358,-0.004133558652439306,0.00037090337645961924,-0.005237243045187356,-0.0006391012331267709,0.007204127892782186,-0.0030605088946225045,0.007617709571589193,0.005314981423256537,-0.00573033163269876,-0.01032359426853946,-0.00011402246787822756,-0.003922243346284993,-0.0058706911683275576,-0.006884819990940483,0.007064186457843014,-0.00927035871695514,-0.0042519331005632655,-0.0006920303315200438,-0.009623442508990387,0.008997203926395247,0.0037121653064371984,-6.473517308386301e-05,-0.013343698250487535,0.00628658786619013,0.0026073536107728557,0.003537745615723842,0.002419004956622395,0.004772586430535131,-0.0002942764857912783,0.006862952605149908,0.0056310347216042556,0.005215043908466943,0.00507217737207899,-0.008773871799923783,-0.0035013188207201895,0.002893811080626252,-0.0002486543294489274,-0.005456135666631723,0.004193788788837249,-0.0038834613095283244,-0.010250616789326317,0.0016415402002085133,-0.008472153963027584,-0.004622674493641621,0.00652444158082105,-0.00037962363089766304,0.006250108173956548,0.005250192933212383,0.0016841352074151716,0.00039084270090050666,0.0006236362028364528,-0.008264041638868846,-0.005389830784721217,-0.008382759887631375,0.0035954805480631347,0.0008663156784121662,-0.004041102831743804,-0.0016167905222564394,-0.0041277259066360705,0.0014362935586775816,0.007386541119178469,0.000294740852905373,-0.00679297654200639,0.0034056370341261077,0.0039228289801147564,-0.001956018942591453,-0.007879592455603657,-0.004169046361189033,0.001722867131503436,0.0023489506772385593,-0.0014158404556953719,-0.00011438047893985726,0.004306458756375975,0.005574843089974135,0.0021674047342779557,-0.009265988608194053,0.0012989942652747999,0.005238360409221154,-0.009754780202360702,-0.012029754971603357,-0.0031369204821409258,-0.013299963427939543,-0.005403504557368655,-0.0026900052739731173,0.014437546722594952,0.002039158197189528,0.006523898150763319,-0.0071440833881203925,-0.0009292905962527964,0.0023077720924555845,0.004908703786210444,-0.008121390760926217,0.010736685033983229,-0.004093942781556392,-0.01039986635258594,-0.0007974375218335883,-0.0032681713026127546,-0.0014158509523196083,-0.0012324523351308625,-0.005492025586064375,-0.0069430969894702654,0.0039276919227849705,0.004363002205240607,0.019020590370973867,0.003490510982982864,-0.0038436932209978125,-0.006038344530673201,0.008075034427893701,0.006258420908700935,0.009139187793224979,0.0024271836549357717,-0.00529510349209994,-0.0030200340139086568,0.0013208769765795103,0.001964349704082824,0.0045624923857896515,0.003419767274038976,-0.009516033369105281,0.0004155225325101486,0.00907131341397327,0.00264624528152696,0.00981303054784971,-0.0005535300416980582,0.0010869060585426693,0.0013625914157363028,0.001148257052257795,0.004206538650749159,0.0020527093231728077,0.0029584449619588504,0.003833951419182524,3.841825866479631e-05,-0.011508465671604684,0.0013509733231290566,-0.004904302526942905,-0.00026188311368607886,-0.00704470968264298,-0.0058353118620146915,0.0058630799529975075,0.007524462876374538,0.004504814318788297,-0.010408320745663946,0.0028860529005318436,-0.0034040743386851147,-0.010264428785312085,-0.0031497431917245633,0.004973153312492096,0.008866267547119,-0.010149442350947169,0.005864399423177069,0.003665943243385983,-0.0014608433700637469,0.0015784568955317102,-0.004778699370312667,0.0043960406221904,-0.0006251336589360723,0.003405952791847744,-0.002993032751772262,-0.011639460188682171,-0.009261751815104358,-0.01068551641321358,-0.00013254128565393097,0.011809888244737943,0.002283786867780191,-0.006998589422085977,-0.005538558678816696,-0.010048493928830837,-0.003565414859152849,-0.0005757002541472711,0.009171146878649228,0.008099660883241211,0.00794480440076517,-0.011213459523729263,-0.0061684340812717675,0.0010394052865728143,0.006239832514389809,-0.0029617926355430257,0.000442693911053782,0.004982816144341928,-0.002074126780354013,0.002626028796500257,-0.014652099863889434,0.0072953923925689335,-0.0012811945253278778,0.012678730452731934,0.0006005508849633023,0.013118788356205613,-0.0037215910481923076,-0.0015313088990300816,0.004424027246396178,0.009376713465587716,-0.00812020664158336,0.0004831287161504161,0.006661378736916579,0.005474998824246846,-0.011722076512852952,0.0030576804335426533,0.001346525824039435,0.006261652625281333,-0.002109760081445089,-0.003172262785102742,0.0008656320707007836,0.0008612935068547656,0.007253319624276666,-0.0035588006276678907,-0.004703503697539635,0.00573992201791107,-0.009524787570089455,-0.004579610696345382,-0.017577100371093612,-0.006131848655904104,-0.004275415733415833,0.004271785590787447,-0.0013800664505195237,-0.00745801352990072,0.011820316676668441,-0.0033913171837412492,-0.004895480485913539,0.005694101542833674,0.0011600617228337273,-0.009050154090049334,-0.005067154505688842,0.00024538057678230585,-0.0076817945501492235,-0.0011082917587348917,0.007155938151594765,-0.0036572667467311692,-0.01774222899443606,-0.006978885425051318,-0.0027272004126320804,-0.011629942757702627,-0.006782060420513658,0.003843106444535338,-0.01863469570014581,0.012390040414197556,0.009283969376191359,-0.006900698052808296,-0.010465528793398404,0.0002493799398357588,-0.004627155067770117,0.014282122043010048,0.004409684337206454,0.0038817649618475003,0.0010138554644191777,0.003310777287722666,-0.008198460323728285,0.004482442466954506,-0.0035567565731735584,-0.005366016074957347,0.006092750565687921,0.002608121229863203,-0.0038100701818124527,0.004003436680838246,0.0007619806529209905,0.0074172550112352464,0.0023877343230916948,-0.0007895265912127858,0.0025870849949536923,0.004984359253366655,-0.004265673707436135,-3.992725423296317e-05,-0.009007838128571533,-0.008318948931619718,-0.0015013886151321598,-0.003403460636890121,-0.0038557575591918747,0.003381156165621124,0.0019949770372055253,0.016114088759246525,0.0006771626342504389,0.002718436631445331,0.009142631932333112,0.00240767797623892,0.00066616738293368,0.007599739255997218,0.010047025198894777,-0.001661422617683428,0.0034575447139809645,0.0034024877602126247,-0.00758531702208981,0.0021604527307872434,-0.006275464250262541,-0.0008842004749436971,0.010903262175997686,-0.006209535990455151,-0.0006677976721539136,-0.012333543624729326,-0.0002684579011784094,0.0028619346409041735,-0.005570223331300028,-0.0013053140581976708,-0.010791896958190494,-0.004881246616695367,-0.009538309830700475,-0.005702688663541289,0.003436575463268754,0.009447212349461498,-0.00388108914191021,0.0014055321300450174,-0.011705114986548804,-0.008037495042999387,-0.0019297207699345842,-0.005310483981695646,-0.0023871919344251036,0.007998626943862941,0.002926740833280317,-0.0020860047343722044,0.006114776413060852,0.0011202296065908057,0.004539011768172951,0.017801120003439863,0.004509667923308647,-0.003123691976059495,0.00011207223767312202,-0.016593372783745064,0.006036074569416627,-0.0201149904091647,-0.013710684287728592,-0.01111600203552432,0.0012122755186239065,-0.011775673752645544,-0.012368426894318718,0.010496714380379302,-0.010332250936789578,-0.008238602168238518,-0.010832266213417485,0.0031467212336980244,-0.005150815201269476,0.009802568679644796,-0.003814988379872486,0.012208623136908181,-0.0005352649786928843,-0.0031935367518323154,0.01241275499654515,0.001036840481274226,0.0032210449804021546,0.006849695464854033,-0.0008866985942477257,-0.018300139828902107,0.022503049805204678,0.01256971594517814,0.010662135464518663,-0.008654758815641095,-0.004346488049601582,0.0009259504361245341,-0.0007392902175830107,-0.02339643822917631,0.0055094995820448855,-0.008896756004888595,-0.011724839610312787,-0.009417485478363297,-0.004241663265944162,0.002691505731174104,-0.0033293046629368495,-0.012351452771134863,-0.0010389765303827625,0.011319118226156832,-0.0008291420873028921,-0.0015242458483362697,-0.004562761767234413],\"yaxis\":\"y\",\"type\":\"scatter\"}],                        {\"annotations\":[{\"showarrow\":false,\"text\":\"R^2 = 0.457\",\"x\":18,\"y\":-2},{\"showarrow\":false,\"text\":\"y = 0.009x - 0.001\",\"x\":18,\"y\":-2.6}],\"autosize\":false,\"height\":600,\"hovermode\":\"closest\",\"margin\":{\"b\":50,\"l\":50,\"pad\":0,\"r\":50,\"t\":50},\"showlegend\":false,\"template\":{\"data\":{\"barpolar\":[{\"marker\":{\"line\":{\"color\":\"#E5ECF6\",\"width\":0.5},\"pattern\":{\"fillmode\":\"overlay\",\"size\":10,\"solidity\":0.2}},\"type\":\"barpolar\"}],\"bar\":[{\"error_x\":{\"color\":\"#2a3f5f\"},\"error_y\":{\"color\":\"#2a3f5f\"},\"marker\":{\"line\":{\"color\":\"#E5ECF6\",\"width\":0.5},\"pattern\":{\"fillmode\":\"overlay\",\"size\":10,\"solidity\":0.2}},\"type\":\"bar\"}],\"carpet\":[{\"aaxis\":{\"endlinecolor\":\"#2a3f5f\",\"gridcolor\":\"white\",\"linecolor\":\"white\",\"minorgridcolor\":\"white\",\"startlinecolor\":\"#2a3f5f\"},\"baxis\":{\"endlinecolor\":\"#2a3f5f\",\"gridcolor\":\"white\",\"linecolor\":\"white\",\"minorgridcolor\":\"white\",\"startlinecolor\":\"#2a3f5f\"},\"type\":\"carpet\"}],\"choropleth\":[{\"colorbar\":{\"outlinewidth\":0,\"ticks\":\"\"},\"type\":\"choropleth\"}],\"contourcarpet\":[{\"colorbar\":{\"outlinewidth\":0,\"ticks\":\"\"},\"type\":\"contourcarpet\"}],\"contour\":[{\"colorbar\":{\"outlinewidth\":0,\"ticks\":\"\"},\"colorscale\":[[0.0,\"#0d0887\"],[0.1111111111111111,\"#46039f\"],[0.2222222222222222,\"#7201a8\"],[0.3333333333333333,\"#9c179e\"],[0.4444444444444444,\"#bd3786\"],[0.5555555555555556,\"#d8576b\"],[0.6666666666666666,\"#ed7953\"],[0.7777777777777778,\"#fb9f3a\"],[0.8888888888888888,\"#fdca26\"],[1.0,\"#f0f921\"]],\"type\":\"contour\"}],\"heatmap\":[{\"colorbar\":{\"outlinewidth\":0,\"ticks\":\"\"},\"colorscale\":[[0.0,\"#0d0887\"],[0.1111111111111111,\"#46039f\"],[0.2222222222222222,\"#7201a8\"],[0.3333333333333333,\"#9c179e\"],[0.4444444444444444,\"#bd3786\"],[0.5555555555555556,\"#d8576b\"],[0.6666666666666666,\"#ed7953\"],[0.7777777777777778,\"#fb9f3a\"],[0.8888888888888888,\"#fdca26\"],[1.0,\"#f0f921\"]],\"type\":\"heatmap\"}],\"histogram2dcontour\":[{\"colorbar\":{\"outlinewidth\":0,\"ticks\":\"\"},\"colorscale\":[[0.0,\"#0d0887\"],[0.1111111111111111,\"#46039f\"],[0.2222222222222222,\"#7201a8\"],[0.3333333333333333,\"#9c179e\"],[0.4444444444444444,\"#bd3786\"],[0.5555555555555556,\"#d8576b\"],[0.6666666666666666,\"#ed7953\"],[0.7777777777777778,\"#fb9f3a\"],[0.8888888888888888,\"#fdca26\"],[1.0,\"#f0f921\"]],\"type\":\"histogram2dcontour\"}],\"histogram2d\":[{\"colorbar\":{\"outlinewidth\":0,\"ticks\":\"\"},\"colorscale\":[[0.0,\"#0d0887\"],[0.1111111111111111,\"#46039f\"],[0.2222222222222222,\"#7201a8\"],[0.3333333333333333,\"#9c179e\"],[0.4444444444444444,\"#bd3786\"],[0.5555555555555556,\"#d8576b\"],[0.6666666666666666,\"#ed7953\"],[0.7777777777777778,\"#fb9f3a\"],[0.8888888888888888,\"#fdca26\"],[1.0,\"#f0f921\"]],\"type\":\"histogram2d\"}],\"histogram\":[{\"marker\":{\"pattern\":{\"fillmode\":\"overlay\",\"size\":10,\"solidity\":0.2}},\"type\":\"histogram\"}],\"mesh3d\":[{\"colorbar\":{\"outlinewidth\":0,\"ticks\":\"\"},\"type\":\"mesh3d\"}],\"parcoords\":[{\"line\":{\"colorbar\":{\"outlinewidth\":0,\"ticks\":\"\"}},\"type\":\"parcoords\"}],\"pie\":[{\"automargin\":true,\"type\":\"pie\"}],\"scatter3d\":[{\"line\":{\"colorbar\":{\"outlinewidth\":0,\"ticks\":\"\"}},\"marker\":{\"colorbar\":{\"outlinewidth\":0,\"ticks\":\"\"}},\"type\":\"scatter3d\"}],\"scattercarpet\":[{\"marker\":{\"colorbar\":{\"outlinewidth\":0,\"ticks\":\"\"}},\"type\":\"scattercarpet\"}],\"scattergeo\":[{\"marker\":{\"colorbar\":{\"outlinewidth\":0,\"ticks\":\"\"}},\"type\":\"scattergeo\"}],\"scattergl\":[{\"marker\":{\"colorbar\":{\"outlinewidth\":0,\"ticks\":\"\"}},\"type\":\"scattergl\"}],\"scattermapbox\":[{\"marker\":{\"colorbar\":{\"outlinewidth\":0,\"ticks\":\"\"}},\"type\":\"scattermapbox\"}],\"scattermap\":[{\"marker\":{\"colorbar\":{\"outlinewidth\":0,\"ticks\":\"\"}},\"type\":\"scattermap\"}],\"scatterpolargl\":[{\"marker\":{\"colorbar\":{\"outlinewidth\":0,\"ticks\":\"\"}},\"type\":\"scatterpolargl\"}],\"scatterpolar\":[{\"marker\":{\"colorbar\":{\"outlinewidth\":0,\"ticks\":\"\"}},\"type\":\"scatterpolar\"}],\"scatter\":[{\"fillpattern\":{\"fillmode\":\"overlay\",\"size\":10,\"solidity\":0.2},\"type\":\"scatter\"}],\"scatterternary\":[{\"marker\":{\"colorbar\":{\"outlinewidth\":0,\"ticks\":\"\"}},\"type\":\"scatterternary\"}],\"surface\":[{\"colorbar\":{\"outlinewidth\":0,\"ticks\":\"\"},\"colorscale\":[[0.0,\"#0d0887\"],[0.1111111111111111,\"#46039f\"],[0.2222222222222222,\"#7201a8\"],[0.3333333333333333,\"#9c179e\"],[0.4444444444444444,\"#bd3786\"],[0.5555555555555556,\"#d8576b\"],[0.6666666666666666,\"#ed7953\"],[0.7777777777777778,\"#fb9f3a\"],[0.8888888888888888,\"#fdca26\"],[1.0,\"#f0f921\"]],\"type\":\"surface\"}],\"table\":[{\"cells\":{\"fill\":{\"color\":\"#EBF0F8\"},\"line\":{\"color\":\"white\"}},\"header\":{\"fill\":{\"color\":\"#C8D4E3\"},\"line\":{\"color\":\"white\"}},\"type\":\"table\"}]},\"layout\":{\"annotationdefaults\":{\"arrowcolor\":\"#2a3f5f\",\"arrowhead\":0,\"arrowwidth\":1},\"autotypenumbers\":\"strict\",\"coloraxis\":{\"colorbar\":{\"outlinewidth\":0,\"ticks\":\"\"}},\"colorscale\":{\"diverging\":[[0,\"#8e0152\"],[0.1,\"#c51b7d\"],[0.2,\"#de77ae\"],[0.3,\"#f1b6da\"],[0.4,\"#fde0ef\"],[0.5,\"#f7f7f7\"],[0.6,\"#e6f5d0\"],[0.7,\"#b8e186\"],[0.8,\"#7fbc41\"],[0.9,\"#4d9221\"],[1,\"#276419\"]],\"sequential\":[[0.0,\"#0d0887\"],[0.1111111111111111,\"#46039f\"],[0.2222222222222222,\"#7201a8\"],[0.3333333333333333,\"#9c179e\"],[0.4444444444444444,\"#bd3786\"],[0.5555555555555556,\"#d8576b\"],[0.6666666666666666,\"#ed7953\"],[0.7777777777777778,\"#fb9f3a\"],[0.8888888888888888,\"#fdca26\"],[1.0,\"#f0f921\"]],\"sequentialminus\":[[0.0,\"#0d0887\"],[0.1111111111111111,\"#46039f\"],[0.2222222222222222,\"#7201a8\"],[0.3333333333333333,\"#9c179e\"],[0.4444444444444444,\"#bd3786\"],[0.5555555555555556,\"#d8576b\"],[0.6666666666666666,\"#ed7953\"],[0.7777777777777778,\"#fb9f3a\"],[0.8888888888888888,\"#fdca26\"],[1.0,\"#f0f921\"]]},\"colorway\":[\"#636efa\",\"#EF553B\",\"#00cc96\",\"#ab63fa\",\"#FFA15A\",\"#19d3f3\",\"#FF6692\",\"#B6E880\",\"#FF97FF\",\"#FECB52\"],\"font\":{\"color\":\"#2a3f5f\"},\"geo\":{\"bgcolor\":\"white\",\"lakecolor\":\"white\",\"landcolor\":\"#E5ECF6\",\"showlakes\":true,\"showland\":true,\"subunitcolor\":\"white\"},\"hoverlabel\":{\"align\":\"left\"},\"hovermode\":\"closest\",\"mapbox\":{\"style\":\"light\"},\"paper_bgcolor\":\"white\",\"plot_bgcolor\":\"#E5ECF6\",\"polar\":{\"angularaxis\":{\"gridcolor\":\"white\",\"linecolor\":\"white\",\"ticks\":\"\"},\"bgcolor\":\"#E5ECF6\",\"radialaxis\":{\"gridcolor\":\"white\",\"linecolor\":\"white\",\"ticks\":\"\"}},\"scene\":{\"xaxis\":{\"backgroundcolor\":\"#E5ECF6\",\"gridcolor\":\"white\",\"gridwidth\":2,\"linecolor\":\"white\",\"showbackground\":true,\"ticks\":\"\",\"zerolinecolor\":\"white\"},\"yaxis\":{\"backgroundcolor\":\"#E5ECF6\",\"gridcolor\":\"white\",\"gridwidth\":2,\"linecolor\":\"white\",\"showbackground\":true,\"ticks\":\"\",\"zerolinecolor\":\"white\"},\"zaxis\":{\"backgroundcolor\":\"#E5ECF6\",\"gridcolor\":\"white\",\"gridwidth\":2,\"linecolor\":\"white\",\"showbackground\":true,\"ticks\":\"\",\"zerolinecolor\":\"white\"}},\"shapedefaults\":{\"line\":{\"color\":\"#2a3f5f\"}},\"ternary\":{\"aaxis\":{\"gridcolor\":\"white\",\"linecolor\":\"white\",\"ticks\":\"\"},\"baxis\":{\"gridcolor\":\"white\",\"linecolor\":\"white\",\"ticks\":\"\"},\"bgcolor\":\"#E5ECF6\",\"caxis\":{\"gridcolor\":\"white\",\"linecolor\":\"white\",\"ticks\":\"\"}},\"title\":{\"x\":0.05},\"xaxis\":{\"automargin\":true,\"gridcolor\":\"white\",\"linecolor\":\"white\",\"ticks\":\"\",\"title\":{\"standoff\":15},\"zerolinecolor\":\"white\",\"zerolinewidth\":2},\"yaxis\":{\"automargin\":true,\"gridcolor\":\"white\",\"linecolor\":\"white\",\"ticks\":\"\",\"title\":{\"standoff\":15},\"zerolinecolor\":\"white\",\"zerolinewidth\":2}}},\"width\":800,\"xaxis\":{\"anchor\":\"y\",\"domain\":[0.0,1.0],\"mirror\":\"ticks\",\"nticks\":10,\"range\":[-1.034468802591649,0.9800061542766109],\"showgrid\":true,\"showline\":true,\"side\":\"bottom\",\"tickfont\":{\"size\":10.0},\"ticks\":\"inside\",\"title\":{\"font\":{\"color\":\"#555555\",\"size\":12.0},\"text\":\"HYG.spot\"},\"type\":\"linear\",\"zeroline\":false},\"yaxis\":{\"anchor\":\"x\",\"domain\":[0.0,1.0],\"mirror\":\"ticks\",\"nticks\":7,\"range\":[-0.025691412630895357,0.024798024206923727],\"showgrid\":true,\"showline\":true,\"side\":\"left\",\"tickfont\":{\"size\":10.0},\"ticks\":\"inside\",\"title\":{\"font\":{\"color\":\"#555555\",\"size\":12.0},\"text\":\"RTY.3m.Proxy.Implied.Vol\"},\"type\":\"linear\",\"zeroline\":false}},                        {\"responsive\": true}                    ).then(function(){\n",
       "                            \n",
       "var gd = document.getElementById('707cae10-83a4-41cd-a45d-f23fa2d65599');\n",
       "var x = new MutationObserver(function (mutations, observer) {{\n",
       "        var display = window.getComputedStyle(gd).display;\n",
       "        if (!display || display === 'none') {{\n",
       "            console.log([gd, 'removed!']);\n",
       "            Plotly.purge(gd);\n",
       "            observer.disconnect();\n",
       "        }}\n",
       "}});\n",
       "\n",
       "// Listen for the removal of the full notebook cells\n",
       "var notebookContainer = gd.closest('#notebook-container');\n",
       "if (notebookContainer) {{\n",
       "    x.observe(notebookContainer, {childList: true});\n",
       "}}\n",
       "\n",
       "// Listen for the clearing of the current output cell\n",
       "var outputEl = gd.closest('.output');\n",
       "if (outputEl) {{\n",
       "    x.observe(outputEl, {childList: true});\n",
       "}}\n",
       "\n",
       "                        })                };            </script>        </div>"
      ]
     },
     "metadata": {},
     "output_type": "display_data"
    }
   ],
   "source": [
    "from plotly.offline import download_plotlyjs, init_notebook_mode, iplot\n",
    "import plotly.tools as tls\n",
    "init_notebook_mode(connected=True)\n",
    "\n",
    "# Convert our matplotlib object to a plotly object\n",
    "plotlyFig = tls.mpl_to_plotly(fig)\n",
    "\n",
    "plotlyFig['layout'].update(\n",
    "    width=800,  # Adjust width\n",
    "    height=600,  # Adjust height\n",
    "    margin=dict(l=50, r=50, t=50, b=50)  # Adjust margins to fit annotations\n",
    ")\n",
    "\n",
    "plotlyFig['layout']['annotations'] = [\n",
    "    dict(\n",
    "        x=18,\n",
    "        y=-2,\n",
    "        showarrow=False,\n",
    "        text='R^2 = {:.3f}'.format( rvalue )\n",
    "    ),\n",
    "    dict(\n",
    "        x=18,\n",
    "        y=-2.6,\n",
    "        showarrow=False,\n",
    "        text='y = {m:.3f}x {sign} {b:.3f}'.format( m=slope, sign=\"+\" if intercept >= 0 else \"-\", b=abs(intercept) )\n",
    "    )\n",
    "]\n",
    "iplot(plotlyFig)"
   ]
  },
  {
   "cell_type": "code",
   "execution_count": 34,
   "id": "8de9f9c3-f06b-4771-8764-72d4a9a59f7f",
   "metadata": {},
   "outputs": [],
   "source": [
    "c = [0.8023,0.814,0.8256,0.8372,0.8488,0.8605,0.8721,0.8837,0.8953,0.907,0.9186,0.9302,0.9419,0.9535,0.9651,0.9767,0.9884,1,1.0116,1.0233,1.0349,1.0465,1.0581,1.0698,1.0814,1.093,1.1047,1.1163,1.1279,1.1395,1.1512,1.1628,1.1744,1.186,1.1977,1.2093]\n",
    "i = [ dt.datetime(2019,8,2),  dt.datetime(2019,8,9),  dt.datetime(2019,8,16),  dt.datetime(2019,8,23),  dt.datetime(2019,8,30),  dt.datetime(2019,9,6),  dt.datetime(2019,9,20),  dt.datetime(2019,10,18),  dt.datetime(2019,11,15),  dt.datetime(2019,12,20),  dt.datetime(2019,12,31),  dt.datetime(2020,1,17),  dt.datetime(2020,3,20),  dt.datetime(2020,3,31),  dt.datetime(2020,6,19) ]\n",
    "d = [ [0.4244,0.4016,0.3796,0.3584,0.3381,0.3187,0.3002,0.2827,0.2662,0.2508,0.2363,0.2229,0.2105,0.1991,0.1888,0.1794,0.171,0.1636,0.157,0.1513,0.1465,0.1425,0.1393,0.1368,0.135,0.1338,0.1331,0.1329,0.133,0.1334,0.1341,0.135,0.136,0.1372,0.1384,0.1396],\n",
    "    [0.4006,0.3777,0.3556,0.3343,0.3139,0.2944,0.2759,0.2583,0.2418,0.2263,0.2118,0.1983,0.1859,0.1745,0.1641,0.1547,0.1463,0.1388,0.1322,0.1265,0.1216,0.1176,0.1143,0.1118,0.11,0.1088,0.1081,0.1078,0.108,0.1084,0.1092,0.1101,0.1112,0.1123,0.1136,0.1149],\n",
    "    [0.3431,0.3257,0.3089,0.2927,0.277,0.2621,0.2477,0.2341,0.2212,0.2089,0.1974,0.1866,0.1765,0.1671,0.1584,0.1504,0.1431,0.1364,0.1303,0.1248,0.1198,0.1154,0.1116,0.1083,0.1055,0.1032,0.1013,0.0998,0.0986,0.0977,0.0971,0.0966,0.0964,0.0963,0.0963,0.0965],\n",
    "    [0.3124,0.298,0.284,0.2705,0.2574,0.2449,0.2328,0.2213,0.2104,0.1999,0.1901,0.1807,0.1719,0.1637,0.156,0.1488,0.1421,0.136,0.1304,0.1253,0.1206,0.1165,0.1129,0.1098,0.1072,0.1049,0.1031,0.1015,0.1003,0.0994,0.0988,0.0983,0.098,0.0979,0.0978,0.0979],\n",
    "    [0.2955,0.283,0.2708,0.259,0.2475,0.2365,0.2259,0.2158,0.206,0.1968,0.1879,0.1795,0.1716,0.1641,0.1571,0.1505,0.1443,0.1385,0.1332,0.1284,0.124,0.1201,0.1167,0.1137,0.1111,0.1089,0.1071,0.1056,0.1044,0.1034,0.1027,0.1022,0.1019,0.1018,0.1017,0.1018],\n",
    "    [0.2866,0.2752,0.264,0.2532,0.2427,0.2326,0.2228,0.2134,0.2044,0.1958,0.1876,0.1798,0.1724,0.1653,0.1587,0.1524,0.1465,0.141,0.1359,0.1313,0.1271,0.1233,0.12,0.1171,0.1145,0.1124,0.1106,0.1091,0.1079,0.1069,0.1062,0.1057,0.1054,0.1052,0.1051,0.1051],\n",
    "    [0.2729,0.2632,0.2538,0.2446,0.2357,0.227,0.2187,0.2106,0.2028,0.1954,0.1882,0.1813,0.1748,0.1685,0.1626,0.1569,0.1516,0.1465,0.1418,0.1376,0.1336,0.1301,0.127,0.1242,0.1218,0.1197,0.1179,0.1164,0.1152,0.1143,0.1135,0.113,0.1126,0.1124,0.1122,0.1122],\n",
    "    [0.2548,0.2473,0.24,0.2329,0.226,0.2192,0.2126,0.2063,0.2001,0.1941,0.1883,0.1827,0.1773,0.1721,0.167,0.1622,0.1576,0.1532,0.149,0.1452,0.1416,0.1383,0.1354,0.1327,0.1303,0.1281,0.1262,0.1246,0.1232,0.122,0.121,0.1202,0.1195,0.119,0.1186,0.1183],\n",
    "    [0.2482,0.242,0.2359,0.2299,0.2241,0.2184,0.2128,0.2074,0.2021,0.1969,0.1919,0.187,0.1823,0.1777,0.1733,0.169,0.1649,0.1608,0.157,0.1535,0.1501,0.1471,0.1442,0.1415,0.1391,0.1369,0.135,0.1332,0.1316,0.1303,0.1291,0.128,0.1271,0.1263,0.1257,0.1252],\n",
    "    [0.2331,0.2278,0.2227,0.2176,0.2127,0.2078,0.2031,0.1984,0.1939,0.1895,0.1851,0.1809,0.1768,0.1728,0.1689,0.1652,0.1615,0.158,0.1547,0.1516,0.1486,0.1459,0.1433,0.1409,0.1387,0.1367,0.1349,0.1332,0.1317,0.1303,0.1291,0.128,0.127,0.1261,0.1254,0.1247],\n",
    "    [0.2313,0.2262,0.2212,0.2163,0.2115,0.2068,0.2022,0.1977,0.1932,0.1889,0.1847,0.1806,0.1766,0.1727,0.1689,0.1653,0.1617,0.1582,0.155,0.152,0.1491,0.1464,0.1438,0.1415,0.1393,0.1373,0.1354,0.1337,0.1322,0.1308,0.1296,0.1284,0.1274,0.1266,0.1258,0.1251],\n",
    "    [0.2302,0.2253,0.2206,0.216,0.2114,0.2069,0.2026,0.1983,0.1941,0.19,0.186,0.1821,0.1783,0.1745,0.1709,0.1674,0.164,0.1607,0.1576,0.1546,0.1518,0.1492,0.1467,0.1444,0.1423,0.1403,0.1384,0.1367,0.1351,0.1337,0.1324,0.1313,0.1302,0.1293,0.1285,0.1277],\n",
    "    [0.229,0.2249,0.2209,0.2169,0.213,0.2091,0.2054,0.2017,0.1981,0.1946,0.1911,0.1877,0.1845,0.1812,0.1781,0.175,0.172,0.1691,0.1664,0.1637,0.1611,0.1587,0.1563,0.1541,0.152,0.15,0.148,0.1462,0.1445,0.143,0.1415,0.1401,0.1388,0.1376,0.1365,0.1355],\n",
    "    [0.2289,0.2249,0.2209,0.2171,0.2133,0.2096,0.2059,0.2023,0.1988,0.1953,0.192,0.1887,0.1855,0.1823,0.1793,0.1763,0.1733,0.1705,0.1678,0.1651,0.1626,0.1602,0.1579,0.1557,0.1535,0.1515,0.1496,0.1478,0.1461,0.1445,0.143,0.1415,0.1402,0.139,0.1379,0.1368],\n",
    "    [0.2239,0.2207,0.2175,0.2143,0.2112,0.2082,0.2051,0.2022,0.1993,0.1964,0.1936,0.1909,0.1882,0.1855,0.1829,0.1804,0.1779,0.1755,0.1731,0.1708,0.1685,0.1663,0.1642,0.1622,0.1601,0.1582,0.1563,0.1545,0.1527,0.151,0.1494,0.1478,0.1464,0.1449,0.1436,0.1423]\n",
    "]\n",
    "df2 = pd.DataFrame(d, columns=c, index=i)"
   ]
  },
  {
   "cell_type": "code",
   "execution_count": 35,
   "id": "ac288090-6ba7-4cf1-8ba6-93ebbcb486dd",
   "metadata": {},
   "outputs": [
    {
     "data": {
      "text/html": [
       "<div>\n",
       "<style scoped>\n",
       "    .dataframe tbody tr th:only-of-type {\n",
       "        vertical-align: middle;\n",
       "    }\n",
       "\n",
       "    .dataframe tbody tr th {\n",
       "        vertical-align: top;\n",
       "    }\n",
       "\n",
       "    .dataframe thead th {\n",
       "        text-align: right;\n",
       "    }\n",
       "</style>\n",
       "<table border=\"1\" class=\"dataframe\">\n",
       "  <thead>\n",
       "    <tr style=\"text-align: right;\">\n",
       "      <th></th>\n",
       "      <th>0.8023</th>\n",
       "      <th>0.8140</th>\n",
       "      <th>0.8256</th>\n",
       "      <th>0.8372</th>\n",
       "      <th>0.8488</th>\n",
       "      <th>0.8605</th>\n",
       "      <th>0.8721</th>\n",
       "      <th>0.8837</th>\n",
       "      <th>0.8953</th>\n",
       "      <th>0.9070</th>\n",
       "      <th>...</th>\n",
       "      <th>1.1047</th>\n",
       "      <th>1.1163</th>\n",
       "      <th>1.1279</th>\n",
       "      <th>1.1395</th>\n",
       "      <th>1.1512</th>\n",
       "      <th>1.1628</th>\n",
       "      <th>1.1744</th>\n",
       "      <th>1.1860</th>\n",
       "      <th>1.1977</th>\n",
       "      <th>1.2093</th>\n",
       "    </tr>\n",
       "  </thead>\n",
       "  <tbody>\n",
       "    <tr>\n",
       "      <th>2019-08-02</th>\n",
       "      <td>0.4244</td>\n",
       "      <td>0.4016</td>\n",
       "      <td>0.3796</td>\n",
       "      <td>0.3584</td>\n",
       "      <td>0.3381</td>\n",
       "      <td>0.3187</td>\n",
       "      <td>0.3002</td>\n",
       "      <td>0.2827</td>\n",
       "      <td>0.2662</td>\n",
       "      <td>0.2508</td>\n",
       "      <td>...</td>\n",
       "      <td>0.1331</td>\n",
       "      <td>0.1329</td>\n",
       "      <td>0.1330</td>\n",
       "      <td>0.1334</td>\n",
       "      <td>0.1341</td>\n",
       "      <td>0.1350</td>\n",
       "      <td>0.1360</td>\n",
       "      <td>0.1372</td>\n",
       "      <td>0.1384</td>\n",
       "      <td>0.1396</td>\n",
       "    </tr>\n",
       "    <tr>\n",
       "      <th>2019-08-09</th>\n",
       "      <td>0.4006</td>\n",
       "      <td>0.3777</td>\n",
       "      <td>0.3556</td>\n",
       "      <td>0.3343</td>\n",
       "      <td>0.3139</td>\n",
       "      <td>0.2944</td>\n",
       "      <td>0.2759</td>\n",
       "      <td>0.2583</td>\n",
       "      <td>0.2418</td>\n",
       "      <td>0.2263</td>\n",
       "      <td>...</td>\n",
       "      <td>0.1081</td>\n",
       "      <td>0.1078</td>\n",
       "      <td>0.1080</td>\n",
       "      <td>0.1084</td>\n",
       "      <td>0.1092</td>\n",
       "      <td>0.1101</td>\n",
       "      <td>0.1112</td>\n",
       "      <td>0.1123</td>\n",
       "      <td>0.1136</td>\n",
       "      <td>0.1149</td>\n",
       "    </tr>\n",
       "    <tr>\n",
       "      <th>2019-08-16</th>\n",
       "      <td>0.3431</td>\n",
       "      <td>0.3257</td>\n",
       "      <td>0.3089</td>\n",
       "      <td>0.2927</td>\n",
       "      <td>0.2770</td>\n",
       "      <td>0.2621</td>\n",
       "      <td>0.2477</td>\n",
       "      <td>0.2341</td>\n",
       "      <td>0.2212</td>\n",
       "      <td>0.2089</td>\n",
       "      <td>...</td>\n",
       "      <td>0.1013</td>\n",
       "      <td>0.0998</td>\n",
       "      <td>0.0986</td>\n",
       "      <td>0.0977</td>\n",
       "      <td>0.0971</td>\n",
       "      <td>0.0966</td>\n",
       "      <td>0.0964</td>\n",
       "      <td>0.0963</td>\n",
       "      <td>0.0963</td>\n",
       "      <td>0.0965</td>\n",
       "    </tr>\n",
       "    <tr>\n",
       "      <th>2019-08-23</th>\n",
       "      <td>0.3124</td>\n",
       "      <td>0.2980</td>\n",
       "      <td>0.2840</td>\n",
       "      <td>0.2705</td>\n",
       "      <td>0.2574</td>\n",
       "      <td>0.2449</td>\n",
       "      <td>0.2328</td>\n",
       "      <td>0.2213</td>\n",
       "      <td>0.2104</td>\n",
       "      <td>0.1999</td>\n",
       "      <td>...</td>\n",
       "      <td>0.1031</td>\n",
       "      <td>0.1015</td>\n",
       "      <td>0.1003</td>\n",
       "      <td>0.0994</td>\n",
       "      <td>0.0988</td>\n",
       "      <td>0.0983</td>\n",
       "      <td>0.0980</td>\n",
       "      <td>0.0979</td>\n",
       "      <td>0.0978</td>\n",
       "      <td>0.0979</td>\n",
       "    </tr>\n",
       "    <tr>\n",
       "      <th>2019-08-30</th>\n",
       "      <td>0.2955</td>\n",
       "      <td>0.2830</td>\n",
       "      <td>0.2708</td>\n",
       "      <td>0.2590</td>\n",
       "      <td>0.2475</td>\n",
       "      <td>0.2365</td>\n",
       "      <td>0.2259</td>\n",
       "      <td>0.2158</td>\n",
       "      <td>0.2060</td>\n",
       "      <td>0.1968</td>\n",
       "      <td>...</td>\n",
       "      <td>0.1071</td>\n",
       "      <td>0.1056</td>\n",
       "      <td>0.1044</td>\n",
       "      <td>0.1034</td>\n",
       "      <td>0.1027</td>\n",
       "      <td>0.1022</td>\n",
       "      <td>0.1019</td>\n",
       "      <td>0.1018</td>\n",
       "      <td>0.1017</td>\n",
       "      <td>0.1018</td>\n",
       "    </tr>\n",
       "  </tbody>\n",
       "</table>\n",
       "<p>5 rows × 36 columns</p>\n",
       "</div>"
      ],
      "text/plain": [
       "            0.8023  0.8140  0.8256  0.8372  0.8488  0.8605  0.8721  0.8837  \\\n",
       "2019-08-02  0.4244  0.4016  0.3796  0.3584  0.3381  0.3187  0.3002  0.2827   \n",
       "2019-08-09  0.4006  0.3777  0.3556  0.3343  0.3139  0.2944  0.2759  0.2583   \n",
       "2019-08-16  0.3431  0.3257  0.3089  0.2927  0.2770  0.2621  0.2477  0.2341   \n",
       "2019-08-23  0.3124  0.2980  0.2840  0.2705  0.2574  0.2449  0.2328  0.2213   \n",
       "2019-08-30  0.2955  0.2830  0.2708  0.2590  0.2475  0.2365  0.2259  0.2158   \n",
       "\n",
       "            0.8953  0.9070  ...  1.1047  1.1163  1.1279  1.1395  1.1512  \\\n",
       "2019-08-02  0.2662  0.2508  ...  0.1331  0.1329  0.1330  0.1334  0.1341   \n",
       "2019-08-09  0.2418  0.2263  ...  0.1081  0.1078  0.1080  0.1084  0.1092   \n",
       "2019-08-16  0.2212  0.2089  ...  0.1013  0.0998  0.0986  0.0977  0.0971   \n",
       "2019-08-23  0.2104  0.1999  ...  0.1031  0.1015  0.1003  0.0994  0.0988   \n",
       "2019-08-30  0.2060  0.1968  ...  0.1071  0.1056  0.1044  0.1034  0.1027   \n",
       "\n",
       "            1.1628  1.1744  1.1860  1.1977  1.2093  \n",
       "2019-08-02  0.1350  0.1360  0.1372  0.1384  0.1396  \n",
       "2019-08-09  0.1101  0.1112  0.1123  0.1136  0.1149  \n",
       "2019-08-16  0.0966  0.0964  0.0963  0.0963  0.0965  \n",
       "2019-08-23  0.0983  0.0980  0.0979  0.0978  0.0979  \n",
       "2019-08-30  0.1022  0.1019  0.1018  0.1017  0.1018  \n",
       "\n",
       "[5 rows x 36 columns]"
      ]
     },
     "execution_count": 35,
     "metadata": {},
     "output_type": "execute_result"
    }
   ],
   "source": [
    "df2.head()"
   ]
  },
  {
   "cell_type": "code",
   "execution_count": 36,
   "id": "592900e5-c549-4154-b895-b71dba0cacee",
   "metadata": {},
   "outputs": [
    {
     "data": {
      "application/vnd.jupyter.widget-view+json": {
       "model_id": "70bcbddd55a845cfbec196c760719f11",
       "version_major": 2,
       "version_minor": 0
      },
      "text/plain": [
       "FigureWidget({\n",
       "    'data': [{'type': 'surface',\n",
       "              'uid': '8770c0a6-6dcc-41e7-a1e1-85902d9ed0a7',\n",
       "              'x': [2019-08-02, 2019-08-09, 2019-08-16, 2019-08-23, 2019-08-30,\n",
       "                    2019-09-06, 2019-09-20, 2019-10-18, 2019-11-15, 2019-12-20,\n",
       "                    2019-12-31, 2020-01-17, 2020-03-20, 2020-03-31, 2020-06-19],\n",
       "              'y': {'bdata': ('6pWyDHGs6T8/NV66SQzqP7N78rBQa+' ... 'XQItv58j8LtaZ5xynzP0XY8PRKWfM/'),\n",
       "                    'dtype': 'f8'},\n",
       "              'z': [[0.4244, 0.4016, 0.3796, 0.3584, 0.3381, 0.3187, 0.3002,\n",
       "                    0.2827, 0.2662, 0.2508, 0.2363, 0.2229, 0.2105, 0.1991, 0.1888,\n",
       "                    0.1794, 0.171, 0.1636, 0.157, 0.1513, 0.1465, 0.1425, 0.1393,\n",
       "                    0.1368, 0.135, 0.1338, 0.1331, 0.1329, 0.133, 0.1334, 0.1341,\n",
       "                    0.135, 0.136, 0.1372, 0.1384, 0.1396], [0.4006, 0.3777, 0.3556,\n",
       "                    0.3343, 0.3139, 0.2944, 0.2759, 0.2583, 0.2418, 0.2263, 0.2118,\n",
       "                    0.1983, 0.1859, 0.1745, 0.1641, 0.1547, 0.1463, 0.1388, 0.1322,\n",
       "                    0.1265, 0.1216, 0.1176, 0.1143, 0.1118, 0.11, 0.1088, 0.1081,\n",
       "                    0.1078, 0.108, 0.1084, 0.1092, 0.1101, 0.1112, 0.1123, 0.1136,\n",
       "                    0.1149], [0.3431, 0.3257, 0.3089, 0.2927, 0.277, 0.2621,\n",
       "                    0.2477, 0.2341, 0.2212, 0.2089, 0.1974, 0.1866, 0.1765, 0.1671,\n",
       "                    0.1584, 0.1504, 0.1431, 0.1364, 0.1303, 0.1248, 0.1198, 0.1154,\n",
       "                    0.1116, 0.1083, 0.1055, 0.1032, 0.1013, 0.0998, 0.0986, 0.0977,\n",
       "                    0.0971, 0.0966, 0.0964, 0.0963, 0.0963, 0.0965], [0.3124,\n",
       "                    0.298, 0.284, 0.2705, 0.2574, 0.2449, 0.2328, 0.2213, 0.2104,\n",
       "                    0.1999, 0.1901, 0.1807, 0.1719, 0.1637, 0.156, 0.1488, 0.1421,\n",
       "                    0.136, 0.1304, 0.1253, 0.1206, 0.1165, 0.1129, 0.1098, 0.1072,\n",
       "                    0.1049, 0.1031, 0.1015, 0.1003, 0.0994, 0.0988, 0.0983, 0.098,\n",
       "                    0.0979, 0.0978, 0.0979], [0.2955, 0.283, 0.2708, 0.259, 0.2475,\n",
       "                    0.2365, 0.2259, 0.2158, 0.206, 0.1968, 0.1879, 0.1795, 0.1716,\n",
       "                    0.1641, 0.1571, 0.1505, 0.1443, 0.1385, 0.1332, 0.1284, 0.124,\n",
       "                    0.1201, 0.1167, 0.1137, 0.1111, 0.1089, 0.1071, 0.1056, 0.1044,\n",
       "                    0.1034, 0.1027, 0.1022, 0.1019, 0.1018, 0.1017, 0.1018],\n",
       "                    [0.2866, 0.2752, 0.264, 0.2532, 0.2427, 0.2326, 0.2228, 0.2134,\n",
       "                    0.2044, 0.1958, 0.1876, 0.1798, 0.1724, 0.1653, 0.1587, 0.1524,\n",
       "                    0.1465, 0.141, 0.1359, 0.1313, 0.1271, 0.1233, 0.12, 0.1171,\n",
       "                    0.1145, 0.1124, 0.1106, 0.1091, 0.1079, 0.1069, 0.1062, 0.1057,\n",
       "                    0.1054, 0.1052, 0.1051, 0.1051], [0.2729, 0.2632, 0.2538,\n",
       "                    0.2446, 0.2357, 0.227, 0.2187, 0.2106, 0.2028, 0.1954, 0.1882,\n",
       "                    0.1813, 0.1748, 0.1685, 0.1626, 0.1569, 0.1516, 0.1465, 0.1418,\n",
       "                    0.1376, 0.1336, 0.1301, 0.127, 0.1242, 0.1218, 0.1197, 0.1179,\n",
       "                    0.1164, 0.1152, 0.1143, 0.1135, 0.113, 0.1126, 0.1124, 0.1122,\n",
       "                    0.1122], [0.2548, 0.2473, 0.24, 0.2329, 0.226, 0.2192, 0.2126,\n",
       "                    0.2063, 0.2001, 0.1941, 0.1883, 0.1827, 0.1773, 0.1721, 0.167,\n",
       "                    0.1622, 0.1576, 0.1532, 0.149, 0.1452, 0.1416, 0.1383, 0.1354,\n",
       "                    0.1327, 0.1303, 0.1281, 0.1262, 0.1246, 0.1232, 0.122, 0.121,\n",
       "                    0.1202, 0.1195, 0.119, 0.1186, 0.1183], [0.2482, 0.242, 0.2359,\n",
       "                    0.2299, 0.2241, 0.2184, 0.2128, 0.2074, 0.2021, 0.1969, 0.1919,\n",
       "                    0.187, 0.1823, 0.1777, 0.1733, 0.169, 0.1649, 0.1608, 0.157,\n",
       "                    0.1535, 0.1501, 0.1471, 0.1442, 0.1415, 0.1391, 0.1369, 0.135,\n",
       "                    0.1332, 0.1316, 0.1303, 0.1291, 0.128, 0.1271, 0.1263, 0.1257,\n",
       "                    0.1252], [0.2331, 0.2278, 0.2227, 0.2176, 0.2127, 0.2078,\n",
       "                    0.2031, 0.1984, 0.1939, 0.1895, 0.1851, 0.1809, 0.1768, 0.1728,\n",
       "                    0.1689, 0.1652, 0.1615, 0.158, 0.1547, 0.1516, 0.1486, 0.1459,\n",
       "                    0.1433, 0.1409, 0.1387, 0.1367, 0.1349, 0.1332, 0.1317, 0.1303,\n",
       "                    0.1291, 0.128, 0.127, 0.1261, 0.1254, 0.1247], [0.2313, 0.2262,\n",
       "                    0.2212, 0.2163, 0.2115, 0.2068, 0.2022, 0.1977, 0.1932, 0.1889,\n",
       "                    0.1847, 0.1806, 0.1766, 0.1727, 0.1689, 0.1653, 0.1617, 0.1582,\n",
       "                    0.155, 0.152, 0.1491, 0.1464, 0.1438, 0.1415, 0.1393, 0.1373,\n",
       "                    0.1354, 0.1337, 0.1322, 0.1308, 0.1296, 0.1284, 0.1274, 0.1266,\n",
       "                    0.1258, 0.1251], [0.2302, 0.2253, 0.2206, 0.216, 0.2114,\n",
       "                    0.2069, 0.2026, 0.1983, 0.1941, 0.19, 0.186, 0.1821, 0.1783,\n",
       "                    0.1745, 0.1709, 0.1674, 0.164, 0.1607, 0.1576, 0.1546, 0.1518,\n",
       "                    0.1492, 0.1467, 0.1444, 0.1423, 0.1403, 0.1384, 0.1367, 0.1351,\n",
       "                    0.1337, 0.1324, 0.1313, 0.1302, 0.1293, 0.1285, 0.1277],\n",
       "                    [0.229, 0.2249, 0.2209, 0.2169, 0.213, 0.2091, 0.2054, 0.2017,\n",
       "                    0.1981, 0.1946, 0.1911, 0.1877, 0.1845, 0.1812, 0.1781, 0.175,\n",
       "                    0.172, 0.1691, 0.1664, 0.1637, 0.1611, 0.1587, 0.1563, 0.1541,\n",
       "                    0.152, 0.15, 0.148, 0.1462, 0.1445, 0.143, 0.1415, 0.1401,\n",
       "                    0.1388, 0.1376, 0.1365, 0.1355], [0.2289, 0.2249, 0.2209,\n",
       "                    0.2171, 0.2133, 0.2096, 0.2059, 0.2023, 0.1988, 0.1953, 0.192,\n",
       "                    0.1887, 0.1855, 0.1823, 0.1793, 0.1763, 0.1733, 0.1705, 0.1678,\n",
       "                    0.1651, 0.1626, 0.1602, 0.1579, 0.1557, 0.1535, 0.1515, 0.1496,\n",
       "                    0.1478, 0.1461, 0.1445, 0.143, 0.1415, 0.1402, 0.139, 0.1379,\n",
       "                    0.1368], [0.2239, 0.2207, 0.2175, 0.2143, 0.2112, 0.2082,\n",
       "                    0.2051, 0.2022, 0.1993, 0.1964, 0.1936, 0.1909, 0.1882, 0.1855,\n",
       "                    0.1829, 0.1804, 0.1779, 0.1755, 0.1731, 0.1708, 0.1685, 0.1663,\n",
       "                    0.1642, 0.1622, 0.1601, 0.1582, 0.1563, 0.1545, 0.1527, 0.151,\n",
       "                    0.1494, 0.1478, 0.1464, 0.1449, 0.1436, 0.1423]]}],\n",
       "    'layout': {'autosize': True,\n",
       "               'height': 700,\n",
       "               'margin': {'b': 65, 'l': 65, 'r': 50, 't': 90},\n",
       "               'scene': {'aspectratio': {'x': 1, 'y': 1, 'z': 0.667}},\n",
       "               'template': '...',\n",
       "               'title': {'text': 'Vol Surface'},\n",
       "               'width': 900}\n",
       "})"
      ]
     },
     "execution_count": 36,
     "metadata": {},
     "output_type": "execute_result"
    }
   ],
   "source": [
    "import plotly.graph_objs as go\n",
    "\n",
    "fig = go.Figure(\n",
    "    data=[ go.Surface(\n",
    "        z=df2.values.tolist(),\n",
    "        y=df2.columns.values,\n",
    "        x=df2.index.astype(str).values.tolist()\n",
    "    )],\n",
    "    layout=dict(\n",
    "        title = 'Vol Surface', \n",
    "        autosize = True,\n",
    "        width = 900,\n",
    "        height = 700,\n",
    "        margin = dict(\n",
    "            l = 65,\n",
    "            r = 50,\n",
    "            b = 65,\n",
    "            t = 90\n",
    "        ),\n",
    "        scene = dict(\n",
    "            aspectratio = dict(\n",
    "                x = 1,\n",
    "                y = 1,\n",
    "                z = 0.667\n",
    "            )\n",
    "        )\n",
    "    ))\n",
    "\n",
    "go.FigureWidget(fig)"
   ]
  },
  {
   "cell_type": "code",
   "execution_count": null,
   "id": "3e45d66e-b56d-4ef7-8461-ae7fd6e5294e",
   "metadata": {},
   "outputs": [],
   "source": []
  }
 ],
 "metadata": {
  "kernelspec": {
   "display_name": "Python 3 (ipykernel)",
   "language": "python",
   "name": "python3"
  },
  "language_info": {
   "codemirror_mode": {
    "name": "ipython",
    "version": 3
   },
   "file_extension": ".py",
   "mimetype": "text/x-python",
   "name": "python",
   "nbconvert_exporter": "python",
   "pygments_lexer": "ipython3",
   "version": "3.12.5"
  }
 },
 "nbformat": 4,
 "nbformat_minor": 5
}
